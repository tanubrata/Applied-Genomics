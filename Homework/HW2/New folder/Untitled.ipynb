{
 "cells": [
  {
   "cell_type": "code",
   "execution_count": 1,
   "metadata": {},
   "outputs": [
    {
     "name": "stdout",
     "output_type": "stream",
     "text": [
      "/scratch/td2201/appl_genomics/week_4\n"
     ]
    }
   ],
   "source": [
    "pwd"
   ]
  },
  {
   "cell_type": "code",
   "execution_count": 2,
   "metadata": {},
   "outputs": [],
   "source": [
    "mkdir {data,result}"
   ]
  },
  {
   "cell_type": "code",
   "execution_count": 3,
   "metadata": {},
   "outputs": [
    {
     "name": "stdout",
     "output_type": "stream",
     "text": [
      "/scratch/td2201/appl_genomics\n"
     ]
    }
   ],
   "source": [
    "cd ../\n",
    "pwd"
   ]
  },
  {
   "cell_type": "code",
   "execution_count": 4,
   "metadata": {},
   "outputs": [],
   "source": [
    "cd /scratch/td2201/appl_genomics/week_4/data/"
   ]
  },
  {
   "cell_type": "code",
   "execution_count": 5,
   "metadata": {},
   "outputs": [
    {
     "name": "stdout",
     "output_type": "stream",
     "text": [
      "/scratch/td2201/appl_genomics/week_4/data\n"
     ]
    }
   ],
   "source": [
    "pwd"
   ]
  },
  {
   "cell_type": "code",
   "execution_count": 1,
   "metadata": {},
   "outputs": [],
   "source": [
    "cp -r /scratch/work/courses/AppliedGenomics2021Sec3/assignment02/* /scratch/td2201/appl_genomics/week_4/data/"
   ]
  },
  {
   "cell_type": "code",
   "execution_count": 7,
   "metadata": {},
   "outputs": [
    {
     "name": "stdout",
     "output_type": "stream",
     "text": [
      "total 310M\n",
      "-rw-r--r-- 1 td2201 td2201 81M Feb 26 21:21 chr17.fa\n",
      "-rw-r--r-- 1 td2201 td2201 72M Feb 26 21:21 chr17.gtf\n",
      "-rw-r--r-- 1 td2201 td2201 80M Feb 26 21:21 read_1.fastq\n",
      "-rw-r--r-- 1 td2201 td2201 79M Feb 26 21:21 read_2.fastq\n"
     ]
    }
   ],
   "source": [
    "ls -lh"
   ]
  },
  {
   "cell_type": "code",
   "execution_count": 3,
   "metadata": {},
   "outputs": [
    {
     "name": "stdout",
     "output_type": "stream",
     "text": [
      "\n",
      "Currently Loaded Modules:\n",
      "  1) trimmomatic/0.39      6) star/intel/2.7.6a   11) bwa/intel/0.7.17\n",
      "  2) bowtie2/2.4.2         7) hisat2/2.2.1        12) jdk/1.8.0_271\n",
      "  3) perl/intel/5.32.0     8) python/intel/3.8.6  13) picard/2.23.8\n",
      "  4) htslib/intel/1.11.0   9) fastqc/0.11.9\n",
      "  5) samtools/intel/1.11  10) intel/19.1.2\n",
      "\n",
      " \n",
      "\n"
     ]
    }
   ],
   "source": [
    "module purge\n",
    "module load trimmomatic/0.39\n",
    "module load bowtie2/2.4.2\n",
    "module load samtools/intel/1.11\n",
    "module load star/intel/2.7.6a\n",
    "module load hisat2/2.2.1\n",
    "module load python/intel/3.8.6\n",
    "module load fastqc/0.11.9\n",
    "module load bwa/intel/0.7.17\n",
    "module load picard/2.23.8\n",
    "module list"
   ]
  },
  {
   "cell_type": "code",
   "execution_count": 9,
   "metadata": {},
   "outputs": [],
   "source": [
    "mkdir fastqc"
   ]
  },
  {
   "cell_type": "code",
   "execution_count": 10,
   "metadata": {},
   "outputs": [
    {
     "name": "stdout",
     "output_type": "stream",
     "text": [
      "/scratch/td2201/appl_genomics/week_4/data\n"
     ]
    }
   ],
   "source": [
    "pwd"
   ]
  },
  {
   "cell_type": "code",
   "execution_count": 11,
   "metadata": {},
   "outputs": [
    {
     "name": "stdout",
     "output_type": "stream",
     "text": [
      "Started analysis of read_1.fastq\n",
      "Approx 5% complete for read_1.fastq\n",
      "Approx 10% complete for read_1.fastq\n",
      "Approx 15% complete for read_1.fastq\n",
      "Approx 20% complete for read_1.fastq\n",
      "Approx 25% complete for read_1.fastq\n",
      "Approx 30% complete for read_1.fastq\n",
      "Approx 35% complete for read_1.fastq\n",
      "Approx 40% complete for read_1.fastq\n",
      "Approx 45% complete for read_1.fastq\n",
      "Approx 50% complete for read_1.fastq\n",
      "Approx 55% complete for read_1.fastq\n",
      "Approx 60% complete for read_1.fastq\n",
      "Approx 65% complete for read_1.fastq\n",
      "Approx 70% complete for read_1.fastq\n",
      "Approx 75% complete for read_1.fastq\n",
      "Approx 80% complete for read_1.fastq\n",
      "Approx 85% complete for read_1.fastq\n",
      "Approx 90% complete for read_1.fastq\n",
      "Approx 95% complete for read_1.fastq\n",
      "Analysis complete for read_1.fastq\n"
     ]
    }
   ],
   "source": [
    "fastqc read_1.fastq -o fastqc/"
   ]
  },
  {
   "cell_type": "code",
   "execution_count": 12,
   "metadata": {},
   "outputs": [
    {
     "name": "stdout",
     "output_type": "stream",
     "text": [
      "Started analysis of read_2.fastq\n",
      "Approx 5% complete for read_2.fastq\n",
      "Approx 10% complete for read_2.fastq\n",
      "Approx 15% complete for read_2.fastq\n",
      "Approx 20% complete for read_2.fastq\n",
      "Approx 25% complete for read_2.fastq\n",
      "Approx 30% complete for read_2.fastq\n",
      "Approx 35% complete for read_2.fastq\n",
      "Approx 40% complete for read_2.fastq\n",
      "Approx 45% complete for read_2.fastq\n",
      "Approx 50% complete for read_2.fastq\n",
      "Approx 55% complete for read_2.fastq\n",
      "Approx 60% complete for read_2.fastq\n",
      "Approx 65% complete for read_2.fastq\n",
      "Approx 70% complete for read_2.fastq\n",
      "Approx 75% complete for read_2.fastq\n",
      "Approx 80% complete for read_2.fastq\n",
      "Approx 85% complete for read_2.fastq\n",
      "Approx 90% complete for read_2.fastq\n",
      "Approx 95% complete for read_2.fastq\n",
      "Analysis complete for read_2.fastq\n"
     ]
    }
   ],
   "source": [
    "fastqc read_2.fastq -o fastqc/"
   ]
  },
  {
   "cell_type": "code",
   "execution_count": 13,
   "metadata": {},
   "outputs": [
    {
     "name": "stdout",
     "output_type": "stream",
     "text": [
      "/scratch/td2201/appl_genomics/week_4/data\n"
     ]
    }
   ],
   "source": [
    "pwd"
   ]
  },
  {
   "cell_type": "code",
   "execution_count": 14,
   "metadata": {},
   "outputs": [],
   "source": [
    "mkdir chr17_Star"
   ]
  },
  {
   "cell_type": "code",
   "execution_count": 15,
   "metadata": {},
   "outputs": [
    {
     "name": "stdout",
     "output_type": "stream",
     "text": [
      "Feb 26 21:30:51 ..... started STAR run\n",
      "Feb 26 21:30:51 ... starting to generate Genome files\n",
      "Feb 26 21:30:53 ... starting to sort Suffix Array. This may take a long time...\n",
      "Feb 26 21:30:53 ... sorting Suffix Array chunks and saving them to disk...\n",
      "Feb 26 21:32:32 ... loading chunks from disk, packing SA...\n",
      "Feb 26 21:32:34 ... finished generating suffix array\n",
      "Feb 26 21:32:34 ... generating Suffix Array index\n",
      "Feb 26 21:32:38 ... completed Suffix Array index\n",
      "Feb 26 21:32:38 ... writing Genome to disk ...\n",
      "Feb 26 21:32:38 ... writing Suffix Array to disk ...\n",
      "Feb 26 21:32:38 ... writing SAindex to disk\n",
      "Feb 26 21:32:38 ..... finished successfully\n"
     ]
    }
   ],
   "source": [
    "STAR --runThreadN 2 \\\n",
    "--runMode genomeGenerate \\\n",
    "--genomeSAindexNbases 11 \\\n",
    "--genomeDir chr17_Star/ \\\n",
    "--genomeFastaFiles chr17.fa"
   ]
  },
  {
   "cell_type": "code",
   "execution_count": 16,
   "metadata": {},
   "outputs": [],
   "source": [
    "mkdir ../result/Star"
   ]
  },
  {
   "cell_type": "code",
   "execution_count": 17,
   "metadata": {},
   "outputs": [
    {
     "name": "stdout",
     "output_type": "stream",
     "text": [
      "Feb 26 21:42:32 ..... started STAR run\n",
      "Feb 26 21:42:34 ..... loading genome\n",
      "Feb 26 21:42:35 ..... started mapping\n",
      "Feb 26 21:43:38 ..... finished mapping\n",
      "Feb 26 21:43:39 ..... started sorting BAM\n",
      "Feb 26 21:43:42 ..... finished successfully\n"
     ]
    }
   ],
   "source": [
    "STAR --genomeDir chr17_Star \\\n",
    "--runThreadN 2 \\\n",
    "--readFilesIn read_1.fastq read_2.fastq \\\n",
    "--outFileNamePrefix ../result/Star/ \\\n",
    "--outSAMtype BAM SortedByCoordinate \\\n",
    "--outSAMunmapped Within \\\n",
    "--outSAMattributes Standard"
   ]
  },
  {
   "cell_type": "code",
   "execution_count": 18,
   "metadata": {},
   "outputs": [
    {
     "name": "stdout",
     "output_type": "stream",
     "text": [
      "752592 + 0 in total (QC-passed reads + QC-failed reads)\n",
      "15952 + 0 secondary\n",
      "0 + 0 supplementary\n",
      "0 + 0 duplicates\n",
      "751178 + 0 mapped (99.81% : N/A)\n",
      "736640 + 0 paired in sequencing\n",
      "368320 + 0 read1\n",
      "368320 + 0 read2\n",
      "735224 + 0 properly paired (99.81% : N/A)\n",
      "735224 + 0 with itself and mate mapped\n",
      "2 + 0 singletons (0.00% : N/A)\n",
      "0 + 0 with mate mapped to a different chr\n",
      "0 + 0 with mate mapped to a different chr (mapQ>=5)\n"
     ]
    }
   ],
   "source": [
    "samtools flagstat ../result/Star/Aligned.sortedByCoord.out.bam"
   ]
  },
  {
   "cell_type": "code",
   "execution_count": 19,
   "metadata": {},
   "outputs": [],
   "source": [
    "samtools flagstat ../result/Star/Aligned.sortedByCoord.out.bam > ../chr17_Star.txt"
   ]
  },
  {
   "cell_type": "code",
   "execution_count": 20,
   "metadata": {},
   "outputs": [],
   "source": [
    "mkdir ../result/Star_sjdb"
   ]
  },
  {
   "cell_type": "code",
   "execution_count": 21,
   "metadata": {},
   "outputs": [
    {
     "name": "stdout",
     "output_type": "stream",
     "text": [
      "/scratch/td2201/appl_genomics/week_4/data\n"
     ]
    }
   ],
   "source": [
    "pwd"
   ]
  },
  {
   "cell_type": "code",
   "execution_count": 22,
   "metadata": {},
   "outputs": [],
   "source": [
    "mkdir chr17_Star_sjdb"
   ]
  },
  {
   "cell_type": "code",
   "execution_count": 14,
   "metadata": {},
   "outputs": [
    {
     "name": "stdout",
     "output_type": "stream",
     "text": [
      "Feb 26 23:02:52 ..... started STAR run\n",
      "Feb 26 23:02:52 ... starting to generate Genome files\n",
      "Feb 26 23:02:54 ..... processing annotations GTF\n",
      "Feb 26 23:02:55 ... starting to sort Suffix Array. This may take a long time...\n",
      "Feb 26 23:02:55 ... sorting Suffix Array chunks and saving them to disk...\n",
      "Feb 26 23:04:33 ... loading chunks from disk, packing SA...\n",
      "Feb 26 23:04:35 ... finished generating suffix array\n",
      "Feb 26 23:04:35 ... generating Suffix Array index\n",
      "Feb 26 23:04:39 ... completed Suffix Array index\n",
      "Feb 26 23:04:39 ..... inserting junctions into the genome indices\n",
      "Feb 26 23:05:02 ... writing Genome to disk ...\n",
      "Feb 26 23:05:02 ... writing Suffix Array to disk ...\n",
      "Feb 26 23:05:02 ... writing SAindex to disk\n",
      "Feb 26 23:05:02 ..... finished successfully\n"
     ]
    }
   ],
   "source": [
    "STAR --runThreadN 2 \\\n",
    "--runMode genomeGenerate \\\n",
    "--genomeSAindexNbases 11 \\\n",
    "--genomeDir chr17_Star_sjdb \\\n",
    "--genomeFastaFiles chr17.fa \\\n",
    "--sjdbGTFfile chr17.gtf \\\n",
    "--sjdbOverhang 99"
   ]
  },
  {
   "cell_type": "code",
   "execution_count": 15,
   "metadata": {},
   "outputs": [
    {
     "name": "stdout",
     "output_type": "stream",
     "text": [
      "Feb 26 23:05:10 ..... started STAR run\n",
      "Feb 26 23:05:10 ..... loading genome\n",
      "Feb 26 23:05:11 ..... started mapping\n",
      "Feb 26 23:06:10 ..... finished mapping\n",
      "Feb 26 23:06:11 ..... started sorting BAM\n",
      "Feb 26 23:06:14 ..... finished successfully\n"
     ]
    }
   ],
   "source": [
    "STAR --genomeDir chr17_Star_sjdb \\\n",
    "--runThreadN 2 \\\n",
    "--readFilesIn read_1.fastq read_2.fastq \\\n",
    "--outFileNamePrefix ../result/Star_sjdb/ \\\n",
    "--outSAMtype BAM SortedByCoordinate \\\n",
    "--outSAMunmapped Within \\\n",
    "--outSAMattributes Standard"
   ]
  },
  {
   "cell_type": "code",
   "execution_count": 16,
   "metadata": {},
   "outputs": [
    {
     "name": "stdout",
     "output_type": "stream",
     "text": [
      "751688 + 0 in total (QC-passed reads + QC-failed reads)\n",
      "15048 + 0 secondary\n",
      "0 + 0 supplementary\n",
      "0 + 0 duplicates\n",
      "751420 + 0 mapped (99.96% : N/A)\n",
      "736640 + 0 paired in sequencing\n",
      "368320 + 0 read1\n",
      "368320 + 0 read2\n",
      "736370 + 0 properly paired (99.96% : N/A)\n",
      "736370 + 0 with itself and mate mapped\n",
      "2 + 0 singletons (0.00% : N/A)\n",
      "0 + 0 with mate mapped to a different chr\n",
      "0 + 0 with mate mapped to a different chr (mapQ>=5)\n"
     ]
    }
   ],
   "source": [
    "samtools flagstat ../result/Star_sjdb/Aligned.sortedByCoord.out.bam"
   ]
  },
  {
   "cell_type": "code",
   "execution_count": 17,
   "metadata": {},
   "outputs": [],
   "source": [
    "samtools flagstat ../result/Star_sjdb/Aligned.sortedByCoord.out.bam > ../chr17_Star_sjdb.txt"
   ]
  },
  {
   "cell_type": "code",
   "execution_count": 18,
   "metadata": {},
   "outputs": [
    {
     "name": "stdout",
     "output_type": "stream",
     "text": [
      "/scratch/td2201/appl_genomics/week_4/data\n"
     ]
    }
   ],
   "source": [
    "pwd\n"
   ]
  },
  {
   "cell_type": "code",
   "execution_count": 19,
   "metadata": {},
   "outputs": [],
   "source": [
    "mkdir chr17_hisat2"
   ]
  },
  {
   "cell_type": "code",
   "execution_count": 20,
   "metadata": {},
   "outputs": [],
   "source": [
    "mkdir ../result/hisat2"
   ]
  },
  {
   "cell_type": "code",
   "execution_count": 22,
   "metadata": {},
   "outputs": [
    {
     "name": "stdout",
     "output_type": "stream",
     "text": [
      "total 310M\n",
      "-rw-r--r-- 1 td2201 td2201  81M Feb 26 22:53 chr17.fa\n",
      "-rw-r--r-- 1 td2201 td2201  72M Feb 26 22:53 chr17.gtf\n",
      "drwxrwsr-x 2 td2201 td2201 4.0K Feb 26 21:32 chr17_Star\n",
      "drwxrwsr-x 2 td2201 td2201 4.0K Feb 26 23:04 chr17_Star_sjdb\n",
      "drwxrwsr-x 2 td2201 td2201 4.0K Feb 26 23:09 chr17_hisat2\n",
      "drwxrwsr-x 3 td2201 td2201 4.0K Feb 26 21:26 fastqc\n",
      "-rw-r--r-- 1 td2201 td2201  80M Feb 26 22:53 read_1.fastq\n",
      "-rw-r--r-- 1 td2201 td2201  79M Feb 26 22:53 read_2.fastq\n"
     ]
    }
   ],
   "source": [
    "ls -lh"
   ]
  },
  {
   "cell_type": "code",
   "execution_count": 23,
   "metadata": {},
   "outputs": [
    {
     "name": "stdout",
     "output_type": "stream",
     "text": [
      "Settings:\n",
      "  Output files: \"chr17_hisat2/chr17_hisat2.*.ht2\"\n",
      "  Line rate: 6 (line is 64 bytes)\n",
      "  Lines per side: 1 (side is 64 bytes)\n",
      "  Offset rate: 4 (one in 16)\n",
      "  FTable chars: 10\n",
      "  Strings: unpacked\n",
      "  Local offset rate: 3 (one in 8)\n",
      "  Local fTable chars: 6\n",
      "  Local sequence length: 57344\n",
      "  Local sequence overlap between two consecutive indexes: 1024\n",
      "  Endianness: little\n",
      "  Actual local endianness: little\n",
      "  Sanity checking: disabled\n",
      "  Assertions: disabled\n",
      "  Random seed: 0\n",
      "  Sizeofs: void*:8, int:4, long:8, size_t:8\n",
      "Input files DNA, FASTA:\n",
      "  chr17.fa\n",
      "Reading reference sizes\n",
      "  Time reading reference sizes: 00:00:01\n",
      "Calculating joined length\n",
      "Writing header\n",
      "Reserving space for joined string\n",
      "Joining reference sequences\n",
      "  Time to join reference sequences: 00:00:00\n",
      "  Time to read SNPs and splice sites: 00:00:00\n",
      "Using parameters --bmax 15547539 --dcv 1024\n",
      "  Doing ahead-of-time memory usage test\n",
      "  Passed!  Constructing with these parameters: --bmax 15547539 --dcv 1024\n",
      "Constructing suffix-array element generator\n",
      "Building DifferenceCoverSample\n",
      "  Building sPrime\n",
      "  Building sPrimeOrder\n",
      "  V-Sorting samples\n",
      "  V-Sorting samples time: 00:00:02\n",
      "  Allocating rank array\n",
      "  Ranking v-sort output\n",
      "  Ranking v-sort output time: 00:00:00\n",
      "  Invoking Larsson-Sadakane on ranks\n",
      "  Invoking Larsson-Sadakane on ranks time: 00:00:01\n",
      "  Sanity-checking and returning\n",
      "Building samples\n",
      "Reserving space for 12 sample suffixes\n",
      "Generating random suffixes\n",
      "QSorting 12 sample offsets, eliminating duplicates\n",
      "QSorting sample offsets, eliminating duplicates time: 00:00:00\n",
      "Multikey QSorting 12 samples\n",
      "  (Using difference cover)\n",
      "  Multikey QSorting samples time: 00:00:00\n",
      "Calculating bucket sizes\n",
      "Splitting and merging\n",
      "  Splitting and merging time: 00:00:00\n",
      "Split 1, merged 6; iterating...\n",
      "Splitting and merging\n",
      "  Splitting and merging time: 00:00:00\n",
      "Avg bucket size: 1.0365e+07 (target: 15547538)\n",
      "Converting suffix-array elements to index image\n",
      "Allocating ftab, absorbFtab\n",
      "Entering GFM loop\n",
      "Getting block 1 of 8\n",
      "  Reserving size (15547539) for bucket 1\n",
      "  Calculating Z arrays for bucket 1\n",
      "  Entering block accumulator loop for bucket 1:\n",
      "  bucket 1: 10%\n",
      "  bucket 1: 20%\n",
      "  bucket 1: 30%\n",
      "  bucket 1: 40%\n",
      "  bucket 1: 50%\n",
      "  bucket 1: 60%\n",
      "  bucket 1: 70%\n",
      "  bucket 1: 80%\n",
      "  bucket 1: 90%\n",
      "  bucket 1: 100%\n",
      "  Sorting block of length 6202422 for bucket 1\n",
      "  (Using difference cover)\n",
      "  Sorting block time: 00:00:03\n",
      "Returning block of 6202423 for bucket 1\n",
      "Getting block 2 of 8\n",
      "  Reserving size (15547539) for bucket 2\n",
      "  Calculating Z arrays for bucket 2\n",
      "  Entering block accumulator loop for bucket 2:\n",
      "  bucket 2: 10%\n",
      "  bucket 2: 20%\n",
      "  bucket 2: 30%\n",
      "  bucket 2: 40%\n",
      "  bucket 2: 50%\n",
      "  bucket 2: 60%\n",
      "  bucket 2: 70%\n",
      "  bucket 2: 80%\n",
      "  bucket 2: 90%\n",
      "  bucket 2: 100%\n",
      "  Sorting block of length 9523099 for bucket 2\n",
      "  (Using difference cover)\n",
      "  Sorting block time: 00:00:04\n",
      "Returning block of 9523100 for bucket 2\n",
      "Getting block 3 of 8\n",
      "  Reserving size (15547539) for bucket 3\n",
      "  Calculating Z arrays for bucket 3\n",
      "  Entering block accumulator loop for bucket 3:\n",
      "  bucket 3: 10%\n",
      "  bucket 3: 20%\n",
      "  bucket 3: 30%\n",
      "  bucket 3: 40%\n",
      "  bucket 3: 50%\n",
      "  bucket 3: 60%\n",
      "  bucket 3: 70%\n",
      "  bucket 3: 80%\n",
      "  bucket 3: 90%\n",
      "  bucket 3: 100%\n",
      "  Sorting block of length 7611579 for bucket 3\n",
      "  (Using difference cover)\n",
      "  Sorting block time: 00:00:03\n",
      "Returning block of 7611580 for bucket 3\n",
      "Getting block 4 of 8\n",
      "  Reserving size (15547539) for bucket 4\n",
      "  Calculating Z arrays for bucket 4\n",
      "  Entering block accumulator loop for bucket 4:\n",
      "  bucket 4: 10%\n",
      "  bucket 4: 20%\n",
      "  bucket 4: 30%\n",
      "  bucket 4: 40%\n",
      "  bucket 4: 50%\n",
      "  bucket 4: 60%\n",
      "  bucket 4: 70%\n",
      "  bucket 4: 80%\n",
      "  bucket 4: 90%\n",
      "  bucket 4: 100%\n",
      "  Sorting block of length 9634916 for bucket 4\n",
      "  (Using difference cover)\n",
      "  Sorting block time: 00:00:03\n",
      "Returning block of 9634917 for bucket 4\n",
      "Getting block 5 of 8\n",
      "  Reserving size (15547539) for bucket 5\n",
      "  Calculating Z arrays for bucket 5\n",
      "  Entering block accumulator loop for bucket 5:\n",
      "  bucket 5: 10%\n",
      "  bucket 5: 20%\n",
      "  bucket 5: 30%\n",
      "  bucket 5: 40%\n",
      "  bucket 5: 50%\n",
      "  bucket 5: 60%\n",
      "  bucket 5: 70%\n",
      "  bucket 5: 80%\n",
      "  bucket 5: 90%\n",
      "  bucket 5: 100%\n",
      "  Sorting block of length 13344977 for bucket 5\n",
      "  (Using difference cover)\n",
      "  Sorting block time: 00:00:06\n",
      "Returning block of 13344978 for bucket 5\n",
      "Getting block 6 of 8\n",
      "  Reserving size (15547539) for bucket 6\n",
      "  Calculating Z arrays for bucket 6\n",
      "  Entering block accumulator loop for bucket 6:\n",
      "  bucket 6: 10%\n",
      "  bucket 6: 20%\n",
      "  bucket 6: 30%\n",
      "  bucket 6: 40%\n",
      "  bucket 6: 50%\n",
      "  bucket 6: 60%\n",
      "  bucket 6: 70%\n",
      "  bucket 6: 80%\n",
      "  bucket 6: 90%\n",
      "  bucket 6: 100%\n",
      "  Sorting block of length 14395028 for bucket 6\n",
      "  (Using difference cover)\n",
      "  Sorting block time: 00:00:06\n",
      "Returning block of 14395029 for bucket 6\n",
      "Getting block 7 of 8\n",
      "  Reserving size (15547539) for bucket 7\n",
      "  Calculating Z arrays for bucket 7\n",
      "  Entering block accumulator loop for bucket 7:\n",
      "  bucket 7: 10%\n",
      "  bucket 7: 20%\n",
      "  bucket 7: 30%\n",
      "  bucket 7: 40%\n",
      "  bucket 7: 50%\n",
      "  bucket 7: 60%\n",
      "  bucket 7: 70%\n",
      "  bucket 7: 80%\n",
      "  bucket 7: 90%\n",
      "  bucket 7: 100%\n",
      "  Sorting block of length 12209366 for bucket 7\n",
      "  (Using difference cover)\n",
      "  Sorting block time: 00:00:05\n",
      "Returning block of 12209367 for bucket 7\n",
      "Getting block 8 of 8\n",
      "  Reserving size (15547539) for bucket 8\n",
      "  Calculating Z arrays for bucket 8\n",
      "  Entering block accumulator loop for bucket 8:\n",
      "  bucket 8: 10%\n",
      "  bucket 8: 20%\n",
      "  bucket 8: 30%\n",
      "  bucket 8: 40%\n",
      "  bucket 8: 50%\n",
      "  bucket 8: 60%\n",
      "  bucket 8: 70%\n",
      "  bucket 8: 80%\n",
      "  bucket 8: 90%\n",
      "  bucket 8: 100%\n",
      "  Sorting block of length 9998810 for bucket 8\n",
      "  (Using difference cover)\n",
      "  Sorting block time: 00:00:04\n",
      "Returning block of 9998811 for bucket 8\n",
      "Exited GFM loop\n",
      "fchr[A]: 0\n",
      "fchr[C]: 22639499\n",
      "fchr[G]: 41363443\n",
      "fchr[T]: 60214943\n",
      "fchr[$]: 82920204\n",
      "Exiting GFM::buildToDisk()\n",
      "Returning from initFromVector\n",
      "Wrote 31835168 bytes to primary GFM file: chr17_hisat2/chr17_hisat2.1.ht2\n",
      "Wrote 20730056 bytes to secondary GFM file: chr17_hisat2/chr17_hisat2.2.ht2\n",
      "Re-opening _in1 and _in2 as input streams\n",
      "Returning from GFM constructor\n",
      "Returning from initFromVector\n",
      "Wrote 36430051 bytes to primary GFM file: chr17_hisat2/chr17_hisat2.5.ht2\n",
      "Wrote 21109556 bytes to secondary GFM file: chr17_hisat2/chr17_hisat2.6.ht2\n",
      "Re-opening _in5 and _in5 as input streams\n",
      "Returning from HGFM constructor\n",
      "Headers:\n",
      "    len: 82920204\n",
      "    gbwtLen: 82920205\n",
      "    nodes: 82920205\n",
      "    sz: 20730051\n",
      "    gbwtSz: 20730052\n",
      "    lineRate: 6\n",
      "    offRate: 4\n",
      "    offMask: 0xfffffff0\n",
      "    ftabChars: 10\n",
      "    eftabLen: 0\n",
      "    eftabSz: 0\n",
      "    ftabLen: 1048577\n",
      "    ftabSz: 4194308\n",
      "    offsLen: 5182513\n",
      "    offsSz: 20730052\n",
      "    lineSz: 64\n",
      "    sideSz: 64\n",
      "    sideGbwtSz: 48\n",
      "    sideGbwtLen: 192\n",
      "    numSides: 431877\n",
      "    numLines: 431877\n",
      "    gbwtTotLen: 27640128\n",
      "    gbwtTotSz: 27640128\n",
      "    reverse: 0\n",
      "    linearFM: Yes\n",
      "Total time for call to driver() for forward index: 00:01:17\n"
     ]
    }
   ],
   "source": [
    "hisat2-build chr17.fa chr17_hisat2/chr17_hisat2"
   ]
  },
  {
   "cell_type": "code",
   "execution_count": 24,
   "metadata": {},
   "outputs": [
    {
     "name": "stdout",
     "output_type": "stream",
     "text": [
      "368320 reads; of these:\n",
      "  368320 (100.00%) were paired; of these:\n",
      "    13575 (3.69%) aligned concordantly 0 times\n",
      "    350857 (95.26%) aligned concordantly exactly 1 time\n",
      "    3888 (1.06%) aligned concordantly >1 times\n",
      "    ----\n",
      "    13575 pairs aligned concordantly 0 times; of these:\n",
      "      960 (7.07%) aligned discordantly 1 time\n",
      "    ----\n",
      "    12615 pairs aligned 0 times concordantly or discordantly; of these:\n",
      "      25230 mates make up the pairs; of these:\n",
      "        18554 (73.54%) aligned 0 times\n",
      "        6491 (25.73%) aligned exactly 1 time\n",
      "        185 (0.73%) aligned >1 times\n",
      "97.48% overall alignment rate\n"
     ]
    }
   ],
   "source": [
    "hisat2 -p 2 \\\n",
    "        -x chr17_hisat2/chr17_hisat2 \\\n",
    "        -1 read_1.fastq -2 read_2.fastq -S ../result/hisat2/chr17_hisat2.sam"
   ]
  },
  {
   "cell_type": "code",
   "execution_count": 25,
   "metadata": {},
   "outputs": [
    {
     "name": "stdout",
     "output_type": "stream",
     "text": [
      "748088 + 0 in total (QC-passed reads + QC-failed reads)\n",
      "11448 + 0 secondary\n",
      "0 + 0 supplementary\n",
      "0 + 0 duplicates\n",
      "729534 + 0 mapped (97.52% : N/A)\n",
      "736640 + 0 paired in sequencing\n",
      "368320 + 0 read1\n",
      "368320 + 0 read2\n",
      "709490 + 0 properly paired (96.31% : N/A)\n",
      "712002 + 0 with itself and mate mapped\n",
      "6084 + 0 singletons (0.83% : N/A)\n",
      "0 + 0 with mate mapped to a different chr\n",
      "0 + 0 with mate mapped to a different chr (mapQ>=5)\n"
     ]
    }
   ],
   "source": [
    "samtools view -S -b ../result/hisat2/chr17_hisat2.sam > ../result/hisat2/chr17_hisat2.bam\n",
    "samtools sort ../result/hisat2/chr17_hisat2.bam -o ../result/hisat2/chr17_hisat2_sorted.bam\n",
    "samtools flagstats ../result/hisat2/chr17_hisat2_sorted.bam"
   ]
  },
  {
   "cell_type": "code",
   "execution_count": 26,
   "metadata": {},
   "outputs": [
    {
     "name": "stdout",
     "output_type": "stream",
     "text": [
      "/scratch/td2201/appl_genomics/week_4/data\n"
     ]
    }
   ],
   "source": [
    "pwd"
   ]
  },
  {
   "cell_type": "code",
   "execution_count": 27,
   "metadata": {},
   "outputs": [],
   "source": [
    "samtools flagstats ../result/hisat2/chr17_hisat2_sorted.bam > ../chr17_hisat2_sorted.txt"
   ]
  },
  {
   "cell_type": "code",
   "execution_count": 28,
   "metadata": {},
   "outputs": [
    {
     "name": "stdout",
     "output_type": "stream",
     "text": [
      "HISAT2 version 2.2.1 by Daehwan Kim (infphilo@gmail.com, www.ccb.jhu.edu/people/infphilo)\n",
      "Usage: \n",
      "  hisat2 [options]* -x <ht2-idx> {-1 <m1> -2 <m2> | -U <r> | --sra-acc <SRA accession number>} [-S <sam>]\n",
      "\n",
      "  <ht2-idx>  Index filename prefix (minus trailing .X.ht2).\n",
      "  <m1>       Files with #1 mates, paired with files in <m2>.\n",
      "             Could be gzip'ed (extension: .gz) or bzip2'ed (extension: .bz2).\n",
      "  <m2>       Files with #2 mates, paired with files in <m1>.\n",
      "             Could be gzip'ed (extension: .gz) or bzip2'ed (extension: .bz2).\n",
      "  <r>        Files with unpaired reads.\n",
      "             Could be gzip'ed (extension: .gz) or bzip2'ed (extension: .bz2).\n",
      "  <SRA accession number>        Comma-separated list of SRA accession numbers, e.g. --sra-acc SRR353653,SRR353654.\n",
      "  <sam>      File for SAM output (default: stdout)\n",
      "\n",
      "  <m1>, <m2>, <r> can be comma-separated lists (no whitespace) and can be\n",
      "  specified many times.  E.g. '-U file1.fq,file2.fq -U file3.fq'.\n",
      "\n",
      "Options (defaults in parentheses):\n",
      "\n",
      " Input:\n",
      "  -q                 query input files are FASTQ .fq/.fastq (default)\n",
      "  --qseq             query input files are in Illumina's qseq format\n",
      "  -f                 query input files are (multi-)FASTA .fa/.mfa\n",
      "  -r                 query input files are raw one-sequence-per-line\n",
      "  -c                 <m1>, <m2>, <r> are sequences themselves, not files\n",
      "  -s/--skip <int>    skip the first <int> reads/pairs in the input (none)\n",
      "  -u/--upto <int>    stop after first <int> reads/pairs (no limit)\n",
      "  -5/--trim5 <int>   trim <int> bases from 5'/left end of reads (0)\n",
      "  -3/--trim3 <int>   trim <int> bases from 3'/right end of reads (0)\n",
      "  --phred33          qualities are Phred+33 (default)\n",
      "  --phred64          qualities are Phred+64\n",
      "  --int-quals        qualities encoded as space-delimited integers\n",
      "  --sra-acc          SRA accession ID\n",
      "\n",
      " Presets:                 Same as:\n",
      "   --fast                 --no-repeat-index\n",
      "   --sensitive            --bowtie2-dp 1 -k 30 --score-min L,0,-0.5\n",
      "   --very-sensitive       --bowtie2-dp 2 -k 50 --score-min L,0,-1\n",
      "\n",
      " Alignment:\n",
      "  --bowtie2-dp <int> use Bowtie2's dynamic programming alignment algorithm (0) - 0: no dynamic programming, 1: conditional dynamic programming, and 2: unconditional dynamic programming (slowest)\n",
      "  --n-ceil <func>    func for max # non-A/C/G/Ts permitted in aln (L,0,0.15)\n",
      "  --ignore-quals     treat all quality values as 30 on Phred scale (off)\n",
      "  --nofw             do not align forward (original) version of read (off)\n",
      "  --norc             do not align reverse-complement version of read (off)\n",
      "  --no-repeat-index  do not use repeat index\n",
      "\n",
      " Spliced Alignment:\n",
      "  --pen-cansplice <int>              penalty for a canonical splice site (0)\n",
      "  --pen-noncansplice <int>           penalty for a non-canonical splice site (12)\n",
      "  --pen-canintronlen <func>          penalty for long introns (G,-8,1) with canonical splice sites\n",
      "  --pen-noncanintronlen <func>       penalty for long introns (G,-8,1) with noncanonical splice sites\n",
      "  --min-intronlen <int>              minimum intron length (20)\n",
      "  --max-intronlen <int>              maximum intron length (500000)\n",
      "  --known-splicesite-infile <path>   provide a list of known splice sites\n",
      "  --novel-splicesite-outfile <path>  report a list of splice sites\n",
      "  --novel-splicesite-infile <path>   provide a list of novel splice sites\n",
      "  --no-temp-splicesite               disable the use of splice sites found\n",
      "  --no-spliced-alignment             disable spliced alignment\n",
      "  --rna-strandness <string>          specify strand-specific information (unstranded)\n",
      "  --tmo                              reports only those alignments within known transcriptome\n",
      "  --dta                              reports alignments tailored for transcript assemblers\n",
      "  --dta-cufflinks                    reports alignments tailored specifically for cufflinks\n",
      "  --avoid-pseudogene                 tries to avoid aligning reads to pseudogenes (experimental option)\n",
      "  --no-templatelen-adjustment        disables template length adjustment for RNA-seq reads\n",
      "\n",
      " Scoring:\n",
      "  --mp <int>,<int>   max and min penalties for mismatch; lower qual = lower penalty <6,2>\n",
      "  --sp <int>,<int>   max and min penalties for soft-clipping; lower qual = lower penalty <2,1>\n",
      "  --no-softclip      no soft-clipping\n",
      "  --np <int>         penalty for non-A/C/G/Ts in read/ref (1)\n",
      "  --rdg <int>,<int>  read gap open, extend penalties (5,3)\n",
      "  --rfg <int>,<int>  reference gap open, extend penalties (5,3)\n",
      "  --score-min <func> min acceptable alignment score w/r/t read length\n",
      "                     (L,0.0,-0.2)\n",
      "\n",
      " Reporting:\n",
      "  -k <int>           It searches for at most <int> distinct, primary alignments for each read. Primary alignments mean \n",
      "                     alignments whose alignment score is equal to or higher than any other alignments. The search terminates \n",
      "                     when it cannot find more distinct valid alignments, or when it finds <int>, whichever happens first. \n",
      "                     The alignment score for a paired-end alignment equals the sum of the alignment scores of \n",
      "                     the individual mates. Each reported read or pair alignment beyond the first has the SAM ‘secondary’ bit \n",
      "                     (which equals 256) set in its FLAGS field. For reads that have more than <int> distinct, \n",
      "                     valid alignments, hisat2 does not guarantee that the <int> alignments reported are the best possible \n",
      "                     in terms of alignment score. Default: 5 (linear index) or 10 (graph index).\n",
      "                     Note: HISAT2 is not designed with large values for -k in mind, and when aligning reads to long, \n",
      "                     repetitive genomes, large -k could make alignment much slower.\n",
      "  --max-seeds <int>  HISAT2, like other aligners, uses seed-and-extend approaches. HISAT2 tries to extend seeds to \n",
      "                     full-length alignments. In HISAT2, --max-seeds is used to control the maximum number of seeds that \n",
      "                     will be extended. For DNA-read alignment (--no-spliced-alignment), HISAT2 extends up to these many seeds\n",
      "                     and skips the rest of the seeds. For RNA-read alignment, HISAT2 skips extending seeds and reports \n",
      "                     no alignments if the number of seeds is larger than the number specified with the option, \n",
      "                     to be compatible with previous versions of HISAT2. Large values for --max-seeds may improve alignment \n",
      "                     sensitivity, but HISAT2 is not designed with large values for --max-seeds in mind, and when aligning \n",
      "                     reads to long, repetitive genomes, large --max-seeds could make alignment much slower. \n",
      "                     The default value is the maximum of 5 and the value that comes with -k times 2.\n",
      "  -a/--all           HISAT2 reports all alignments it can find. Using the option is equivalent to using both --max-seeds \n",
      "                     and -k with the maximum value that a 64-bit signed integer can represent (9,223,372,036,854,775,807).\n",
      "  --repeat           report alignments to repeat sequences directly\n",
      "\n",
      " Paired-end:\n",
      "  -I/--minins <int>  minimum fragment length (0), only valid with --no-spliced-alignment\n",
      "  -X/--maxins <int>  maximum fragment length (500), only valid with --no-spliced-alignment\n",
      "  --fr/--rf/--ff     -1, -2 mates align fw/rev, rev/fw, fw/fw (--fr)\n",
      "  --no-mixed         suppress unpaired alignments for paired reads\n",
      "  --no-discordant    suppress discordant alignments for paired reads\n",
      "\n",
      " Output:\n",
      "  -t/--time          print wall-clock time taken by search phases\n",
      "  --un <path>           write unpaired reads that didn't align to <path>\n",
      "  --al <path>           write unpaired reads that aligned at least once to <path>\n",
      "  --un-conc <path>      write pairs that didn't align concordantly to <path>\n",
      "  --al-conc <path>      write pairs that aligned concordantly at least once to <path>\n",
      "  (Note: for --un, --al, --un-conc, or --al-conc, add '-gz' to the option name, e.g.\n",
      "  --un-gz <path>, to gzip compress output, or add '-bz2' to bzip2 compress output.)\n",
      "  --summary-file <path> print alignment summary to this file.\n",
      "  --new-summary         print alignment summary in a new style, which is more machine-friendly.\n",
      "  --quiet               print nothing to stderr except serious errors\n",
      "  --met-file <path>     send metrics to file at <path> (off)\n",
      "  --met-stderr          send metrics to stderr (off)\n",
      "  --met <int>           report internal counters & metrics every <int> secs (1)\n",
      "  --no-head             suppress header lines, i.e. lines starting with @\n",
      "  --no-sq               suppress @SQ header lines\n",
      "  --rg-id <text>        set read group id, reflected in @RG line and RG:Z: opt field\n",
      "  --rg <text>           add <text> (\"lab:value\") to @RG line of SAM header.\n",
      "                        Note: @RG line only printed when --rg-id is set.\n",
      "  --omit-sec-seq        put '*' in SEQ and QUAL fields for secondary alignments.\n",
      "\n",
      " Performance:\n",
      "  -o/--offrate <int> override offrate of index; must be >= index's offrate\n",
      "  -p/--threads <int> number of alignment threads to launch (1)\n",
      "  --reorder          force SAM output order to match order of input reads\n",
      "  --mm               use memory-mapped I/O for index; many 'hisat2's can share\n",
      "\n",
      " Other:\n",
      "  --qc-filter        filter out reads that are bad according to QSEQ filter\n",
      "  --seed <int>       seed for random number generator (0)\n",
      "  --non-deterministic seed rand. gen. arbitrarily instead of using read attributes\n",
      "  --remove-chrname   remove 'chr' from reference names in alignment\n",
      "  --add-chrname      add 'chr' to reference names in alignment \n",
      "  --version          print version information and quit\n",
      "  -h/--help          print this usage message\n"
     ]
    }
   ],
   "source": [
    "hisat2 --help"
   ]
  },
  {
   "cell_type": "code",
   "execution_count": 29,
   "metadata": {},
   "outputs": [],
   "source": [
    "mkdir chr17_bwa\n",
    "mkdir ../result/bwa"
   ]
  },
  {
   "cell_type": "code",
   "execution_count": 39,
   "metadata": {},
   "outputs": [
    {
     "name": "stdout",
     "output_type": "stream",
     "text": [
      "/scratch/td2201/appl_genomics/week_4/data\n"
     ]
    }
   ],
   "source": [
    "pwd"
   ]
  },
  {
   "cell_type": "code",
   "execution_count": 40,
   "metadata": {},
   "outputs": [
    {
     "name": "stdout",
     "output_type": "stream",
     "text": [
      "[bwa_index] Pack FASTA... 0.56 sec\n",
      "[bwa_index] Construct BWT for the packed sequence...\n",
      "[BWTIncCreate] textLength=166514882, availableWord=23716276\n",
      "[BWTIncConstructFromPacked] 10 iterations done. 39120754 characters processed.\n",
      "[BWTIncConstructFromPacked] 20 iterations done. 72271554 characters processed.\n",
      "[BWTIncConstructFromPacked] 30 iterations done. 101732034 characters processed.\n",
      "[BWTIncConstructFromPacked] 40 iterations done. 127912546 characters processed.\n",
      "[BWTIncConstructFromPacked] 50 iterations done. 151177842 characters processed.\n",
      "[bwt_gen] Finished constructing BWT in 58 iterations.\n",
      "[bwa_index] 43.95 seconds elapse.\n",
      "[bwa_index] Update BWT... 0.39 sec\n",
      "[bwa_index] Pack forward-only FASTA... 0.35 sec\n",
      "[bwa_index] Construct SA from BWT and Occ... 20.55 sec\n",
      "[main] Version: 0.7.17-r1188\n",
      "[main] CMD: bwa index chr17.fa\n",
      "[main] Real time: 66.548 sec; CPU: 65.803 sec\n"
     ]
    }
   ],
   "source": [
    "bwa index chr17.fa"
   ]
  },
  {
   "cell_type": "code",
   "execution_count": 41,
   "metadata": {},
   "outputs": [
    {
     "name": "stdout",
     "output_type": "stream",
     "text": [
      "[M::bwa_idx_load_from_disk] read 0 ALT contigs\n",
      "[M::process] read 102148 sequences (10000178 bp)...\n",
      "[M::process] read 102216 sequences (10000102 bp)...\n",
      "[M::mem_pestat] # candidate unique pairs for (FF, FR, RF, RR): (16, 46598, 1, 19)\n",
      "[M::mem_pestat] analyzing insert size distribution for orientation FF...\n",
      "[M::mem_pestat] (25, 50, 75) percentile: (49, 117, 289)\n",
      "[M::mem_pestat] low and high boundaries for computing mean and std.dev: (1, 769)\n",
      "[M::mem_pestat] mean and std.dev: (139.79, 162.27)\n",
      "[M::mem_pestat] low and high boundaries for proper pairs: (1, 1009)\n",
      "[M::mem_pestat] analyzing insert size distribution for orientation FR...\n",
      "[M::mem_pestat] (25, 50, 75) percentile: (120, 153, 231)\n",
      "[M::mem_pestat] low and high boundaries for computing mean and std.dev: (1, 453)\n",
      "[M::mem_pestat] mean and std.dev: (159.94, 67.66)\n",
      "[M::mem_pestat] low and high boundaries for proper pairs: (1, 564)\n",
      "[M::mem_pestat] skip orientation RF as there are not enough pairs\n",
      "[M::mem_pestat] analyzing insert size distribution for orientation RR...\n",
      "[M::mem_pestat] (25, 50, 75) percentile: (37, 87, 158)\n",
      "[M::mem_pestat] low and high boundaries for computing mean and std.dev: (1, 400)\n",
      "[M::mem_pestat] mean and std.dev: (86.59, 69.38)\n",
      "[M::mem_pestat] low and high boundaries for proper pairs: (1, 521)\n",
      "[M::mem_pestat] skip orientation FF\n",
      "[M::mem_pestat] skip orientation RR\n",
      "[M::mem_process_seqs] Processed 102148 reads in 6.256 CPU sec, 6.241 real sec\n",
      "[M::process] read 102186 sequences (10000115 bp)...\n",
      "[M::mem_pestat] # candidate unique pairs for (FF, FR, RF, RR): (13, 46574, 4, 17)\n",
      "[M::mem_pestat] analyzing insert size distribution for orientation FF...\n",
      "[M::mem_pestat] (25, 50, 75) percentile: (57, 75, 137)\n",
      "[M::mem_pestat] low and high boundaries for computing mean and std.dev: (1, 297)\n",
      "[M::mem_pestat] mean and std.dev: (93.83, 55.34)\n",
      "[M::mem_pestat] low and high boundaries for proper pairs: (1, 377)\n",
      "[M::mem_pestat] analyzing insert size distribution for orientation FR...\n",
      "[M::mem_pestat] (25, 50, 75) percentile: (120, 152, 230)\n",
      "[M::mem_pestat] low and high boundaries for computing mean and std.dev: (1, 450)\n",
      "[M::mem_pestat] mean and std.dev: (159.32, 66.60)\n",
      "[M::mem_pestat] low and high boundaries for proper pairs: (1, 560)\n",
      "[M::mem_pestat] skip orientation RF as there are not enough pairs\n",
      "[M::mem_pestat] analyzing insert size distribution for orientation RR...\n",
      "[M::mem_pestat] (25, 50, 75) percentile: (64, 119, 205)\n",
      "[M::mem_pestat] low and high boundaries for computing mean and std.dev: (1, 487)\n",
      "[M::mem_pestat] mean and std.dev: (143.65, 112.60)\n",
      "[M::mem_pestat] low and high boundaries for proper pairs: (1, 628)\n",
      "[M::mem_pestat] skip orientation FF\n",
      "[M::mem_pestat] skip orientation RR\n",
      "[M::mem_process_seqs] Processed 102216 reads in 7.467 CPU sec, 7.489 real sec\n",
      "[M::process] read 101952 sequences (10000086 bp)...\n",
      "[M::mem_pestat] # candidate unique pairs for (FF, FR, RF, RR): (15, 46641, 0, 20)\n",
      "[M::mem_pestat] analyzing insert size distribution for orientation FF...\n",
      "[M::mem_pestat] (25, 50, 75) percentile: (49, 74, 449)\n",
      "[M::mem_pestat] low and high boundaries for computing mean and std.dev: (1, 1249)\n",
      "[M::mem_pestat] mean and std.dev: (95.67, 110.30)\n",
      "[M::mem_pestat] low and high boundaries for proper pairs: (1, 1649)\n",
      "[M::mem_pestat] analyzing insert size distribution for orientation FR...\n",
      "[M::mem_pestat] (25, 50, 75) percentile: (120, 152, 227)\n",
      "[M::mem_pestat] low and high boundaries for computing mean and std.dev: (1, 441)\n",
      "[M::mem_pestat] mean and std.dev: (157.93, 65.09)\n",
      "[M::mem_pestat] low and high boundaries for proper pairs: (1, 548)\n",
      "[M::mem_pestat] skip orientation RF as there are not enough pairs\n",
      "[M::mem_pestat] analyzing insert size distribution for orientation RR...\n",
      "[M::mem_pestat] (25, 50, 75) percentile: (58, 90, 141)\n",
      "[M::mem_pestat] low and high boundaries for computing mean and std.dev: (1, 307)\n",
      "[M::mem_pestat] mean and std.dev: (88.50, 52.35)\n",
      "[M::mem_pestat] low and high boundaries for proper pairs: (1, 390)\n",
      "[M::mem_pestat] skip orientation FF\n",
      "[M::mem_pestat] skip orientation RR\n",
      "[M::mem_process_seqs] Processed 102186 reads in 6.633 CPU sec, 6.653 real sec\n",
      "[M::process] read 101746 sequences (10000090 bp)...\n",
      "[M::mem_pestat] # candidate unique pairs for (FF, FR, RF, RR): (24, 46603, 1, 20)\n",
      "[M::mem_pestat] analyzing insert size distribution for orientation FF...\n",
      "[M::mem_pestat] (25, 50, 75) percentile: (43, 64, 154)\n",
      "[M::mem_pestat] low and high boundaries for computing mean and std.dev: (1, 376)\n",
      "[M::mem_pestat] mean and std.dev: (71.75, 62.87)\n",
      "[M::mem_pestat] low and high boundaries for proper pairs: (1, 487)\n",
      "[M::mem_pestat] analyzing insert size distribution for orientation FR...\n",
      "[M::mem_pestat] (25, 50, 75) percentile: (120, 152, 229)\n",
      "[M::mem_pestat] low and high boundaries for computing mean and std.dev: (1, 447)\n",
      "[M::mem_pestat] mean and std.dev: (159.02, 66.37)\n",
      "[M::mem_pestat] low and high boundaries for proper pairs: (1, 556)\n",
      "[M::mem_pestat] skip orientation RF as there are not enough pairs\n",
      "[M::mem_pestat] analyzing insert size distribution for orientation RR...\n",
      "[M::mem_pestat] (25, 50, 75) percentile: (58, 89, 150)\n",
      "[M::mem_pestat] low and high boundaries for computing mean and std.dev: (1, 334)\n",
      "[M::mem_pestat] mean and std.dev: (86.61, 43.22)\n",
      "[M::mem_pestat] low and high boundaries for proper pairs: (1, 426)\n",
      "[M::mem_pestat] skip orientation FF\n",
      "[M::mem_pestat] skip orientation RR\n",
      "[M::mem_process_seqs] Processed 101952 reads in 6.604 CPU sec, 6.623 real sec\n",
      "[M::process] read 101706 sequences (10000032 bp)...\n",
      "[M::mem_pestat] # candidate unique pairs for (FF, FR, RF, RR): (22, 46467, 5, 16)\n",
      "[M::mem_pestat] analyzing insert size distribution for orientation FF...\n",
      "[M::mem_pestat] (25, 50, 75) percentile: (34, 90, 648)\n",
      "[M::mem_pestat] low and high boundaries for computing mean and std.dev: (1, 1876)\n",
      "[M::mem_pestat] mean and std.dev: (159.11, 292.20)\n",
      "[M::mem_pestat] low and high boundaries for proper pairs: (1, 2490)\n",
      "[M::mem_pestat] analyzing insert size distribution for orientation FR...\n",
      "[M::mem_pestat] (25, 50, 75) percentile: (120, 152, 227)\n",
      "[M::mem_pestat] low and high boundaries for computing mean and std.dev: (1, 441)\n",
      "[M::mem_pestat] mean and std.dev: (158.01, 65.04)\n",
      "[M::mem_pestat] low and high boundaries for proper pairs: (1, 548)\n",
      "[M::mem_pestat] skip orientation RF as there are not enough pairs\n",
      "[M::mem_pestat] analyzing insert size distribution for orientation RR...\n",
      "[M::mem_pestat] (25, 50, 75) percentile: (36, 59, 135)\n",
      "[M::mem_pestat] low and high boundaries for computing mean and std.dev: (1, 333)\n",
      "[M::mem_pestat] mean and std.dev: (76.20, 66.70)\n",
      "[M::mem_pestat] low and high boundaries for proper pairs: (1, 432)\n",
      "[M::mem_pestat] skip orientation FF\n",
      "[M::mem_pestat] skip orientation RR\n",
      "[M::mem_process_seqs] Processed 101746 reads in 6.610 CPU sec, 6.630 real sec\n",
      "[M::process] read 101622 sequences (10000199 bp)...\n",
      "[M::mem_pestat] # candidate unique pairs for (FF, FR, RF, RR): (26, 46446, 2, 15)\n",
      "[M::mem_pestat] analyzing insert size distribution for orientation FF...\n",
      "[M::mem_pestat] (25, 50, 75) percentile: (26, 58, 73)\n",
      "[M::mem_pestat] low and high boundaries for computing mean and std.dev: (1, 167)\n",
      "[M::mem_pestat] mean and std.dev: (47.32, 27.55)\n",
      "[M::mem_pestat] low and high boundaries for proper pairs: (1, 214)\n",
      "[M::mem_pestat] analyzing insert size distribution for orientation FR...\n",
      "[M::mem_pestat] (25, 50, 75) percentile: (120, 151, 226)\n",
      "[M::mem_pestat] low and high boundaries for computing mean and std.dev: (1, 438)\n",
      "[M::mem_pestat] mean and std.dev: (157.69, 65.13)\n",
      "[M::mem_pestat] low and high boundaries for proper pairs: (1, 544)\n",
      "[M::mem_pestat] skip orientation RF as there are not enough pairs\n",
      "[M::mem_pestat] analyzing insert size distribution for orientation RR...\n",
      "[M::mem_pestat] (25, 50, 75) percentile: (48, 84, 137)\n",
      "[M::mem_pestat] low and high boundaries for computing mean and std.dev: (1, 315)\n",
      "[M::mem_pestat] mean and std.dev: (88.43, 61.21)\n",
      "[M::mem_pestat] low and high boundaries for proper pairs: (1, 404)\n",
      "[M::mem_pestat] skip orientation FF\n",
      "[M::mem_pestat] skip orientation RR\n",
      "[M::mem_process_seqs] Processed 101706 reads in 6.494 CPU sec, 6.513 real sec\n",
      "[M::process] read 23064 sequences (2255826 bp)...\n",
      "[M::mem_pestat] # candidate unique pairs for (FF, FR, RF, RR): (17, 46496, 3, 21)\n",
      "[M::mem_pestat] analyzing insert size distribution for orientation FF...\n",
      "[M::mem_pestat] (25, 50, 75) percentile: (17, 37, 98)\n",
      "[M::mem_pestat] low and high boundaries for computing mean and std.dev: (1, 260)\n",
      "[M::mem_pestat] mean and std.dev: (60.41, 60.65)\n",
      "[M::mem_pestat] low and high boundaries for proper pairs: (1, 341)\n",
      "[M::mem_pestat] analyzing insert size distribution for orientation FR...\n",
      "[M::mem_pestat] (25, 50, 75) percentile: (120, 151, 226)\n",
      "[M::mem_pestat] low and high boundaries for computing mean and std.dev: (1, 438)\n",
      "[M::mem_pestat] mean and std.dev: (157.99, 65.71)\n",
      "[M::mem_pestat] low and high boundaries for proper pairs: (1, 544)\n",
      "[M::mem_pestat] skip orientation RF as there are not enough pairs\n",
      "[M::mem_pestat] analyzing insert size distribution for orientation RR...\n",
      "[M::mem_pestat] (25, 50, 75) percentile: (22, 54, 197)\n",
      "[M::mem_pestat] low and high boundaries for computing mean and std.dev: (1, 547)\n",
      "[M::mem_pestat] mean and std.dev: (97.52, 99.92)\n",
      "[M::mem_pestat] low and high boundaries for proper pairs: (1, 722)\n",
      "[M::mem_pestat] skip orientation FF\n",
      "[M::mem_pestat] skip orientation RR\n",
      "[M::mem_process_seqs] Processed 101622 reads in 6.554 CPU sec, 6.574 real sec\n",
      "[M::mem_pestat] # candidate unique pairs for (FF, FR, RF, RR): (9, 10495, 1, 3)\n",
      "[M::mem_pestat] skip orientation FF as there are not enough pairs\n",
      "[M::mem_pestat] analyzing insert size distribution for orientation FR...\n",
      "[M::mem_pestat] (25, 50, 75) percentile: (119, 149, 218)\n",
      "[M::mem_pestat] low and high boundaries for computing mean and std.dev: (1, 416)\n",
      "[M::mem_pestat] mean and std.dev: (154.69, 61.96)\n",
      "[M::mem_pestat] low and high boundaries for proper pairs: (1, 515)\n",
      "[M::mem_pestat] skip orientation RF as there are not enough pairs\n",
      "[M::mem_pestat] skip orientation RR as there are not enough pairs\n",
      "[M::mem_process_seqs] Processed 23064 reads in 1.448 CPU sec, 1.453 real sec\n",
      "[main] Version: 0.7.17-r1188\n",
      "[main] CMD: bwa mem chr17.fa read_1.fastq read_2.fastq\n",
      "[main] Real time: 48.785 sec; CPU: 48.303 sec\n"
     ]
    }
   ],
   "source": [
    "bwa mem chr17.fa read_1.fastq read_2.fastq > ../result/bwa/chr17_bwa_aligned_reads.sam"
   ]
  },
  {
   "cell_type": "code",
   "execution_count": 42,
   "metadata": {},
   "outputs": [
    {
     "name": "stdout",
     "output_type": "stream",
     "text": [
      "INFO\t2021-02-26 23:39:27\tSortSam\t\n",
      "\n",
      "********** NOTE: Picard's command line syntax is changing.\n",
      "**********\n",
      "********** For more information, please see:\n",
      "********** https://github.com/broadinstitute/picard/wiki/Command-Line-Syntax-Transition-For-Users-(Pre-Transition)\n",
      "**********\n",
      "********** The command line looks like this in the new syntax:\n",
      "**********\n",
      "**********    SortSam -INPUT  ../result/bwa/chr17_bwa_aligned_reads.sam -OUTPUT  ../result/bwa/chr17_bwa_aligned_reads.bam -SORT_ORDER coordinate\n",
      "**********\n",
      "\n",
      "\n",
      "23:39:27.407 INFO  NativeLibraryLoader - Loading libgkl_compression.so from jar:file:/share/apps/picard/2.23.8/picard.jar!/com/intel/gkl/native/libgkl_compression.so\n",
      "[Fri Feb 26 23:39:27 EST 2021] SortSam INPUT=../result/bwa/chr17_bwa_aligned_reads.sam OUTPUT=../result/bwa/chr17_bwa_aligned_reads.bam SORT_ORDER=coordinate    VERBOSITY=INFO QUIET=false VALIDATION_STRINGENCY=STRICT COMPRESSION_LEVEL=5 MAX_RECORDS_IN_RAM=500000 CREATE_INDEX=false CREATE_MD5_FILE=false GA4GH_CLIENT_SECRETS=client_secrets.json USE_JDK_DEFLATER=false USE_JDK_INFLATER=false\n",
      "[Fri Feb 26 23:39:27 EST 2021] Executing as td2201@cs003.nyu.cluster on Linux 4.18.0-193.28.1.el8_2.x86_64 amd64; Java HotSpot(TM) 64-Bit Server VM 1.8.0_271-b09; Deflater: Intel; Inflater: Intel; Provider GCS is not available; Picard version: 2.23.8\n",
      "INFO\t2021-02-26 23:39:29\tSortSam\tSeen many non-increasing record positions. Printing Read-names as well.\n",
      "INFO\t2021-02-26 23:39:41\tSortSam\tFinished reading inputs, merging and writing to output now.\n",
      "[Fri Feb 26 23:39:48 EST 2021] picard.sam.SortSam done. Elapsed time: 0.34 minutes.\n",
      "Runtime.totalMemory()=1218969600\n"
     ]
    }
   ],
   "source": [
    "java -jar $PICARD_JAR SortSam INPUT= ../result/bwa/chr17_bwa_aligned_reads.sam \\\n",
    "OUTPUT= ../result/bwa/chr17_bwa_aligned_reads.bam SORT_ORDER=coordinate"
   ]
  },
  {
   "cell_type": "code",
   "execution_count": 46,
   "metadata": {},
   "outputs": [],
   "source": [
    "samtools flagstat ../result/bwa/chr17_bwa_aligned_reads.bam > ../chr17_bwa_aligned_sorted.txt"
   ]
  },
  {
   "cell_type": "code",
   "execution_count": 1,
   "metadata": {},
   "outputs": [
    {
     "name": "stdout",
     "output_type": "stream",
     "text": [
      "/scratch/td2201/appl_genomics/week_4\n"
     ]
    }
   ],
   "source": [
    "pwd"
   ]
  },
  {
   "cell_type": "code",
   "execution_count": 2,
   "metadata": {},
   "outputs": [],
   "source": [
    "cd data/"
   ]
  },
  {
   "cell_type": "code",
   "execution_count": 3,
   "metadata": {},
   "outputs": [
    {
     "name": "stdout",
     "output_type": "stream",
     "text": [
      "/scratch/td2201/appl_genomics/week_4/data\n"
     ]
    }
   ],
   "source": [
    "pwd"
   ]
  },
  {
   "cell_type": "code",
   "execution_count": 4,
   "metadata": {},
   "outputs": [],
   "source": [
    "mkdir chr17_hisat2_ss\n",
    "mkdir ../result/hisat2_ss"
   ]
  },
  {
   "cell_type": "code",
   "execution_count": 6,
   "metadata": {},
   "outputs": [
    {
     "name": "stdout",
     "output_type": "stream",
     "text": [
      "\n",
      "Currently Loaded Modules:\n",
      "  1) trimmomatic/0.39      6) star/intel/2.7.6a   11) bwa/intel/0.7.17\n",
      "  2) bowtie2/2.4.2         7) hisat2/2.2.1        12) jdk/1.8.0_271\n",
      "  3) perl/intel/5.32.0     8) python/intel/3.8.6  13) picard/2.23.8\n",
      "  4) htslib/intel/1.11.0   9) fastqc/0.11.9\n",
      "  5) samtools/intel/1.11  10) intel/19.1.2\n",
      "\n",
      " \n",
      "\n"
     ]
    }
   ],
   "source": [
    "module purge\n",
    "module load trimmomatic/0.39\n",
    "module load bowtie2/2.4.2\n",
    "module load samtools/intel/1.11\n",
    "module load star/intel/2.7.6a\n",
    "module load hisat2/2.2.1\n",
    "module load python/intel/3.8.6\n",
    "module load fastqc/0.11.9\n",
    "module load bwa/intel/0.7.17\n",
    "module load picard/2.23.8\n",
    "module list"
   ]
  },
  {
   "cell_type": "code",
   "execution_count": 8,
   "metadata": {},
   "outputs": [],
   "source": [
    "hisat2_extract_splice_sites.py chr17.gtf > chr17_hisat2_ss/chr17.ss\n",
    "hisat2_extract_exons.py chr17.gtf > chr17_hisat2_ss/chr17.exon"
   ]
  },
  {
   "cell_type": "code",
   "execution_count": 9,
   "metadata": {},
   "outputs": [
    {
     "name": "stdout",
     "output_type": "stream",
     "text": [
      "Settings:\n",
      "  Output files: \"chr17_hisat2_ss/chr17_hisat2_ss.*.ht2\"\n",
      "  Line rate: 7 (line is 128 bytes)\n",
      "  Lines per side: 1 (side is 128 bytes)\n",
      "  Offset rate: 4 (one in 16)\n",
      "  FTable chars: 10\n",
      "  Strings: unpacked\n",
      "  Local offset rate: 3 (one in 8)\n",
      "  Local fTable chars: 6\n",
      "  Local sequence length: 57344\n",
      "  Local sequence overlap between two consecutive indexes: 1024\n",
      "  Endianness: little\n",
      "  Actual local endianness: little\n",
      "  Sanity checking: disabled\n",
      "  Assertions: disabled\n",
      "  Random seed: 0\n",
      "  Sizeofs: void*:8, int:4, long:8, size_t:8\n",
      "Input files DNA, FASTA:\n",
      "  chr17.fa\n",
      "Reading reference sizes\n",
      "  Time reading reference sizes: 00:00:01\n",
      "Calculating joined length\n",
      "Writing header\n",
      "Reserving space for joined string\n",
      "Joining reference sequences\n",
      "  Time to join reference sequences: 00:00:00\n",
      "  Time to read SNPs and splice sites: 00:00:00\n",
      "Generation 0 (82942326 -> 82942326 nodes, 0 ranks)\n",
      "COUNTED NEW NODES: 0\n",
      "COUNTED TEMP NODES: 0\n",
      "RESIZED NODES: 1\n",
      "RESIZED NODES: 0\n",
      "MADE NEW NODES: 0\n",
      "Generation 1 (82963264 -> 82963264 nodes, 0 ranks)\n",
      "COUNTED NEW NODES: 0\n",
      "COUNTED TEMP NODES: 0\n",
      "RESIZED NODES: 1\n",
      "RESIZED NODES: 0\n",
      "MADE NEW NODES: 1\n",
      "Generation 2 (83005154 -> 83005154 nodes, 0 ranks)\n",
      "COUNTED NEW NODES: 0\n",
      "COUNTED TEMP NODES: 0\n",
      "RESIZED NODES: 1\n",
      "RESIZED NODES: 0\n",
      "MADE NEW NODES: 0\n",
      "Generation 3 (83088993 -> 83088993 nodes, 0 ranks)\n",
      "BUILT FROM_INDEX: 0\n",
      "COUNTED NEW NODES: 0\n",
      "COUNTED TEMP NODES: 0\n",
      "RESIZED NODES: 1\n",
      "RESIZED NODES: 0\n",
      "MADE NEW NODES: 0\n",
      "RESIZE NODES: 2\n",
      "SORT NODES: 7\n",
      "MERGE, UPDATE RANK: 1\n",
      "Generation 4 (83256887 -> 83139570 nodes, 60461126 ranks)\n",
      "ALLOCATE FROM_TABLE: 1\n",
      "BUILD TABLE: 4\n",
      "BUILD INDEX: 1\n",
      "COUNTED NEW NODES: 0\n",
      "COUNTED TEMP NODES: 0\n",
      "RESIZED NODES: 0\n",
      "RESIZED NODES: 0\n",
      "MADE NEW NODES: 3\n",
      "MERGEUPDATERANK: 1\n",
      "TOTAL TIME: 10\n",
      "Generation 5 (83166184 -> 83144810 nodes, 72478749 ranks)\n",
      "ALLOCATE FROM_TABLE: 0\n",
      "BUILD TABLE: 4\n",
      "BUILD INDEX: 0\n",
      "COUNTED NEW NODES: 1\n",
      "COUNTED TEMP NODES: 0\n",
      "RESIZED NODES: 0\n",
      "RESIZED NODES: 0\n",
      "MADE NEW NODES: 1\n",
      "MERGEUPDATERANK: 1\n",
      "TOTAL TIME: 7\n",
      "Generation 6 (83159289 -> 83152464 nodes, 78058662 ranks)\n",
      "ALLOCATE FROM_TABLE: 0\n",
      "BUILD TABLE: 4\n",
      "BUILD INDEX: 0\n",
      "COUNTED NEW NODES: 1\n",
      "COUNTED TEMP NODES: 0\n",
      "RESIZED NODES: 0\n",
      "RESIZED NODES: 0\n",
      "MADE NEW NODES: 0\n",
      "MERGEUPDATERANK: 1\n",
      "TOTAL TIME: 6\n",
      "Generation 7 (83163331 -> 83159025 nodes, 79336556 ranks)\n",
      "ALLOCATE FROM_TABLE: 0\n",
      "BUILD TABLE: 4\n",
      "BUILD INDEX: 1\n",
      "COUNTED NEW NODES: 0\n",
      "COUNTED TEMP NODES: 0\n",
      "RESIZED NODES: 0\n",
      "RESIZED NODES: 0\n",
      "MADE NEW NODES: 0\n",
      "MERGEUPDATERANK: 1\n",
      "TOTAL TIME: 6\n",
      "Generation 8 (83168529 -> 83164870 nodes, 80455399 ranks)\n",
      "ALLOCATE FROM_TABLE: 0\n",
      "BUILD TABLE: 4\n",
      "BUILD INDEX: 1\n",
      "COUNTED NEW NODES: 0\n",
      "COUNTED TEMP NODES: 0\n",
      "RESIZED NODES: 0\n",
      "RESIZED NODES: 0\n",
      "MADE NEW NODES: 0\n",
      "MERGEUPDATERANK: 1\n",
      "TOTAL TIME: 6\n",
      "Generation 9 (83173577 -> 83170000 nodes, 81741348 ranks)\n",
      "ALLOCATE FROM_TABLE: 0\n",
      "BUILD TABLE: 4\n",
      "BUILD INDEX: 0\n",
      "COUNTED NEW NODES: 1\n",
      "COUNTED TEMP NODES: 0\n",
      "RESIZED NODES: 0\n",
      "RESIZED NODES: 0\n",
      "MADE NEW NODES: 0\n",
      "MERGEUPDATERANK: 0\n",
      "TOTAL TIME: 5\n",
      "Generation 10 (83176414 -> 83170560 nodes, 82656975 ranks)\n",
      "ALLOCATE FROM_TABLE: 0\n",
      "BUILD TABLE: 5\n",
      "BUILD INDEX: 0\n",
      "COUNTED NEW NODES: 0\n",
      "COUNTED TEMP NODES: 0\n",
      "RESIZED NODES: 0\n",
      "RESIZED NODES: 0\n",
      "MADE NEW NODES: 1\n",
      "MERGEUPDATERANK: 0\n",
      "TOTAL TIME: 6\n",
      "Generation 11 (83173270 -> 83168663 nodes, 83072960 ranks)\n",
      "ALLOCATE FROM_TABLE: 0\n",
      "BUILD TABLE: 5\n",
      "BUILD INDEX: 0\n",
      "COUNTED NEW NODES: 0\n",
      "COUNTED TEMP NODES: 0\n",
      "RESIZED NODES: 0\n",
      "RESIZED NODES: 0\n",
      "MADE NEW NODES: 0\n",
      "MERGEUPDATERANK: 0\n",
      "TOTAL TIME: 5\n",
      "Generation 12 (83168671 -> 83167186 nodes, 83163137 ranks)\n",
      "ALLOCATE FROM_TABLE: 0\n",
      "BUILD TABLE: 5\n",
      "BUILD INDEX: 0\n",
      "COUNTED NEW NODES: 0\n",
      "COUNTED TEMP NODES: 0\n",
      "RESIZED NODES: 0\n",
      "RESIZED NODES: 0\n",
      "MADE NEW NODES: 1\n",
      "MERGEUPDATERANK: 0\n",
      "TOTAL TIME: 6\n",
      "Generation 13 (83167186 -> 83167186 nodes, 83167186 ranks)\n",
      "Generating edges... \n",
      "NODE.TO -> GENOME POS: 0\n",
      "BUILD FROM_INDEX 0\n",
      "COUNTED NEW EDGES: 1\n",
      "MADE NEW EDGES: 2\n",
      "SORTED NEW EDGES: 4\n",
      "RE-SORTED NODES: 6\n",
      "PROCESS EDGES: 0\n",
      "REMOVE Y: 0\n",
      "SORT, Make index: 4\n",
      "TOTAL: 17\n",
      "Allocating ftab, absorbFtab\n",
      "Entering GFM loop\n",
      "Exited GFM loop\n",
      "fchr[A]: 0\n",
      "fchr[C]: 22705585\n",
      "fchr[G]: 41498484\n",
      "fchr[T]: 60418510\n",
      "fchr[$]: 83188200\n",
      "Exiting GFM::buildToDisk()\n",
      "Returning from initFromVector\n",
      "Wrote 55388024 bytes to primary GFM file: chr17_hisat2_ss/chr17_hisat2_ss.1.ht2\n",
      "Wrote 20791804 bytes to secondary GFM file: chr17_hisat2_ss/chr17_hisat2_ss.2.ht2\n",
      "Re-opening _in1 and _in2 as input streams\n",
      "Returning from GFM constructor\n",
      "Returning from initFromVector\n",
      "Wrote 53287497 bytes to primary GFM file: chr17_hisat2_ss/chr17_hisat2_ss.5.ht2\n",
      "Wrote 21133574 bytes to secondary GFM file: chr17_hisat2_ss/chr17_hisat2_ss.6.ht2\n",
      "Re-opening _in5 and _in5 as input streams\n",
      "Returning from HGFM constructor\n",
      "Headers:\n",
      "    len: 82920204\n",
      "    gbwtLen: 83188201\n",
      "    nodes: 83167185\n",
      "    sz: 41460102\n",
      "    gbwtSz: 41594101\n",
      "    lineRate: 7\n",
      "    offRate: 4\n",
      "    offMask: 0xfffffff0\n",
      "    ftabChars: 10\n",
      "    eftabLen: 0\n",
      "    eftabSz: 0\n",
      "    ftabLen: 1048577\n",
      "    ftabSz: 4194308\n",
      "    offsLen: 5197950\n",
      "    offsSz: 20791800\n",
      "    lineSz: 128\n",
      "    sideSz: 128\n",
      "    sideGbwtSz: 104\n",
      "    sideGbwtLen: 208\n",
      "    numSides: 399944\n",
      "    numLines: 399944\n",
      "    gbwtTotLen: 51192832\n",
      "    gbwtTotSz: 51192832\n",
      "    reverse: 0\n",
      "    linearFM: No\n",
      "Total time for call to driver() for forward index: 00:04:31\n"
     ]
    }
   ],
   "source": [
    "hisat2-build --exon chr17_hisat2_ss/chr17.exon --ss chr17_hisat2_ss/chr17.ss chr17.fa chr17_hisat2_ss/chr17_hisat2_ss"
   ]
  },
  {
   "cell_type": "code",
   "execution_count": 10,
   "metadata": {},
   "outputs": [
    {
     "name": "stdout",
     "output_type": "stream",
     "text": [
      "17\t65735\t65829\t-\n",
      "17\t65886\t71365\t-\n",
      "17\t71555\t75813\t-\n",
      "17\t75877\t76722\t-\n",
      "17\t88704\t97268\t-\n",
      "17\t97796\t98892\t-\n",
      "17\t98950\t101108\t-\n",
      "17\t101173\t102057\t-\n",
      "17\t102272\t105559\t-\n",
      "17\t105690\t106754\t-\n"
     ]
    }
   ],
   "source": [
    "head chr17_hisat2_ss/chr17.ss"
   ]
  },
  {
   "cell_type": "code",
   "execution_count": 11,
   "metadata": {},
   "outputs": [
    {
     "name": "stdout",
     "output_type": "stream",
     "text": [
      "368320 reads; of these:\n",
      "  368320 (100.00%) were paired; of these:\n",
      "    13663 (3.71%) aligned concordantly 0 times\n",
      "    349950 (95.01%) aligned concordantly exactly 1 time\n",
      "    4707 (1.28%) aligned concordantly >1 times\n",
      "    ----\n",
      "    13663 pairs aligned concordantly 0 times; of these:\n",
      "      1051 (7.69%) aligned discordantly 1 time\n",
      "    ----\n",
      "    12612 pairs aligned 0 times concordantly or discordantly; of these:\n",
      "      25224 mates make up the pairs; of these:\n",
      "        18570 (73.62%) aligned 0 times\n",
      "        6427 (25.48%) aligned exactly 1 time\n",
      "        227 (0.90%) aligned >1 times\n",
      "97.48% overall alignment rate\n"
     ]
    }
   ],
   "source": [
    "hisat2 -p 2 \\\n",
    "        -x chr17_hisat2_ss/chr17_hisat2_ss \\\n",
    "        -1 read_1.fastq -2 read_2.fastq -S ../result/hisat2_ss/chr17_hisat2_ss.sam"
   ]
  },
  {
   "cell_type": "code",
   "execution_count": 13,
   "metadata": {},
   "outputs": [
    {
     "name": "stdout",
     "output_type": "stream",
     "text": [
      "752418 + 0 in total (QC-passed reads + QC-failed reads)\n",
      "15778 + 0 secondary\n",
      "0 + 0 supplementary\n",
      "0 + 0 duplicates\n",
      "733848 + 0 mapped (97.53% : N/A)\n",
      "736640 + 0 paired in sequencing\n",
      "368320 + 0 read1\n",
      "368320 + 0 read2\n",
      "709314 + 0 properly paired (96.29% : N/A)\n",
      "711968 + 0 with itself and mate mapped\n",
      "6102 + 0 singletons (0.83% : N/A)\n",
      "0 + 0 with mate mapped to a different chr\n",
      "0 + 0 with mate mapped to a different chr (mapQ>=5)\n"
     ]
    }
   ],
   "source": [
    "samtools view -S -b ../result/hisat2_ss/chr17_hisat2_ss.sam > ../result/hisat2_ss/chr17_hisat2_ss.bam\n",
    "samtools sort ../result/hisat2_ss/chr17_hisat2_ss.bam -o ../result/hisat2_ss/chr17_hisat2_sorted_ss.bam\n",
    "samtools flagstats ../result/hisat2_ss/chr17_hisat2_sorted_ss.bam"
   ]
  },
  {
   "cell_type": "code",
   "execution_count": 14,
   "metadata": {},
   "outputs": [],
   "source": [
    "samtools flagstats ../result/hisat2_ss/chr17_hisat2_sorted_ss.bam > ../chr17_hisat2_sorted_ss.txt"
   ]
  },
  {
   "cell_type": "code",
   "execution_count": 16,
   "metadata": {},
   "outputs": [
    {
     "name": "stdout",
     "output_type": "stream",
     "text": [
      "/scratch/td2201/appl_genomics/week_4/data\n"
     ]
    }
   ],
   "source": [
    "pwd"
   ]
  },
  {
   "cell_type": "code",
   "execution_count": 17,
   "metadata": {},
   "outputs": [
    {
     "name": "stdout",
     "output_type": "stream",
     "text": [
      "                                 Started job on |\tFeb 27 18:14:20\n",
      "                             Started mapping on |\tFeb 27 18:14:20\n",
      "                                    Finished on |\tFeb 27 18:15:10\n",
      "       Mapping speed, Million of reads per hour |\t26.52\n",
      "\n",
      "                          Number of input reads |\t368320\n",
      "                      Average input read length |\t196\n",
      "                                    UNIQUE READS:\n",
      "                   Uniquely mapped reads number |\t363516\n",
      "                        Uniquely mapped reads % |\t98.70%\n",
      "                          Average mapped length |\t194.87\n",
      "                       Number of splices: Total |\t229141\n",
      "            Number of splices: Annotated (sjdb) |\t227084\n",
      "                       Number of splices: GT/AG |\t227554\n",
      "                       Number of splices: GC/AG |\t1177\n",
      "                       Number of splices: AT/AC |\t62\n",
      "               Number of splices: Non-canonical |\t348\n",
      "                      Mismatch rate per base, % |\t0.21%\n",
      "                         Deletion rate per base |\t0.01%\n",
      "                        Deletion average length |\t1.57\n",
      "                        Insertion rate per base |\t0.01%\n",
      "                       Insertion average length |\t1.37\n",
      "                             MULTI-MAPPING READS:\n",
      "        Number of reads mapped to multiple loci |\t4671\n",
      "             % of reads mapped to multiple loci |\t1.27%\n",
      "        Number of reads mapped to too many loci |\t25\n",
      "             % of reads mapped to too many loci |\t0.01%\n",
      "                                  UNMAPPED READS:\n",
      "  Number of reads unmapped: too many mismatches |\t0\n",
      "       % of reads unmapped: too many mismatches |\t0.00%\n",
      "            Number of reads unmapped: too short |\t72\n",
      "                 % of reads unmapped: too short |\t0.02%\n",
      "                Number of reads unmapped: other |\t36\n",
      "                     % of reads unmapped: other |\t0.01%\n",
      "                                  CHIMERIC READS:\n",
      "                       Number of chimeric reads |\t0\n",
      "                            % of chimeric reads |\t0.00%\n"
     ]
    }
   ],
   "source": [
    "cat ../result/Star_sjdb/Log.final.out"
   ]
  },
  {
   "cell_type": "code",
   "execution_count": 18,
   "metadata": {},
   "outputs": [
    {
     "name": "stdout",
     "output_type": "stream",
     "text": [
      "                                 Started job on |\tFeb 27 18:11:29\n",
      "                             Started mapping on |\tFeb 27 18:11:29\n",
      "                                    Finished on |\tFeb 27 18:12:15\n",
      "       Mapping speed, Million of reads per hour |\t28.83\n",
      "\n",
      "                          Number of input reads |\t368320\n",
      "                      Average input read length |\t196\n",
      "                                    UNIQUE READS:\n",
      "                   Uniquely mapped reads number |\t362837\n",
      "                        Uniquely mapped reads % |\t98.51%\n",
      "                          Average mapped length |\t194.52\n",
      "                       Number of splices: Total |\t195171\n",
      "            Number of splices: Annotated (sjdb) |\t0\n",
      "                       Number of splices: GT/AG |\t193821\n",
      "                       Number of splices: GC/AG |\t900\n",
      "                       Number of splices: AT/AC |\t32\n",
      "               Number of splices: Non-canonical |\t418\n",
      "                      Mismatch rate per base, % |\t0.21%\n",
      "                         Deletion rate per base |\t0.01%\n",
      "                        Deletion average length |\t1.58\n",
      "                        Insertion rate per base |\t0.01%\n",
      "                       Insertion average length |\t1.38\n",
      "                             MULTI-MAPPING READS:\n",
      "        Number of reads mapped to multiple loci |\t4777\n",
      "             % of reads mapped to multiple loci |\t1.30%\n",
      "        Number of reads mapped to too many loci |\t45\n",
      "             % of reads mapped to too many loci |\t0.01%\n",
      "                                  UNMAPPED READS:\n",
      "  Number of reads unmapped: too many mismatches |\t0\n",
      "       % of reads unmapped: too many mismatches |\t0.00%\n",
      "            Number of reads unmapped: too short |\t624\n",
      "                 % of reads unmapped: too short |\t0.17%\n",
      "                Number of reads unmapped: other |\t37\n",
      "                     % of reads unmapped: other |\t0.01%\n",
      "                                  CHIMERIC READS:\n",
      "                       Number of chimeric reads |\t0\n",
      "                            % of chimeric reads |\t0.00%\n"
     ]
    }
   ],
   "source": [
    "cat ../result/Star/Log.final.out"
   ]
  },
  {
   "cell_type": "code",
   "execution_count": 21,
   "metadata": {},
   "outputs": [
    {
     "name": "stdout",
     "output_type": "stream",
     "text": [
      "SRR1145037.1.3059180\t163\t17\t60508\t255\t92M8S\t=\t60533\t92\tTCCACTGCTGCTGCCCCTGCCCTGACTCCCAGCCCTGCCTGACCCCACCTCAACCTGCTCAGGCTCTGGCGCAACCCTGGCTGCCCTGCCACAGATCGGA\t@C@FDDFFHFHBBFFHIJIIGIEHCGHIJIGJIJEIIIIGGGIIJJIDHGEHIJIIGGIGIFEHHGFCDEDC?BBDDBCBBDDD@BCDDDDDDDDDDDDD\tNH:i:1\tHI:i:1\tAS:i:155\tnM:i:1\n",
      "SRR1145037.1.6551424\t99\t17\t60508\t255\t92M8S\t=\t60538\t92\tTCCACTGCTGCTGCCCCTGCCCTGACTCCCAGCCCTGCCTGACCCCACCTCAACCTGCTCAGGCTCTGGCGCAACCCTGGCTGCCCTGCCACAGATCGGA\tCCCFFFFFHHHHHIJJJJJJJJJJJJJJJJGIJJJJJIIHIIJIJHGIJJJGIJJJJJIJJEHHHHFFFDDDDDDDDBDDDDDDDDDDDDCD?ACCC?BD\tNH:i:1\tHI:i:1\tAS:i:146\tnM:i:3\n",
      "SRR1145037.1.3059180\t83\t17\t60533\t255\t67M\t=\t60508\t-92\tCTCCCAGCCCTGCCTGACCCCCCCTCAACCTGCTCAGGCTCTGGCGCAACCCTGGCTGCCCTGCCAC\t02??728<;?=<=<8)&<<95(@7)DCBCCDD?;CDCD@D?DC)?8CBCCB?AEDCA1DDDDAD?;?\tNH:i:1\tHI:i:1\tAS:i:155\tnM:i:1\n",
      "SRR1145037.1.6551424\t147\t17\t60538\t255\t62M\t=\t60508\t-92\tAGCCCTGCCTGCCCCCCCCTCACCCTGCTCAGGCTCTGGCGCAACCCTGGCTGCCCTGCCAC\t20@78059505&DBB:(E@658'C8**?;B;DBBB0:G??;AC<HE<3GF?BDHFFFFFCBB\tNH:i:1\tHI:i:1\tAS:i:146\tnM:i:3\n",
      "SRR1145037.1.5624555\t163\t17\t61555\t255\t92M\t=\t61695\t240\tATATTTTTCATTGTGCCAAAAAGTTGCCATGACCGTCATTAAACCTGTTTAACACCAAATAATAAGGAAAATAAAATAAAAAATTCGGGCTT\tB@@DFFEDHDHFDIGEHDEDHJEBEGEIG@F@HGI<DHIIEEHEHCGHGIIJGADGIGIIEDEG@;3CHG9)==7?EDF?DDC9@>BB=/8A\tNH:i:1\tHI:i:1\tAS:i:188\tnM:i:1\n",
      "samtools view: writing to standard output failed: Broken pipe\n",
      "samtools view: error closing standard output: -1\n"
     ]
    }
   ],
   "source": [
    "samtools view ../result/Star/Aligned.sortedByCoord.out.bam | head -5"
   ]
  },
  {
   "cell_type": "code",
   "execution_count": 22,
   "metadata": {},
   "outputs": [
    {
     "name": "stdout",
     "output_type": "stream",
     "text": [
      "SRR1145037.1.3059180\t163\t17\t60508\t255\t92M8S\t=\t60533\t92\tTCCACTGCTGCTGCCCCTGCCCTGACTCCCAGCCCTGCCTGACCCCACCTCAACCTGCTCAGGCTCTGGCGCAACCCTGGCTGCCCTGCCACAGATCGGA\t@C@FDDFFHFHBBFFHIJIIGIEHCGHIJIGJIJEIIIIGGGIIJJIDHGEHIJIIGGIGIFEHHGFCDEDC?BBDDBCBBDDD@BCDDDDDDDDDDDDD\tNH:i:1\tHI:i:1\tAS:i:155\tnM:i:1\n",
      "SRR1145037.1.6551424\t99\t17\t60508\t255\t92M8S\t=\t60538\t92\tTCCACTGCTGCTGCCCCTGCCCTGACTCCCAGCCCTGCCTGACCCCACCTCAACCTGCTCAGGCTCTGGCGCAACCCTGGCTGCCCTGCCACAGATCGGA\tCCCFFFFFHHHHHIJJJJJJJJJJJJJJJJGIJJJJJIIHIIJIJHGIJJJGIJJJJJIJJEHHHHFFFDDDDDDDDBDDDDDDDDDDDDCD?ACCC?BD\tNH:i:1\tHI:i:1\tAS:i:146\tnM:i:3\n",
      "SRR1145037.1.3059180\t83\t17\t60533\t255\t67M\t=\t60508\t-92\tCTCCCAGCCCTGCCTGACCCCCCCTCAACCTGCTCAGGCTCTGGCGCAACCCTGGCTGCCCTGCCAC\t02??728<;?=<=<8)&<<95(@7)DCBCCDD?;CDCD@D?DC)?8CBCCB?AEDCA1DDDDAD?;?\tNH:i:1\tHI:i:1\tAS:i:155\tnM:i:1\n",
      "SRR1145037.1.6551424\t147\t17\t60538\t255\t62M\t=\t60508\t-92\tAGCCCTGCCTGCCCCCCCCTCACCCTGCTCAGGCTCTGGCGCAACCCTGGCTGCCCTGCCAC\t20@78059505&DBB:(E@658'C8**?;B;DBBB0:G??;AC<HE<3GF?BDHFFFFFCBB\tNH:i:1\tHI:i:1\tAS:i:146\tnM:i:3\n",
      "SRR1145037.1.5624555\t163\t17\t61555\t255\t92M\t=\t61695\t240\tATATTTTTCATTGTGCCAAAAAGTTGCCATGACCGTCATTAAACCTGTTTAACACCAAATAATAAGGAAAATAAAATAAAAAATTCGGGCTT\tB@@DFFEDHDHFDIGEHDEDHJEBEGEIG@F@HGI<DHIIEEHEHCGHGIIJGADGIGIIEDEG@;3CHG9)==7?EDF?DDC9@>BB=/8A\tNH:i:1\tHI:i:1\tAS:i:188\tnM:i:1\n",
      "samtools view: writing to standard output failed: Broken pipe\n",
      "samtools view: error closing standard output: -1\n"
     ]
    }
   ],
   "source": [
    "samtools view ../result/Star_sjdb/Aligned.sortedByCoord.out.bam | head -5"
   ]
  },
  {
   "cell_type": "code",
   "execution_count": 23,
   "metadata": {},
   "outputs": [
    {
     "name": "stdout",
     "output_type": "stream",
     "text": [
      "SRR1145037.1.3059180\t163\t17\t60508\t60\t92M8S\t=\t60533\t100\tTCCACTGCTGCTGCCCCTGCCCTGACTCCCAGCCCTGCCTGACCCCACCTCAACCTGCTCAGGCTCTGGCGCAACCCTGGCTGCCCTGCCACAGATCGGA\t@C@FDDFFHFHBBFFHIJIIGIEHCGHIJIGJIJEIIIIGGGIIJJIDHGEHIJIIGGIGIFEHHGFCDEDC?BBDDBCBBDDD@BCDDDDDDDDDDDDD\tAS:i:-8\tXN:i:0\tXM:i:0\tXO:i:0\tXG:i:0\tNM:i:0\tMD:Z:92\tYS:i:-2\tYT:Z:CP\tNH:i:1\n",
      "SRR1145037.1.6551424\t99\t17\t60508\t60\t92M8S\t=\t60538\t100\tTCCACTGCTGCTGCCCCTGCCCTGACTCCCAGCCCTGCCTGACCCCACCTCAACCTGCTCAGGCTCTGGCGCAACCCTGGCTGCCCTGCCACAGATCGGA\tCCCFFFFFHHHHHIJJJJJJJJJJJJJJJJGIJJJJJIIHIIJIJHGIJJJGIJJJJJIJJEHHHHFFFDDDDDDDDBDDDDDDDDDDDDCD?ACCC?BD\tAS:i:-8\tXN:i:0\tXM:i:0\tXO:i:0\tXG:i:0\tNM:i:0\tMD:Z:92\tYS:i:-6\tYT:Z:CP\tNH:i:1\n",
      "SRR1145037.1.3059180\t83\t17\t60533\t60\t67M\t=\t60508\t-100\tCTCCCAGCCCTGCCTGACCCCCCCTCAACCTGCTCAGGCTCTGGCGCAACCCTGGCTGCCCTGCCAC\t02??728<;?=<=<8)&<<95(@7)DCBCCDD?;CDCD@D?DC)?8CBCCB?AEDCA1DDDDAD?;?\tAS:i:-2\tXN:i:0\tXM:i:1\tXO:i:0\tXG:i:0\tNM:i:1\tMD:Z:21A45\tYS:i:-8\tYT:Z:CP\tNH:i:1\n",
      "SRR1145037.1.6551424\t147\t17\t60538\t60\t62M\t=\t60508\t-100\tAGCCCTGCCTGCCCCCCCCTCACCCTGCTCAGGCTCTGGCGCAACCCTGGCTGCCCTGCCAC\t20@78059505&DBB:(E@658'C8**?;B;DBBB0:G??;AC<HE<3GF?BDHFFFFFCBB\tAS:i:-6\tXN:i:0\tXM:i:3\tXO:i:0\tXG:i:0\tNM:i:3\tMD:Z:11A4A5A39\tYS:i:-8\tYT:Z:CP\tNH:i:1\n",
      "SRR1145037.1.5624555\t163\t17\t61555\t60\t92M\t=\t61695\t240\tATATTTTTCATTGTGCCAAAAAGTTGCCATGACCGTCATTAAACCTGTTTAACACCAAATAATAAGGAAAATAAAATAAAAAATTCGGGCTT\tB@@DFFEDHDHFDIGEHDEDHJEBEGEIG@F@HGI<DHIIEEHEHCGHGIIJGADGIGIIEDEG@;3CHG9)==7?EDF?DDC9@>BB=/8A\tAS:i:0\tXN:i:0\tXM:i:0\tXO:i:0\tXG:i:0\tNM:i:0\tMD:Z:92\tYS:i:-5\tYT:Z:CP\tNH:i:1\n",
      "samtools view: writing to standard output failed: Broken pipe\n",
      "samtools view: error closing standard output: -1\n"
     ]
    }
   ],
   "source": [
    "samtools view ../result/hisat2/chr17_hisat2_sorted.bam | head -5"
   ]
  },
  {
   "cell_type": "code",
   "execution_count": 25,
   "metadata": {},
   "outputs": [
    {
     "name": "stdout",
     "output_type": "stream",
     "text": [
      "SRR1145037.1.7093569\t141\t*\t0\t0\t*\t*\t0\t0\tTGGAGCTCGAGTGGATCCCGGAGACGCTCTACAACACCGCCATCTCCGCTGTCGTGGACAACTACATCCGCTCGCGCCGCGACATCCGCTCCTTGCCGGA\t@@@DFFFDDAHHFEGE<EHGG8FCFDHIGGBHGIGAG;FAGBEEA@3-:<BDECA;?BAADDACDDDDCBB>BB<@9<B><-90<AABBBDDCCCCC99<\tYT:Z:UP\n",
      "SRR1145037.1.7094978\t77\t*\t0\t0\t*\t*\t0\t0\tCCGAGTAGCTGGGATTACAGGCGTGCACCACCACGCCGGGCCAATTTTTTATATCTTTAGCAGAGATGGGGTTTCACCAGGCCGGCCAGGCTGGTCTCGA\tCCCFFDEFHHHHHIJJJJJJJIJJIJJJJJJJJJJJJJJIJJEHHHHHHFDEEEEFFDDDDDDDDDDDDDD8>DDCDDDDDDDDDDDDDDDDDDCDCDDA\tYT:Z:UP\n",
      "SRR1145037.1.7094978\t141\t*\t0\t0\t*\t*\t0\t0\tGGGAGGCCGAGGCGGGTGGATCATGAGGTCAGGAGTTCGAGACCAGCCTGGCCGGCCTGGTGAAACCCCATCTCTGCTAAAGATATAAAAAATTGGCCCG\tCCCFFFFFHFHGHJJJ'@EEEHDFFBEF>CCEECB?CCDACABDDDDDCDDDDDDBDBBD:AACDCDDD@CDCCDACCDDCCCCCDECDDDDBDACDDDD\tYT:Z:UP\n",
      "SRR1145037.1.7095371\t77\t*\t0\t0\t*\t*\t0\t0\tCCCTGCCTGACCCCAACCTCATCACCTTCCTTTTCCTGCTGGAACACTTGAAAAGGGTTGCTGAGAAGGAGCCCATCAACAAGATGTCACTTCACAACCT\tCCCFFFFFHHHHHJJJGJJJIJJJJJJJJJJJJJJJJJJJJJJJJJJJJIJJJJJJJFHIJJJJJHHHHHFFFDDEEEDDDDDDDDDDDDDDDDDDDDDD\tYT:Z:UP\n",
      "SRR1145037.1.7095371\t141\t*\t0\t0\t*\t*\t0\t0\tCTCAGTAACGTGGGGCCAAACACCGTGGCAAGGTTGTGAAGTGACATCTTGTTGATGGGCTCCTTCTCAGCAACCCTTTTCAAGTGTTCCAGCAGGAAAA\tCCCFFFFFHHHHHJJJJJJJJJJJJHIJJJJJFGHJGIIIJGIJJIJJJJJJJJIIHHHHHFFFFEEEEEEEDDDDDDDDDDCD@CDEDDEDDDDDDDDC\tYT:Z:UP\n"
     ]
    }
   ],
   "source": [
    "samtools view ../result/hisat2_ss/chr17_hisat2_sorted_ss.bam | tail -5"
   ]
  },
  {
   "cell_type": "code",
   "execution_count": 1,
   "metadata": {},
   "outputs": [],
   "source": [
    "cd $SCRATCH\n",
    "cd appl_genomics/week_4/data/"
   ]
  },
  {
   "cell_type": "code",
   "execution_count": 2,
   "metadata": {},
   "outputs": [
    {
     "name": "stdout",
     "output_type": "stream",
     "text": [
      "chr17.fa      chr17.fa.bwt  chr17.gtf\t     chr17_bwa\t      fastqc\n",
      "chr17.fa.amb  chr17.fa.pac  chr17_Star\t     chr17_hisat2     read_1.fastq\n",
      "chr17.fa.ann  chr17.fa.sa   chr17_Star_sjdb  chr17_hisat2_ss  read_2.fastq\n"
     ]
    }
   ],
   "source": [
    "ls"
   ]
  },
  {
   "cell_type": "code",
   "execution_count": 9,
   "metadata": {},
   "outputs": [
    {
     "name": "stdout",
     "output_type": "stream",
     "text": [
      "17\thavana\tgene\t64099\t76866\t.\t-\t.\tgene_id \"ENSG00000280279\"; gene_version \"1\"; gene_name \"AC240565.4\"; gene_source \"havana\"; gene_biotype \"lncRNA\";\n",
      "17\thavana\ttranscript\t64099\t76866\t.\t-\t.\tgene_id \"ENSG00000280279\"; gene_version \"1\"; transcript_id \"ENST00000623180\"; transcript_version \"1\"; gene_name \"AC240565.4\"; gene_source \"havana\"; gene_biotype \"lncRNA\"; transcript_name \"AC240565.4-201\"; transcript_source \"havana\"; transcript_biotype \"lncRNA\"; tag \"basic\"; transcript_support_level \"5\";\n",
      "17\thavana\texon\t76723\t76866\t.\t-\t.\tgene_id \"ENSG00000280279\"; gene_version \"1\"; transcript_id \"ENST00000623180\"; transcript_version \"1\"; exon_number \"1\"; gene_name \"AC240565.4\"; gene_source \"havana\"; gene_biotype \"lncRNA\"; transcript_name \"AC240565.4-201\"; transcript_source \"havana\"; transcript_biotype \"lncRNA\"; exon_id \"ENSE00003756684\"; exon_version \"1\"; tag \"basic\"; transcript_support_level \"5\";\n",
      "17\thavana\texon\t75814\t75878\t.\t-\t.\tgene_id \"ENSG00000280279\"; gene_version \"1\"; transcript_id \"ENST00000623180\"; transcript_version \"1\"; exon_number \"2\"; gene_name \"AC240565.4\"; gene_source \"havana\"; gene_biotype \"lncRNA\"; transcript_name \"AC240565.4-201\"; transcript_source \"havana\"; transcript_biotype \"lncRNA\"; exon_id \"ENSE00003755749\"; exon_version \"1\"; tag \"basic\"; transcript_support_level \"5\";\n",
      "17\thavana\texon\t71366\t71556\t.\t-\t.\tgene_id \"ENSG00000280279\"; gene_version \"1\"; transcript_id \"ENST00000623180\"; transcript_version \"1\"; exon_number \"3\"; gene_name \"AC240565.4\"; gene_source \"havana\"; gene_biotype \"lncRNA\"; transcript_name \"AC240565.4-201\"; transcript_source \"havana\"; transcript_biotype \"lncRNA\"; exon_id \"ENSE00003756616\"; exon_version \"1\"; tag \"basic\"; transcript_support_level \"5\";\n",
      "17\thavana\texon\t65830\t65887\t.\t-\t.\tgene_id \"ENSG00000280279\"; gene_version \"1\"; transcript_id \"ENST00000623180\"; transcript_version \"1\"; exon_number \"4\"; gene_name \"AC240565.4\"; gene_source \"havana\"; gene_biotype \"lncRNA\"; transcript_name \"AC240565.4-201\"; transcript_source \"havana\"; transcript_biotype \"lncRNA\"; exon_id \"ENSE00003755230\"; exon_version \"1\"; tag \"basic\"; transcript_support_level \"5\";\n",
      "17\thavana\texon\t64099\t65736\t.\t-\t.\tgene_id \"ENSG00000280279\"; gene_version \"1\"; transcript_id \"ENST00000623180\"; transcript_version \"1\"; exon_number \"5\"; gene_name \"AC240565.4\"; gene_source \"havana\"; gene_biotype \"lncRNA\"; transcript_name \"AC240565.4-201\"; transcript_source \"havana\"; transcript_biotype \"lncRNA\"; exon_id \"ENSE00003759547\"; exon_version \"1\"; tag \"basic\"; transcript_support_level \"5\";\n",
      "17\thavana\tgene\t88641\t118578\t.\t-\t.\tgene_id \"ENSG00000280136\"; gene_version \"2\"; gene_name \"AC240565.3\"; gene_source \"havana\"; gene_biotype \"lncRNA\";\n",
      "17\thavana\ttranscript\t88641\t118578\t.\t-\t.\tgene_id \"ENSG00000280136\"; gene_version \"2\"; transcript_id \"ENST00000624936\"; transcript_version \"2\"; gene_name \"AC240565.3\"; gene_source \"havana\"; gene_biotype \"lncRNA\"; transcript_name \"AC240565.3-201\"; transcript_source \"havana\"; transcript_biotype \"lncRNA\"; tag \"basic\"; transcript_support_level \"5\";\n",
      "17\thavana\texon\t118383\t118578\t.\t-\t.\tgene_id \"ENSG00000280136\"; gene_version \"2\"; transcript_id \"ENST00000624936\"; transcript_version \"2\"; exon_number \"1\"; gene_name \"AC240565.3\"; gene_source \"havana\"; gene_biotype \"lncRNA\"; transcript_name \"AC240565.3-201\"; transcript_source \"havana\"; transcript_biotype \"lncRNA\"; exon_id \"ENSE00003756821\"; exon_version \"1\"; tag \"basic\"; transcript_support_level \"5\";\n",
      "cat: write error: Broken pipe\n"
     ]
    }
   ],
   "source": [
    "cat chr17.fa | head -10"
   ]
  },
  {
   "cell_type": "code",
   "execution_count": 4,
   "metadata": {},
   "outputs": [
    {
     "name": "stdout",
     "output_type": "stream",
     "text": [
      "\n",
      "--------------------------- /share/apps/modulefiles ----------------------------\n",
      "   samtools/intel/1.11\n"
     ]
    }
   ],
   "source": [
    "module avail samtools"
   ]
  },
  {
   "cell_type": "code",
   "execution_count": 5,
   "metadata": {},
   "outputs": [],
   "source": [
    "module load samtools/intel/1.11"
   ]
  },
  {
   "cell_type": "code",
   "execution_count": 10,
   "metadata": {},
   "outputs": [
    {
     "name": "stdout",
     "output_type": "stream",
     "text": [
      "/scratch/td2201/appl_genomics/week_4/data\n"
     ]
    }
   ],
   "source": [
    "pwd"
   ]
  },
  {
   "cell_type": "code",
   "execution_count": 11,
   "metadata": {},
   "outputs": [
    {
     "name": "stdout",
     "output_type": "stream",
     "text": [
      "752418 + 0 in total (QC-passed reads + QC-failed reads)\n",
      "15778 + 0 secondary\n",
      "0 + 0 supplementary\n",
      "0 + 0 duplicates\n",
      "733848 + 0 mapped (97.53% : N/A)\n",
      "736640 + 0 paired in sequencing\n",
      "368320 + 0 read1\n",
      "368320 + 0 read2\n",
      "709314 + 0 properly paired (96.29% : N/A)\n",
      "711968 + 0 with itself and mate mapped\n",
      "6102 + 0 singletons (0.83% : N/A)\n",
      "0 + 0 with mate mapped to a different chr\n",
      "0 + 0 with mate mapped to a different chr (mapQ>=5)\n"
     ]
    }
   ],
   "source": [
    "cat ../chr17_hisat2_sorted_ss.txt"
   ]
  },
  {
   "cell_type": "code",
   "execution_count": null,
   "metadata": {},
   "outputs": [],
   "source": []
  }
 ],
 "metadata": {
  "kernelspec": {
   "display_name": "Bash",
   "language": "bash",
   "name": "bash"
  },
  "language_info": {
   "codemirror_mode": "shell",
   "file_extension": ".sh",
   "mimetype": "text/x-sh",
   "name": "bash"
  }
 },
 "nbformat": 4,
 "nbformat_minor": 4
}
