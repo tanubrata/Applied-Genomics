{
 "cells": [
  {
   "cell_type": "markdown",
   "metadata": {},
   "source": [
    "Name: Tanubrata Dey \n",
    "\n",
    "UID-N10633072\n",
    "\n",
    "HW #3- BIOL GA 1130"
   ]
  },
  {
   "cell_type": "markdown",
   "metadata": {},
   "source": [
    "## Introduction\n",
    "\n",
    "**You are provided a RNA-sequencing dataset of SARS-CoV-2. SARS-CoV-2 is the pathogen for COVID-19. Since it is a RNA virus, RNA-Seq is used to read its genome. The dataset is collected at Bangladesh by Child Health Research Foundation and uploaded on 2020/5/16. You will be uncovering variants emerging in the sample.\n",
    "Data**\n",
    "\n",
    "You are provided the following files . Please copy them from : /scratch/work/courses/AppliedGenomics2021Sec3/assignment03\n",
    "\n",
    "    Reference genome (fasta file) of SARS-CoV-2: data/genome/NC_045512.2.fa\n",
    "    RNA-seq result: data/raw_seq/SRR11801823_1.fastq and SRR11801823_2.fastq\n",
    "    Adapter database: Sequencing_adaptors.fasta\n",
    "    VCF annotation summarizer: vcf_summary.sh\n",
    "    snpEff database: Files in data/sarscov2\n",
    "    snpEff setting: snpEff.config\n"
   ]
  },
  {
   "cell_type": "code",
   "execution_count": 1,
   "metadata": {},
   "outputs": [
    {
     "name": "stdout",
     "output_type": "stream",
     "text": [
      "/scratch/td2201/appl_genomics/week_5_hw3\n"
     ]
    }
   ],
   "source": [
    "pwd"
   ]
  },
  {
   "cell_type": "code",
   "execution_count": 3,
   "metadata": {},
   "outputs": [],
   "source": [
    "cp -r /scratch/work/courses/AppliedGenomics2021Sec3/assignment03/* /scratch/td2201/appl_genomics/week_5_hw3/"
   ]
  },
  {
   "cell_type": "code",
   "execution_count": 2,
   "metadata": {},
   "outputs": [
    {
     "name": "stdout",
     "output_type": "stream",
     "text": [
      ".\n",
      "├── Sequencing_adaptors.fasta\n",
      "├── Untitled.ipynb\n",
      "├── data\n",
      "│   ├── fastqc\n",
      "│   │   ├── SRR11801823_1_fastqc.html\n",
      "│   │   ├── SRR11801823_1_fastqc.zip\n",
      "│   │   ├── SRR11801823_1_trimmed_fastqc.html\n",
      "│   │   ├── SRR11801823_1_trimmed_fastqc.zip\n",
      "│   │   ├── SRR11801823_2_fastqc.html\n",
      "│   │   ├── SRR11801823_2_fastqc.zip\n",
      "│   │   ├── SRR11801823_2_trimmed_fastqc.html\n",
      "│   │   └── SRR11801823_2_trimmed_fastqc.zip\n",
      "│   ├── genome\n",
      "│   │   ├── NC_045512.2.dict\n",
      "│   │   ├── NC_045512.2.fa\n",
      "│   │   ├── NC_045512.2.fa.amb\n",
      "│   │   ├── NC_045512.2.fa.ann\n",
      "│   │   ├── NC_045512.2.fa.bwt\n",
      "│   │   ├── NC_045512.2.fa.fai\n",
      "│   │   ├── NC_045512.2.fa.pac\n",
      "│   │   └── NC_045512.2.fa.sa\n",
      "│   ├── raw_seq\n",
      "│   │   ├── SRR11801823_1.fastq\n",
      "│   │   ├── SRR11801823_1_trimmed.fq\n",
      "│   │   ├── SRR11801823_1_unpair_trimmed.fq\n",
      "│   │   ├── SRR11801823_2.fastq\n",
      "│   │   ├── SRR11801823_2_trimmed.fq\n",
      "│   │   └── SRR11801823_2_unpair_trimmed.fq\n",
      "│   └── sarscov2\n",
      "│       ├── genes.gff\n",
      "│       ├── sequences.fa\n",
      "│       └── snpEffectPredictor.bin\n",
      "├── result\n",
      "│   ├── aligned_reads.sam\n",
      "│   ├── aligned_sorted_reads.bam\n",
      "│   ├── aligned_sorted_reads_rg.bam\n",
      "│   ├── deduplicated_reads.bam\n",
      "│   ├── deduplicated_reads.bam.bai\n",
      "│   ├── filtered_snps.ann.vcf\n",
      "│   ├── filtered_snps.vcf\n",
      "│   ├── filtered_snps.vcf.idx\n",
      "│   ├── metrics.txt\n",
      "│   ├── raw_indels.vcf\n",
      "│   ├── raw_indels.vcf.idx\n",
      "│   ├── raw_snps.vcf\n",
      "│   ├── raw_snps.vcf.idx\n",
      "│   ├── raw_variants.vcf\n",
      "│   └── raw_variants.vcf.idx\n",
      "├── snpEff.config\n",
      "├── snpEff_genes.txt\n",
      "├── snpEff_summary.html\n",
      "└── vcf_summary.sh\n",
      "\n",
      "6 directories, 46 files\n"
     ]
    }
   ],
   "source": [
    "tree"
   ]
  },
  {
   "cell_type": "markdown",
   "metadata": {},
   "source": [
    "## Analysis steps\n",
    "\n",
    "**Check the adapter database and:**\n",
    "\n",
    "       1. Describe what is in the database.\n",
    "       \n",
    "       2. What is the sequence of Illumina Paired End Sequencing Primer 1.\n"
   ]
  },
  {
   "cell_type": "markdown",
   "metadata": {},
   "source": []
  },
  {
   "cell_type": "code",
   "execution_count": 3,
   "metadata": {},
   "outputs": [
    {
     "name": "stdout",
     "output_type": "stream",
     "text": [
      ">Illumina Single End Apapter 1\t\t\t\t\t\n",
      "ACACTCTTTCCCTACACGACGCTGTTCCATCT\n",
      ">Illumina Single End Apapter 2\t\t\t\t\t\n",
      "CAAGCAGAAGACGGCATACGAGCTCTTCCGATCT\n",
      ">Illumina Single End PCR Primer 1\t\t\t\t\n",
      "AATGATACGGCGACCACCGAGATCTACACTCTTTCCCTACACGACGCTCTTCCGATCT\n",
      ">Illumina Single End PCR Primer 2\t\t\t\t\n",
      "CAAGCAGAAGACGGCATACGAGCTCTTCCGATCT\n",
      ">Illumina Single End Sequencing Primer\t\t\t\n",
      "ACACTCTTTCCCTACACGACGCTCTTCCGATCT\n",
      "\n",
      ">Illumina Paired End Adapter 1\t\t\t\t\t\n",
      "ACACTCTTTCCCTACACGACGCTCTTCCGATCT\n",
      ">Illumina Paired End Adapter 2\t\t\t\t\t\n",
      "CTCGGCATTCCTGCTGAACCGCTCTTCCGATCT\n",
      ">Illumina Paried End PCR Primer 1\t\t\t\t\n",
      "AATGATACGGCGACCACCGAGATCTACACTCTTTCCCTACACGACGCTCTTCCGATCT\n",
      ">Illumina Paired End PCR Primer 2\t\t\t\t\n",
      "CAAGCAGAAGACGGCATACGAGATCGGTCTCGGCATTCCTGCTGAACCGCTCTTCCGATCT\n",
      ">Illumina Paried End Sequencing Primer 1\t\t\t\n",
      "ACACTCTTTCCCTACACGACGCTCTTCCGATCT\n",
      ">Illumina Paired End Sequencing Primer 2\t\t\t\n",
      "CGGTCTCGGCATTCCTACTGAACCGCTCTTCCGATCT\n",
      "\n"
     ]
    }
   ],
   "source": [
    "cat Sequencing_adaptors.fasta | head -24"
   ]
  },
  {
   "cell_type": "markdown",
   "metadata": {},
   "source": [
    "***\n",
    ">The adaptor database *Sequencing_adaptors.fasta* consists of a list of annotations of all kinds of adapters that might exist in the genome. So it is basically an annotation file for adapters."
   ]
  },
  {
   "cell_type": "markdown",
   "metadata": {},
   "source": [
    ">**Illumina Paried End Sequencing Primer 1**\t\t\t\n",
    "ACACTCTTTCCCTACACGACGCTCTTCCGATCT\n",
    "\n",
    "***"
   ]
  },
  {
   "cell_type": "code",
   "execution_count": 7,
   "metadata": {},
   "outputs": [],
   "source": [
    "mkdir data/fastqc/"
   ]
  },
  {
   "cell_type": "code",
   "execution_count": 8,
   "metadata": {},
   "outputs": [],
   "source": [
    "mkdir result"
   ]
  },
  {
   "cell_type": "markdown",
   "metadata": {},
   "source": [
    "**2. Perform the following analysis:**\n",
    "\n",
    "    1. Fastqc the RNA-seq. Do you see adapter enrichment in the data?\n",
    "    \n",
    "    2. If you see adapter, use Trimmomatic to remove the adapter (example command).\n",
    "    \n",
    "    3. Run Fastqc on trimmed fastqs again to check adapter content.\n"
   ]
  },
  {
   "cell_type": "markdown",
   "metadata": {},
   "source": []
  },
  {
   "cell_type": "code",
   "execution_count": 4,
   "metadata": {},
   "outputs": [
    {
     "name": "stdout",
     "output_type": "stream",
     "text": [
      "\n",
      "Currently Loaded Modules:\n",
      "  1) python/intel/3.8.6   3) r/intel/4.0.3\n",
      "  2) intel/19.1.2         4) fastqc/0.11.9\n",
      "\n",
      " \n",
      "\n"
     ]
    }
   ],
   "source": [
    "#load fastqc \n",
    "module load fastqc/0.11.9\n",
    "module list"
   ]
  },
  {
   "cell_type": "code",
   "execution_count": 5,
   "metadata": {},
   "outputs": [],
   "source": [
    "cd data"
   ]
  },
  {
   "cell_type": "code",
   "execution_count": 6,
   "metadata": {},
   "outputs": [
    {
     "name": "stdout",
     "output_type": "stream",
     "text": [
      "Started analysis of SRR11801823_1.fastq\n",
      "Approx 5% complete for SRR11801823_1.fastq\n",
      "Approx 10% complete for SRR11801823_1.fastq\n",
      "Approx 15% complete for SRR11801823_1.fastq\n",
      "Approx 20% complete for SRR11801823_1.fastq\n",
      "Approx 25% complete for SRR11801823_1.fastq\n",
      "Approx 30% complete for SRR11801823_1.fastq\n",
      "Approx 35% complete for SRR11801823_1.fastq\n",
      "Approx 40% complete for SRR11801823_1.fastq\n",
      "Approx 45% complete for SRR11801823_1.fastq\n",
      "Approx 50% complete for SRR11801823_1.fastq\n",
      "Approx 55% complete for SRR11801823_1.fastq\n",
      "Approx 60% complete for SRR11801823_1.fastq\n",
      "Approx 65% complete for SRR11801823_1.fastq\n",
      "Approx 70% complete for SRR11801823_1.fastq\n",
      "Approx 75% complete for SRR11801823_1.fastq\n",
      "Approx 80% complete for SRR11801823_1.fastq\n",
      "Approx 85% complete for SRR11801823_1.fastq\n",
      "Approx 90% complete for SRR11801823_1.fastq\n",
      "Approx 95% complete for SRR11801823_1.fastq\n",
      "Analysis complete for SRR11801823_1.fastq\n",
      "Started analysis of SRR11801823_2.fastq\n",
      "Approx 5% complete for SRR11801823_2.fastq\n",
      "Approx 10% complete for SRR11801823_2.fastq\n",
      "Approx 15% complete for SRR11801823_2.fastq\n",
      "Approx 20% complete for SRR11801823_2.fastq\n",
      "Approx 25% complete for SRR11801823_2.fastq\n",
      "Approx 30% complete for SRR11801823_2.fastq\n",
      "Approx 35% complete for SRR11801823_2.fastq\n",
      "Approx 40% complete for SRR11801823_2.fastq\n",
      "Approx 45% complete for SRR11801823_2.fastq\n",
      "Approx 50% complete for SRR11801823_2.fastq\n",
      "Approx 55% complete for SRR11801823_2.fastq\n",
      "Approx 60% complete for SRR11801823_2.fastq\n",
      "Approx 65% complete for SRR11801823_2.fastq\n",
      "Approx 70% complete for SRR11801823_2.fastq\n",
      "Approx 75% complete for SRR11801823_2.fastq\n",
      "Approx 80% complete for SRR11801823_2.fastq\n",
      "Approx 85% complete for SRR11801823_2.fastq\n",
      "Approx 90% complete for SRR11801823_2.fastq\n",
      "Approx 95% complete for SRR11801823_2.fastq\n",
      "Analysis complete for SRR11801823_2.fastq\n"
     ]
    }
   ],
   "source": [
    "fastqc raw_seq/SRR11801823_1.fastq -o fastqc/\n",
    "fastqc raw_seq/SRR11801823_2.fastq -o fastqc/"
   ]
  },
  {
   "cell_type": "markdown",
   "metadata": {},
   "source": [
    "> After running the Fastqc on read 1 and read 2, I see presence of Illumina adapters on both reads near 3' end. So to cope up with the adapters, I use trimmomatic to get rid of them as much possible and make alignment results more accurate. "
   ]
  },
  {
   "cell_type": "code",
   "execution_count": 7,
   "metadata": {},
   "outputs": [
    {
     "name": "stdout",
     "output_type": "stream",
     "text": [
      "\n",
      "Currently Loaded Modules:\n",
      "  1) python/intel/3.8.6   3) r/intel/4.0.3   5) jdk/1.8.0_271\n",
      "  2) intel/19.1.2         4) fastqc/0.11.9   6) trimmomatic/0.39\n",
      "\n",
      " \n",
      "\n"
     ]
    }
   ],
   "source": [
    "module load trimmomatic/0.39\n",
    "module list"
   ]
  },
  {
   "cell_type": "code",
   "execution_count": 8,
   "metadata": {},
   "outputs": [
    {
     "name": "stdout",
     "output_type": "stream",
     "text": [
      "TRIMMOMATIC_HOME=/share/apps/trimmomatic/0.39\n",
      "__LMOD_REF_COUNT__LMFILES_=/share/apps/modulefiles/python/intel/3.8.6.lua:1;/share/apps/modulefiles/intel/19.1.2.lua:1;/share/apps/modulefiles/r/intel/4.0.3.lua:1;/share/apps/modulefiles/fastqc/0.11.9.lua:1;/share/apps/modulefiles/jdk/1.8.0_271.lua:1;/share/apps/modulefiles/trimmomatic/0.39.lua:1\n",
      "TRIMMOMATIC_JAR=/share/apps/trimmomatic/0.39/trimmomatic-0.39.jar\n",
      "__LMOD_REF_COUNT_LOADEDMODULES=python/intel/3.8.6:1;intel/19.1.2:1;r/intel/4.0.3:1;fastqc/0.11.9:1;jdk/1.8.0_271:1;trimmomatic/0.39:1\n",
      "LOADEDMODULES=python/intel/3.8.6:intel/19.1.2:r/intel/4.0.3:fastqc/0.11.9:jdk/1.8.0_271:trimmomatic/0.39\n",
      "LMOD_FAMILY_TRIMMOMATIC=trimmomatic\n",
      "TRIMMOMATIC_ROOT=/share/apps/trimmomatic/0.39\n",
      "_LMFILES_=/share/apps/modulefiles/python/intel/3.8.6.lua:/share/apps/modulefiles/intel/19.1.2.lua:/share/apps/modulefiles/r/intel/4.0.3.lua:/share/apps/modulefiles/fastqc/0.11.9.lua:/share/apps/modulefiles/jdk/1.8.0_271.lua:/share/apps/modulefiles/trimmomatic/0.39.lua\n"
     ]
    }
   ],
   "source": [
    "env | grep \"trim\""
   ]
  },
  {
   "cell_type": "code",
   "execution_count": 9,
   "metadata": {},
   "outputs": [
    {
     "name": "stdout",
     "output_type": "stream",
     "text": [
      "TrimmomaticPE: Started with arguments:\n",
      " -phred33 raw_seq/SRR11801823_1.fastq raw_seq/SRR11801823_2.fastq raw_seq/SRR11801823_1_trimmed.fq raw_seq/SRR11801823_1_unpair_trimmed.fq raw_seq/SRR11801823_2_trimmed.fq raw_seq/SRR11801823_2_unpair_trimmed.fq ILLUMINACLIP:../Sequencing_adaptors.fasta:2:30:10:2:keepBothReads TRAILING:3 SLIDINGWINDOW:4:15 MINLEN:100\n",
      "Multiple cores found: Using 2 threads\n",
      "Using Long Clipping Sequence: 'CAAGCAGAAGACGGCATACGAGATTGCCGAGTGACTGGAGTTCCTTGGCACCCGAGAATTCCA'\n",
      "Using Medium Clipping Sequence: 'CTTACTCCTTGGAGGCCATG'\n",
      "Using Long Clipping Sequence: 'AGATCGGAAGAGCGTCGTGTAGGGAAAGAGTGTAGATCTCGGTGGTCGCCGTATCATT'\n",
      "Using Long Clipping Sequence: 'GATCGGAAGAGCACACGTCTGAACTCCAGTCACCTTGTAATCTCGTATGCCGTCTTCTGCTTG'\n",
      "Using Long Clipping Sequence: 'AATGATACGGCGACCACCGAGATCTACACGTTCAGAGTTCTACAGTCCGA'\n",
      "ILLUMINACLIP: Using 0 prefix pairs, 5 forward/reverse sequences, 0 forward only sequences, 0 reverse only sequences\n",
      "Input Read Pairs: 512892 Both Surviving: 396036 (77.22%) Forward Only Surviving: 9480 (1.85%) Reverse Only Surviving: 1567 (0.31%) Dropped: 105809 (20.63%)\n",
      "TrimmomaticPE: Completed successfully\n"
     ]
    }
   ],
   "source": [
    "java -jar $TRIMMOMATIC_JAR PE -phred33 \\\n",
    "raw_seq/SRR11801823_1.fastq raw_seq/SRR11801823_2.fastq \\\n",
    "raw_seq/SRR11801823_1_trimmed.fq raw_seq/SRR11801823_1_unpair_trimmed.fq \\\n",
    "raw_seq/SRR11801823_2_trimmed.fq raw_seq/SRR11801823_2_unpair_trimmed.fq \\\n",
    "ILLUMINACLIP:../Sequencing_adaptors.fasta:2:30:10:2:keepBothReads TRAILING:3 SLIDINGWINDOW:4:15 MINLEN:100"
   ]
  },
  {
   "cell_type": "code",
   "execution_count": 10,
   "metadata": {},
   "outputs": [
    {
     "name": "stdout",
     "output_type": "stream",
     "text": [
      "Started analysis of SRR11801823_1_trimmed.fq\n",
      "Approx 5% complete for SRR11801823_1_trimmed.fq\n",
      "Approx 10% complete for SRR11801823_1_trimmed.fq\n",
      "Approx 15% complete for SRR11801823_1_trimmed.fq\n",
      "Approx 20% complete for SRR11801823_1_trimmed.fq\n",
      "Approx 25% complete for SRR11801823_1_trimmed.fq\n",
      "Approx 30% complete for SRR11801823_1_trimmed.fq\n",
      "Approx 35% complete for SRR11801823_1_trimmed.fq\n",
      "Approx 40% complete for SRR11801823_1_trimmed.fq\n",
      "Approx 45% complete for SRR11801823_1_trimmed.fq\n",
      "Approx 50% complete for SRR11801823_1_trimmed.fq\n",
      "Approx 55% complete for SRR11801823_1_trimmed.fq\n",
      "Approx 60% complete for SRR11801823_1_trimmed.fq\n",
      "Approx 65% complete for SRR11801823_1_trimmed.fq\n",
      "Approx 70% complete for SRR11801823_1_trimmed.fq\n",
      "Approx 75% complete for SRR11801823_1_trimmed.fq\n",
      "Approx 80% complete for SRR11801823_1_trimmed.fq\n",
      "Approx 85% complete for SRR11801823_1_trimmed.fq\n",
      "Approx 90% complete for SRR11801823_1_trimmed.fq\n",
      "Approx 95% complete for SRR11801823_1_trimmed.fq\n",
      "Analysis complete for SRR11801823_1_trimmed.fq\n",
      "Started analysis of SRR11801823_2_trimmed.fq\n",
      "Approx 5% complete for SRR11801823_2_trimmed.fq\n",
      "Approx 10% complete for SRR11801823_2_trimmed.fq\n",
      "Approx 15% complete for SRR11801823_2_trimmed.fq\n",
      "Approx 20% complete for SRR11801823_2_trimmed.fq\n",
      "Approx 25% complete for SRR11801823_2_trimmed.fq\n",
      "Approx 30% complete for SRR11801823_2_trimmed.fq\n",
      "Approx 35% complete for SRR11801823_2_trimmed.fq\n",
      "Approx 40% complete for SRR11801823_2_trimmed.fq\n",
      "Approx 45% complete for SRR11801823_2_trimmed.fq\n",
      "Approx 50% complete for SRR11801823_2_trimmed.fq\n",
      "Approx 55% complete for SRR11801823_2_trimmed.fq\n",
      "Approx 60% complete for SRR11801823_2_trimmed.fq\n",
      "Approx 65% complete for SRR11801823_2_trimmed.fq\n",
      "Approx 70% complete for SRR11801823_2_trimmed.fq\n",
      "Approx 75% complete for SRR11801823_2_trimmed.fq\n",
      "Approx 80% complete for SRR11801823_2_trimmed.fq\n",
      "Approx 85% complete for SRR11801823_2_trimmed.fq\n",
      "Approx 90% complete for SRR11801823_2_trimmed.fq\n",
      "Approx 95% complete for SRR11801823_2_trimmed.fq\n",
      "Analysis complete for SRR11801823_2_trimmed.fq\n"
     ]
    }
   ],
   "source": [
    "fastqc raw_seq/SRR11801823_1_trimmed.fq -o fastqc/\n",
    "fastqc raw_seq/SRR11801823_2_trimmed.fq -o fastqc/"
   ]
  },
  {
   "cell_type": "markdown",
   "metadata": {},
   "source": [
    ">After trimming is done using **Trimmomatic**, I ran **Fastqc** again on both reads to verify whether it helped somehow. I observed that for read 1, 90% of them got trimmed but few were still observed at the end. For read 2, there was still some adaptors present but has decreased much after trimming. Now I am afraid to increase the trimming measures because some bases which might be not adapters, could get trimmed which could raise a problem in a good alignment.\n",
    "\n",
    "***"
   ]
  },
  {
   "cell_type": "markdown",
   "metadata": {},
   "source": [
    "**3. Align the RNA-seq data to the reference genome with bwa mem.**\n",
    "\n",
    "    *Remember to index the genome.*\n"
   ]
  },
  {
   "cell_type": "code",
   "execution_count": 11,
   "metadata": {},
   "outputs": [
    {
     "name": "stdout",
     "output_type": "stream",
     "text": [
      "\n",
      "Currently Loaded Modules:\n",
      "  1) python/intel/3.8.6   4) jdk/1.8.0_271      7) bwa/intel/0.7.17\n",
      "  2) r/intel/4.0.3        5) trimmomatic/0.39\n",
      "  3) fastqc/0.11.9        6) intel/19.1.2\n",
      "\n",
      " \n",
      "\n"
     ]
    }
   ],
   "source": [
    "module load bwa/intel/0.7.17\n",
    "module list"
   ]
  },
  {
   "cell_type": "code",
   "execution_count": 12,
   "metadata": {},
   "outputs": [
    {
     "name": "stdout",
     "output_type": "stream",
     "text": [
      "/scratch/td2201/appl_genomics/week_5_hw3/data/genome\n"
     ]
    }
   ],
   "source": [
    "cd genome/\n",
    "pwd"
   ]
  },
  {
   "cell_type": "markdown",
   "metadata": {},
   "source": [
    "I first create an index for the genome."
   ]
  },
  {
   "cell_type": "code",
   "execution_count": 13,
   "metadata": {},
   "outputs": [
    {
     "name": "stdout",
     "output_type": "stream",
     "text": [
      "[bwa_index] Pack FASTA... 0.00 sec\n",
      "[bwa_index] Construct BWT for the packed sequence...\n",
      "[bwa_index] 0.00 seconds elapse.\n",
      "[bwa_index] Update BWT... 0.00 sec\n",
      "[bwa_index] Pack forward-only FASTA... 0.00 sec\n",
      "[bwa_index] Construct SA from BWT and Occ... 0.00 sec\n",
      "[main] Version: 0.7.17-r1188\n",
      "[main] CMD: bwa index NC_045512.2.fa\n",
      "[main] Real time: 0.252 sec; CPU: 0.016 sec\n"
     ]
    }
   ],
   "source": [
    "bwa index NC_045512.2.fa"
   ]
  },
  {
   "cell_type": "markdown",
   "metadata": {},
   "source": [
    "Now I perform alignment of the two reads using ***BWA MEM***."
   ]
  },
  {
   "cell_type": "code",
   "execution_count": 14,
   "metadata": {},
   "outputs": [
    {
     "name": "stdout",
     "output_type": "stream",
     "text": [
      "[M::bwa_idx_load_from_disk] read 0 ALT contigs\n",
      "[M::process] read 72558 sequences (10000145 bp)...\n",
      "[M::process] read 72612 sequences (10000185 bp)...\n",
      "[M::mem_pestat] # candidate unique pairs for (FF, FR, RF, RR): (32, 36102, 45, 38)\n",
      "[M::mem_pestat] analyzing insert size distribution for orientation FF...\n",
      "[M::mem_pestat] (25, 50, 75) percentile: (73, 87, 152)\n",
      "[M::mem_pestat] low and high boundaries for computing mean and std.dev: (1, 310)\n",
      "[M::mem_pestat] mean and std.dev: (94.36, 37.10)\n",
      "[M::mem_pestat] low and high boundaries for proper pairs: (1, 389)\n",
      "[M::mem_pestat] analyzing insert size distribution for orientation FR...\n",
      "[M::mem_pestat] (25, 50, 75) percentile: (117, 140, 217)\n",
      "[M::mem_pestat] low and high boundaries for computing mean and std.dev: (1, 417)\n",
      "[M::mem_pestat] mean and std.dev: (169.47, 74.01)\n",
      "[M::mem_pestat] low and high boundaries for proper pairs: (1, 517)\n",
      "[M::mem_pestat] analyzing insert size distribution for orientation RF...\n",
      "[M::mem_pestat] (25, 50, 75) percentile: (96, 277, 949)\n",
      "[M::mem_pestat] low and high boundaries for computing mean and std.dev: (1, 2655)\n",
      "[M::mem_pestat] mean and std.dev: (450.51, 507.56)\n",
      "[M::mem_pestat] low and high boundaries for proper pairs: (1, 3508)\n",
      "[M::mem_pestat] analyzing insert size distribution for orientation RR...\n",
      "[M::mem_pestat] (25, 50, 75) percentile: (54, 82, 133)\n",
      "[M::mem_pestat] low and high boundaries for computing mean and std.dev: (1, 291)\n",
      "[M::mem_pestat] mean and std.dev: (84.85, 45.51)\n",
      "[M::mem_pestat] low and high boundaries for proper pairs: (1, 370)\n",
      "[M::mem_pestat] skip orientation FF\n",
      "[M::mem_pestat] skip orientation RF\n",
      "[M::mem_pestat] skip orientation RR\n",
      "[M::mem_process_seqs] Processed 72558 reads in 2.402 CPU sec, 2.362 real sec\n",
      "[M::process] read 72658 sequences (10000067 bp)...\n",
      "[M::mem_pestat] # candidate unique pairs for (FF, FR, RF, RR): (44, 36131, 43, 38)\n",
      "[M::mem_pestat] analyzing insert size distribution for orientation FF...\n",
      "[M::mem_pestat] (25, 50, 75) percentile: (62, 78, 105)\n",
      "[M::mem_pestat] low and high boundaries for computing mean and std.dev: (1, 191)\n",
      "[M::mem_pestat] mean and std.dev: (75.92, 27.38)\n",
      "[M::mem_pestat] low and high boundaries for proper pairs: (1, 234)\n",
      "[M::mem_pestat] analyzing insert size distribution for orientation FR...\n",
      "[M::mem_pestat] (25, 50, 75) percentile: (117, 140, 216)\n",
      "[M::mem_pestat] low and high boundaries for computing mean and std.dev: (1, 414)\n",
      "[M::mem_pestat] mean and std.dev: (169.01, 73.02)\n",
      "[M::mem_pestat] low and high boundaries for proper pairs: (1, 513)\n",
      "[M::mem_pestat] analyzing insert size distribution for orientation RF...\n",
      "[M::mem_pestat] (25, 50, 75) percentile: (153, 312, 1161)\n",
      "[M::mem_pestat] low and high boundaries for computing mean and std.dev: (1, 3177)\n",
      "[M::mem_pestat] mean and std.dev: (530.29, 643.51)\n",
      "[M::mem_pestat] low and high boundaries for proper pairs: (1, 4185)\n",
      "[M::mem_pestat] analyzing insert size distribution for orientation RR...\n",
      "[M::mem_pestat] (25, 50, 75) percentile: (58, 78, 112)\n",
      "[M::mem_pestat] low and high boundaries for computing mean and std.dev: (1, 220)\n",
      "[M::mem_pestat] mean and std.dev: (78.06, 33.04)\n",
      "[M::mem_pestat] low and high boundaries for proper pairs: (1, 274)\n",
      "[M::mem_pestat] skip orientation FF\n",
      "[M::mem_pestat] skip orientation RF\n",
      "[M::mem_pestat] skip orientation RR\n",
      "[M::mem_process_seqs] Processed 72612 reads in 2.438 CPU sec, 2.326 real sec\n",
      "[M::process] read 72558 sequences (10000229 bp)...\n",
      "[M::mem_pestat] # candidate unique pairs for (FF, FR, RF, RR): (30, 36166, 34, 36)\n",
      "[M::mem_pestat] analyzing insert size distribution for orientation FF...\n",
      "[M::mem_pestat] (25, 50, 75) percentile: (49, 84, 118)\n",
      "[M::mem_pestat] low and high boundaries for computing mean and std.dev: (1, 256)\n",
      "[M::mem_pestat] mean and std.dev: (73.77, 35.43)\n",
      "[M::mem_pestat] low and high boundaries for proper pairs: (1, 325)\n",
      "[M::mem_pestat] analyzing insert size distribution for orientation FR...\n",
      "[M::mem_pestat] (25, 50, 75) percentile: (117, 140, 213)\n",
      "[M::mem_pestat] low and high boundaries for computing mean and std.dev: (1, 405)\n",
      "[M::mem_pestat] mean and std.dev: (167.84, 70.74)\n",
      "[M::mem_pestat] low and high boundaries for proper pairs: (1, 501)\n",
      "[M::mem_pestat] analyzing insert size distribution for orientation RF...\n",
      "[M::mem_pestat] (25, 50, 75) percentile: (117, 420, 1119)\n",
      "[M::mem_pestat] low and high boundaries for computing mean and std.dev: (1, 3123)\n",
      "[M::mem_pestat] mean and std.dev: (706.06, 899.34)\n",
      "[M::mem_pestat] low and high boundaries for proper pairs: (1, 4303)\n",
      "[M::mem_pestat] analyzing insert size distribution for orientation RR...\n",
      "[M::mem_pestat] (25, 50, 75) percentile: (65, 80, 130)\n",
      "[M::mem_pestat] low and high boundaries for computing mean and std.dev: (1, 260)\n",
      "[M::mem_pestat] mean and std.dev: (86.38, 49.09)\n",
      "[M::mem_pestat] low and high boundaries for proper pairs: (1, 325)\n",
      "[M::mem_pestat] skip orientation FF\n",
      "[M::mem_pestat] skip orientation RF\n",
      "[M::mem_pestat] skip orientation RR\n",
      "[M::mem_process_seqs] Processed 72658 reads in 2.356 CPU sec, 2.268 real sec\n",
      "[M::process] read 72388 sequences (10000038 bp)...\n",
      "[M::mem_pestat] # candidate unique pairs for (FF, FR, RF, RR): (28, 36131, 40, 34)\n",
      "[M::mem_pestat] analyzing insert size distribution for orientation FF...\n",
      "[M::mem_pestat] (25, 50, 75) percentile: (65, 94, 133)\n",
      "[M::mem_pestat] low and high boundaries for computing mean and std.dev: (1, 269)\n",
      "[M::mem_pestat] mean and std.dev: (80.70, 32.25)\n",
      "[M::mem_pestat] low and high boundaries for proper pairs: (1, 337)\n",
      "[M::mem_pestat] analyzing insert size distribution for orientation FR...\n",
      "[M::mem_pestat] (25, 50, 75) percentile: (117, 141, 217)\n",
      "[M::mem_pestat] low and high boundaries for computing mean and std.dev: (1, 417)\n",
      "[M::mem_pestat] mean and std.dev: (169.67, 73.60)\n",
      "[M::mem_pestat] low and high boundaries for proper pairs: (1, 517)\n",
      "[M::mem_pestat] analyzing insert size distribution for orientation RF...\n",
      "[M::mem_pestat] (25, 50, 75) percentile: (75, 345, 2324)\n",
      "[M::mem_pestat] low and high boundaries for computing mean and std.dev: (1, 6822)\n",
      "[M::mem_pestat] mean and std.dev: (1047.78, 1730.64)\n",
      "[M::mem_pestat] low and high boundaries for proper pairs: (1, 9071)\n",
      "[M::mem_pestat] analyzing insert size distribution for orientation RR...\n",
      "[M::mem_pestat] (25, 50, 75) percentile: (77, 99, 151)\n",
      "[M::mem_pestat] low and high boundaries for computing mean and std.dev: (1, 299)\n",
      "[M::mem_pestat] mean and std.dev: (94.39, 39.25)\n",
      "[M::mem_pestat] low and high boundaries for proper pairs: (1, 373)\n",
      "[M::mem_pestat] skip orientation FF\n",
      "[M::mem_pestat] skip orientation RF\n",
      "[M::mem_pestat] skip orientation RR\n",
      "[M::mem_process_seqs] Processed 72558 reads in 2.400 CPU sec, 2.325 real sec\n",
      "[M::process] read 72358 sequences (10000189 bp)...\n",
      "[M::mem_pestat] # candidate unique pairs for (FF, FR, RF, RR): (38, 36046, 43, 39)\n",
      "[M::mem_pestat] analyzing insert size distribution for orientation FF...\n",
      "[M::mem_pestat] (25, 50, 75) percentile: (43, 83, 105)\n",
      "[M::mem_pestat] low and high boundaries for computing mean and std.dev: (1, 229)\n",
      "[M::mem_pestat] mean and std.dev: (73.12, 40.23)\n",
      "[M::mem_pestat] low and high boundaries for proper pairs: (1, 291)\n",
      "[M::mem_pestat] analyzing insert size distribution for orientation FR...\n",
      "[M::mem_pestat] (25, 50, 75) percentile: (118, 141, 219)\n",
      "[M::mem_pestat] low and high boundaries for computing mean and std.dev: (1, 421)\n",
      "[M::mem_pestat] mean and std.dev: (171.27, 75.14)\n",
      "[M::mem_pestat] low and high boundaries for proper pairs: (1, 522)\n",
      "[M::mem_pestat] analyzing insert size distribution for orientation RF...\n",
      "[M::mem_pestat] (25, 50, 75) percentile: (109, 383, 1131)\n",
      "[M::mem_pestat] low and high boundaries for computing mean and std.dev: (1, 3175)\n",
      "[M::mem_pestat] mean and std.dev: (581.00, 661.92)\n",
      "[M::mem_pestat] low and high boundaries for proper pairs: (1, 4197)\n",
      "[M::mem_pestat] analyzing insert size distribution for orientation RR...\n",
      "[M::mem_pestat] (25, 50, 75) percentile: (76, 89, 123)\n",
      "[M::mem_pestat] low and high boundaries for computing mean and std.dev: (1, 217)\n",
      "[M::mem_pestat] mean and std.dev: (88.82, 39.70)\n",
      "[M::mem_pestat] low and high boundaries for proper pairs: (1, 264)\n",
      "[M::mem_pestat] skip orientation FF\n",
      "[M::mem_pestat] skip orientation RF\n",
      "[M::mem_pestat] skip orientation RR\n",
      "[M::mem_process_seqs] Processed 72388 reads in 2.423 CPU sec, 2.350 real sec\n",
      "[M::process] read 72354 sequences (10000026 bp)...\n",
      "[M::mem_pestat] # candidate unique pairs for (FF, FR, RF, RR): (34, 36001, 54, 39)\n",
      "[M::mem_pestat] analyzing insert size distribution for orientation FF...\n",
      "[M::mem_pestat] (25, 50, 75) percentile: (61, 98, 126)\n",
      "[M::mem_pestat] low and high boundaries for computing mean and std.dev: (1, 256)\n",
      "[M::mem_pestat] mean and std.dev: (87.69, 39.33)\n",
      "[M::mem_pestat] low and high boundaries for proper pairs: (1, 321)\n",
      "[M::mem_pestat] analyzing insert size distribution for orientation FR...\n",
      "[M::mem_pestat] (25, 50, 75) percentile: (118, 141, 218)\n",
      "[M::mem_pestat] low and high boundaries for computing mean and std.dev: (1, 418)\n",
      "[M::mem_pestat] mean and std.dev: (170.87, 74.90)\n",
      "[M::mem_pestat] low and high boundaries for proper pairs: (1, 518)\n",
      "[M::mem_pestat] analyzing insert size distribution for orientation RF...\n",
      "[M::mem_pestat] (25, 50, 75) percentile: (104, 382, 909)\n",
      "[M::mem_pestat] low and high boundaries for computing mean and std.dev: (1, 2519)\n",
      "[M::mem_pestat] mean and std.dev: (513.64, 532.06)\n",
      "[M::mem_pestat] low and high boundaries for proper pairs: (1, 3324)\n",
      "[M::mem_pestat] analyzing insert size distribution for orientation RR...\n",
      "[M::mem_pestat] (25, 50, 75) percentile: (76, 95, 112)\n",
      "[M::mem_pestat] low and high boundaries for computing mean and std.dev: (4, 184)\n",
      "[M::mem_pestat] mean and std.dev: (83.44, 26.09)\n",
      "[M::mem_pestat] low and high boundaries for proper pairs: (1, 220)\n",
      "[M::mem_pestat] skip orientation FF\n",
      "[M::mem_pestat] skip orientation RF\n",
      "[M::mem_pestat] skip orientation RR\n",
      "[M::mem_process_seqs] Processed 72358 reads in 2.439 CPU sec, 2.370 real sec\n",
      "[M::process] read 72296 sequences (10000230 bp)...\n",
      "[M::mem_pestat] # candidate unique pairs for (FF, FR, RF, RR): (53, 35980, 42, 41)\n",
      "[M::mem_pestat] analyzing insert size distribution for orientation FF...\n",
      "[M::mem_pestat] (25, 50, 75) percentile: (72, 87, 134)\n",
      "[M::mem_pestat] low and high boundaries for computing mean and std.dev: (1, 258)\n",
      "[M::mem_pestat] mean and std.dev: (82.86, 39.02)\n",
      "[M::mem_pestat] low and high boundaries for proper pairs: (1, 320)\n",
      "[M::mem_pestat] analyzing insert size distribution for orientation FR...\n",
      "[M::mem_pestat] (25, 50, 75) percentile: (117, 142, 219)\n",
      "[M::mem_pestat] low and high boundaries for computing mean and std.dev: (1, 423)\n",
      "[M::mem_pestat] mean and std.dev: (171.17, 75.54)\n",
      "[M::mem_pestat] low and high boundaries for proper pairs: (1, 525)\n",
      "[M::mem_pestat] analyzing insert size distribution for orientation RF...\n",
      "[M::mem_pestat] (25, 50, 75) percentile: (183, 309, 570)\n",
      "[M::mem_pestat] low and high boundaries for computing mean and std.dev: (1, 1344)\n",
      "[M::mem_pestat] mean and std.dev: (328.83, 247.67)\n",
      "[M::mem_pestat] low and high boundaries for proper pairs: (1, 1731)\n",
      "[M::mem_pestat] analyzing insert size distribution for orientation RR...\n",
      "[M::mem_pestat] (25, 50, 75) percentile: (69, 81, 114)\n",
      "[M::mem_pestat] low and high boundaries for computing mean and std.dev: (1, 204)\n",
      "[M::mem_pestat] mean and std.dev: (81.86, 36.49)\n",
      "[M::mem_pestat] low and high boundaries for proper pairs: (1, 249)\n",
      "[M::mem_pestat] skip orientation FF\n",
      "[M::mem_pestat] skip orientation RF\n",
      "[M::mem_pestat] skip orientation RR\n",
      "[M::mem_process_seqs] Processed 72354 reads in 2.469 CPU sec, 2.390 real sec\n",
      "[M::process] read 72472 sequences (10000270 bp)...\n",
      "[M::mem_pestat] # candidate unique pairs for (FF, FR, RF, RR): (43, 35920, 60, 53)\n",
      "[M::mem_pestat] analyzing insert size distribution for orientation FF...\n",
      "[M::mem_pestat] (25, 50, 75) percentile: (67, 83, 99)\n",
      "[M::mem_pestat] low and high boundaries for computing mean and std.dev: (3, 163)\n",
      "[M::mem_pestat] mean and std.dev: (77.76, 23.53)\n",
      "[M::mem_pestat] low and high boundaries for proper pairs: (1, 195)\n",
      "[M::mem_pestat] analyzing insert size distribution for orientation FR...\n",
      "[M::mem_pestat] (25, 50, 75) percentile: (117, 141, 221)\n",
      "[M::mem_pestat] low and high boundaries for computing mean and std.dev: (1, 429)\n",
      "[M::mem_pestat] mean and std.dev: (172.03, 76.95)\n",
      "[M::mem_pestat] low and high boundaries for proper pairs: (1, 533)\n",
      "[M::mem_pestat] analyzing insert size distribution for orientation RF...\n",
      "[M::mem_pestat] (25, 50, 75) percentile: (106, 413, 1176)\n",
      "[M::mem_pestat] low and high boundaries for computing mean and std.dev: (1, 3316)\n",
      "[M::mem_pestat] mean and std.dev: (638.78, 766.14)\n",
      "[M::mem_pestat] low and high boundaries for proper pairs: (1, 4386)\n",
      "[M::mem_pestat] analyzing insert size distribution for orientation RR...\n",
      "[M::mem_pestat] (25, 50, 75) percentile: (58, 86, 117)\n",
      "[M::mem_pestat] low and high boundaries for computing mean and std.dev: (1, 235)\n",
      "[M::mem_pestat] mean and std.dev: (76.09, 30.06)\n",
      "[M::mem_pestat] low and high boundaries for proper pairs: (1, 294)\n",
      "[M::mem_pestat] skip orientation FF\n",
      "[M::mem_pestat] skip orientation RF\n",
      "[M::mem_pestat] skip orientation RR\n",
      "[M::mem_process_seqs] Processed 72296 reads in 2.474 CPU sec, 2.441 real sec\n",
      "[M::process] read 72488 sequences (10000250 bp)...\n",
      "[M::mem_pestat] # candidate unique pairs for (FF, FR, RF, RR): (47, 36029, 51, 48)\n",
      "[M::mem_pestat] analyzing insert size distribution for orientation FF...\n",
      "[M::mem_pestat] (25, 50, 75) percentile: (72, 92, 143)\n",
      "[M::mem_pestat] low and high boundaries for computing mean and std.dev: (1, 285)\n",
      "[M::mem_pestat] mean and std.dev: (82.03, 30.30)\n",
      "[M::mem_pestat] low and high boundaries for proper pairs: (1, 356)\n",
      "[M::mem_pestat] analyzing insert size distribution for orientation FR...\n",
      "[M::mem_pestat] (25, 50, 75) percentile: (117, 141, 218)\n",
      "[M::mem_pestat] low and high boundaries for computing mean and std.dev: (1, 420)\n",
      "[M::mem_pestat] mean and std.dev: (169.93, 74.79)\n",
      "[M::mem_pestat] low and high boundaries for proper pairs: (1, 521)\n",
      "[M::mem_pestat] analyzing insert size distribution for orientation RF...\n",
      "[M::mem_pestat] (25, 50, 75) percentile: (205, 618, 1282)\n",
      "[M::mem_pestat] low and high boundaries for computing mean and std.dev: (1, 3436)\n",
      "[M::mem_pestat] mean and std.dev: (733.58, 704.31)\n",
      "[M::mem_pestat] low and high boundaries for proper pairs: (1, 4513)\n",
      "[M::mem_pestat] analyzing insert size distribution for orientation RR...\n",
      "[M::mem_pestat] (25, 50, 75) percentile: (57, 86, 148)\n",
      "[M::mem_pestat] low and high boundaries for computing mean and std.dev: (1, 330)\n",
      "[M::mem_pestat] mean and std.dev: (92.33, 53.18)\n",
      "[M::mem_pestat] low and high boundaries for proper pairs: (1, 421)\n",
      "[M::mem_pestat] skip orientation FF\n",
      "[M::mem_pestat] skip orientation RF\n",
      "[M::mem_pestat] skip orientation RR\n",
      "[M::mem_process_seqs] Processed 72472 reads in 2.487 CPU sec, 2.419 real sec\n",
      "[M::process] read 67330 sequences (9287429 bp)...\n",
      "[M::mem_pestat] # candidate unique pairs for (FF, FR, RF, RR): (37, 36029, 63, 47)\n",
      "[M::mem_pestat] analyzing insert size distribution for orientation FF...\n",
      "[M::mem_pestat] (25, 50, 75) percentile: (63, 90, 132)\n",
      "[M::mem_pestat] low and high boundaries for computing mean and std.dev: (1, 270)\n",
      "[M::mem_pestat] mean and std.dev: (86.84, 40.20)\n",
      "[M::mem_pestat] low and high boundaries for proper pairs: (1, 339)\n",
      "[M::mem_pestat] analyzing insert size distribution for orientation FR...\n",
      "[M::mem_pestat] (25, 50, 75) percentile: (117, 141, 219)\n",
      "[M::mem_pestat] low and high boundaries for computing mean and std.dev: (1, 423)\n",
      "[M::mem_pestat] mean and std.dev: (170.78, 75.60)\n",
      "[M::mem_pestat] low and high boundaries for proper pairs: (1, 525)\n",
      "[M::mem_pestat] analyzing insert size distribution for orientation RF...\n",
      "[M::mem_pestat] (25, 50, 75) percentile: (179, 469, 1336)\n",
      "[M::mem_pestat] low and high boundaries for computing mean and std.dev: (1, 3650)\n",
      "[M::mem_pestat] mean and std.dev: (739.93, 734.17)\n",
      "[M::mem_pestat] low and high boundaries for proper pairs: (1, 4807)\n",
      "[M::mem_pestat] analyzing insert size distribution for orientation RR...\n",
      "[M::mem_pestat] (25, 50, 75) percentile: (78, 89, 124)\n",
      "[M::mem_pestat] low and high boundaries for computing mean and std.dev: (1, 216)\n",
      "[M::mem_pestat] mean and std.dev: (91.24, 32.29)\n",
      "[M::mem_pestat] low and high boundaries for proper pairs: (1, 262)\n",
      "[M::mem_pestat] skip orientation FF\n",
      "[M::mem_pestat] skip orientation RF\n",
      "[M::mem_pestat] skip orientation RR\n",
      "[M::mem_process_seqs] Processed 72488 reads in 2.454 CPU sec, 2.389 real sec\n",
      "[M::mem_pestat] # candidate unique pairs for (FF, FR, RF, RR): (32, 33499, 37, 48)\n",
      "[M::mem_pestat] analyzing insert size distribution for orientation FF...\n",
      "[M::mem_pestat] (25, 50, 75) percentile: (58, 90, 152)\n",
      "[M::mem_pestat] low and high boundaries for computing mean and std.dev: (1, 340)\n",
      "[M::mem_pestat] mean and std.dev: (88.37, 54.34)\n",
      "[M::mem_pestat] low and high boundaries for proper pairs: (1, 434)\n",
      "[M::mem_pestat] analyzing insert size distribution for orientation FR...\n",
      "[M::mem_pestat] (25, 50, 75) percentile: (117, 141, 217)\n",
      "[M::mem_pestat] low and high boundaries for computing mean and std.dev: (1, 417)\n",
      "[M::mem_pestat] mean and std.dev: (169.07, 74.12)\n",
      "[M::mem_pestat] low and high boundaries for proper pairs: (1, 517)\n",
      "[M::mem_pestat] analyzing insert size distribution for orientation RF...\n",
      "[M::mem_pestat] (25, 50, 75) percentile: (99, 288, 1044)\n",
      "[M::mem_pestat] low and high boundaries for computing mean and std.dev: (1, 2934)\n",
      "[M::mem_pestat] mean and std.dev: (464.49, 491.58)\n",
      "[M::mem_pestat] low and high boundaries for proper pairs: (1, 3879)\n",
      "[M::mem_pestat] analyzing insert size distribution for orientation RR...\n",
      "[M::mem_pestat] (25, 50, 75) percentile: (75, 92, 114)\n",
      "[M::mem_pestat] low and high boundaries for computing mean and std.dev: (1, 192)\n",
      "[M::mem_pestat] mean and std.dev: (87.98, 31.87)\n",
      "[M::mem_pestat] low and high boundaries for proper pairs: (1, 231)\n",
      "[M::mem_pestat] skip orientation FF\n",
      "[M::mem_pestat] skip orientation RF\n",
      "[M::mem_pestat] skip orientation RR\n",
      "[M::mem_process_seqs] Processed 67330 reads in 2.279 CPU sec, 2.247 real sec\n",
      "[main] Version: 0.7.17-r1188\n",
      "[main] CMD: bwa mem NC_045512.2.fa ../raw_seq/SRR11801823_1_trimmed.fq ../raw_seq/SRR11801823_2_trimmed.fq\n",
      "[main] Real time: 26.088 sec; CPU: 26.734 sec\n"
     ]
    }
   ],
   "source": [
    "bwa mem NC_045512.2.fa ../raw_seq/SRR11801823_1_trimmed.fq ../raw_seq/SRR11801823_2_trimmed.fq > \\\n",
    "../../result/aligned_reads.sam"
   ]
  },
  {
   "cell_type": "markdown",
   "metadata": {},
   "source": [
    "***\n",
    "**4. Perform variant calling.**\n",
    "\n",
    "    a. Convert SAM to BAM and sort by coordinate"
   ]
  },
  {
   "cell_type": "code",
   "execution_count": 15,
   "metadata": {},
   "outputs": [
    {
     "name": "stdout",
     "output_type": "stream",
     "text": [
      "\n",
      "Currently Loaded Modules:\n",
      "  1) python/intel/3.8.6   4) trimmomatic/0.39   7) jdk/1.8.0_271\n",
      "  2) r/intel/4.0.3        5) intel/19.1.2       8) picard/2.23.8\n",
      "  3) fastqc/0.11.9        6) bwa/intel/0.7.17\n",
      "\n",
      " \n",
      "\n"
     ]
    }
   ],
   "source": [
    "module load picard/2.23.8\n",
    "module list"
   ]
  },
  {
   "cell_type": "code",
   "execution_count": 16,
   "metadata": {},
   "outputs": [
    {
     "name": "stdout",
     "output_type": "stream",
     "text": [
      "/scratch/td2201/appl_genomics/week_5_hw3/result\n"
     ]
    }
   ],
   "source": [
    "cd ../../result/\n",
    "pwd"
   ]
  },
  {
   "cell_type": "code",
   "execution_count": 17,
   "metadata": {},
   "outputs": [
    {
     "name": "stdout",
     "output_type": "stream",
     "text": [
      "INFO\t2021-03-09 18:38:42\tSortSam\t\n",
      "\n",
      "********** NOTE: Picard's command line syntax is changing.\n",
      "**********\n",
      "********** For more information, please see:\n",
      "********** https://github.com/broadinstitute/picard/wiki/Command-Line-Syntax-Transition-For-Users-(Pre-Transition)\n",
      "**********\n",
      "********** The command line looks like this in the new syntax:\n",
      "**********\n",
      "**********    SortSam -INPUT aligned_reads.sam -OUTPUT aligned_sorted_reads.bam -SORT_ORDER coordinate\n",
      "**********\n",
      "\n",
      "\n",
      "18:38:42.392 INFO  NativeLibraryLoader - Loading libgkl_compression.so from jar:file:/share/apps/picard/2.23.8/picard.jar!/com/intel/gkl/native/libgkl_compression.so\n",
      "[Tue Mar 09 18:38:42 EST 2021] SortSam INPUT=aligned_reads.sam OUTPUT=aligned_sorted_reads.bam SORT_ORDER=coordinate    VERBOSITY=INFO QUIET=false VALIDATION_STRINGENCY=STRICT COMPRESSION_LEVEL=5 MAX_RECORDS_IN_RAM=500000 CREATE_INDEX=false CREATE_MD5_FILE=false GA4GH_CLIENT_SECRETS=client_secrets.json USE_JDK_DEFLATER=false USE_JDK_INFLATER=false\n",
      "[Tue Mar 09 18:38:42 EST 2021] Executing as td2201@cs028.nyu.cluster on Linux 4.18.0-193.28.1.el8_2.x86_64 amd64; Java HotSpot(TM) 64-Bit Server VM 1.8.0_271-b09; Deflater: Intel; Inflater: Intel; Provider GCS is not available; Picard version: 2.23.8\n",
      "INFO\t2021-03-09 18:38:42\tSortSam\tSeen many non-increasing record positions. Printing Read-names as well.\n",
      "INFO\t2021-03-09 18:38:51\tSortSam\tFinished reading inputs, merging and writing to output now.\n",
      "[Tue Mar 09 18:38:56 EST 2021] picard.sam.SortSam done. Elapsed time: 0.23 minutes.\n",
      "Runtime.totalMemory()=1150287872\n"
     ]
    }
   ],
   "source": [
    "java -jar $PICARD_JAR SortSam \\\n",
    "INPUT=aligned_reads.sam \\\n",
    "OUTPUT=aligned_sorted_reads.bam \\\n",
    "SORT_ORDER=coordinate"
   ]
  },
  {
   "cell_type": "code",
   "execution_count": 18,
   "metadata": {},
   "outputs": [
    {
     "name": "stdout",
     "output_type": "stream",
     "text": [
      "\n",
      "Currently Loaded Modules:\n",
      "  1) python/intel/3.8.6   5) bwa/intel/0.7.17    9) intel/19.1.2\n",
      "  2) r/intel/4.0.3        6) jdk/1.8.0_271      10) htslib/intel/1.11.0\n",
      "  3) fastqc/0.11.9        7) picard/2.23.8      11) samtools/intel/1.11\n",
      "  4) trimmomatic/0.39     8) perl/intel/5.32.0\n",
      "\n",
      " \n",
      "\n"
     ]
    }
   ],
   "source": [
    "module load samtools/intel/1.11\n",
    "module list"
   ]
  },
  {
   "cell_type": "markdown",
   "metadata": {},
   "source": [
    "This is the **flagstat of the sorted bam file.**"
   ]
  },
  {
   "cell_type": "code",
   "execution_count": 19,
   "metadata": {},
   "outputs": [
    {
     "name": "stdout",
     "output_type": "stream",
     "text": [
      "835947 + 0 in total (QC-passed reads + QC-failed reads)\n",
      "0 + 0 secondary\n",
      "43875 + 0 supplementary\n",
      "0 + 0 duplicates\n",
      "835484 + 0 mapped (99.94% : N/A)\n",
      "792072 + 0 paired in sequencing\n",
      "396036 + 0 read1\n",
      "396036 + 0 read2\n",
      "783034 + 0 properly paired (98.86% : N/A)\n",
      "791606 + 0 with itself and mate mapped\n",
      "3 + 0 singletons (0.00% : N/A)\n",
      "0 + 0 with mate mapped to a different chr\n",
      "0 + 0 with mate mapped to a different chr (mapQ>=5)\n"
     ]
    }
   ],
   "source": [
    "samtools flagstat aligned_sorted_reads.bam"
   ]
  },
  {
   "cell_type": "code",
   "execution_count": 20,
   "metadata": {},
   "outputs": [
    {
     "name": "stdout",
     "output_type": "stream",
     "text": [
      "SRR11801823.111780\t81\tNC_045512.2\t1\t60\t44S75M32S\t=\t28669\t28595\tAAAGGGAGCAGAGGCGGCAGTCAAGCCTCTTCTCGTTCCTCATCATTAAAGGTTTATACCTTCCCAGGTAACAAACCAACCAACTTTCGATCTCTTGTAGATCTGTTCTCTAAACGAACAAACTAAAATGTCTTATAATGGACCCCAAAAT\t:FFFF:FFFFFFFFFF:FFFFFFFFFFFFFFFFFFFFFFFFFFFFF:FFFFFFFFFFFFFFFFFFFFFFFFFFFFFFFFFFFFFFFFFFFFFFFFFFFFFFFFFFFFFFFFFFFFFFFFFFFFFFFFFFFFFFFFFFFFFFFFFFFFFFFF\tSA:Z:NC_045512.2,28793,-,45M106S,60,1;NC_045512.2,28255,-,108S43M,60,1;\tMC:Z:151M\tMD:Z:75\tNM:i:0\tAS:i:75\tXS:i:0\n",
      "SRR11801823.171294\t2211\tNC_045512.2\t2\t60\t91H35M\t=\t27530\t27623\tTTAAAGGTTTATACCTTCCCAGGTAACAAACCAAC\tFFFFFFFFFFF:FFF:FFFFFFFFFFFFFFFFFFF\tSA:Z:NC_045512.2,27531,+,94M32S,60,0;\tMC:Z:95M32H\tMD:Z:35\tNM:i:0\tAS:i:35\tXS:i:0\n",
      "SRR11801823.334233\t161\tNC_045512.2\t2\t60\t48S74M28S\t=\t27385\t27526\tACTCAATTTGCTTTTGCTTGTCCTGACGGCGTAAAACACGTCTATCAGTTAAAGGTTTATACCTTCCCAGGTAACAAACCAACCAACTTTCGATCTCTTGTAGATCTGTTCTCTAAACGAACATGAAAATTATTCTTTTCTTGGCACTGA\tFFFFFFFFF,FFFFFFFFFFFFFFFFFFFFFFFFFFFFFFFFFFFFFFFFFFFFFFFFFFFF:F,FFFFFFFFFFFFFFFFFFFFFFFFFFFFFFFFFFFFFFFFFFFFFFFFFFFFFFF:FFFFFFFFFFFFFF:FFF:FFFFFFFFFF\tSA:Z:NC_045512.2,27574,+,51M99S,60,0;NC_045512.2,27385,+,113S37M,60,0;\tMC:Z:7S143M\tMD:Z:74\tNM:i:0\tAS:i:74\tXS:i:0\n",
      "SRR11801823.343778\t99\tNC_045512.2\t2\t60\t74M33S\t=\t2\t74\tGTAAAGGTTTATACCTTCCCAGGTAACAAACCAACCAACTTTCGATCTCTTGTAGATCTGTTCTCTAAACGAACAAACTAAAATGTCTGATAATGGACCCCAAAATA\tFFFFFFFFFFFFFFFFFFFFFFFFFFFFFFFFFFFFFFFFFFFFFFFFFFFFFFFFFFFFFFFFFFFFFFFFFFFFFFFFFFFFFFFFFFFFFFFFFFFFFFFFFFF\tSA:Z:NC_045512.2,28255,+,63S44M,60,1;\tMC:Z:74M32S\tMD:Z:0T73\tNM:i:1\tAS:i:73\tXS:i:0\n",
      "SRR11801823.5437\t161\tNC_045512.2\t2\t60\t27S74M49S\t=\t27385\t27531\tTTCAAGAACTTTACTCTCCAATTTTTCTTAAAGGTTTATACCTTCCCAGGTAACAAACCAACCAACTTTCGATCTCTTGTAGATCTGTTCTCTAAACGAACATGAAAATTATTCTTTTCTTGGCACTGATAACACTCGCTACTTGTGAGC\tFFFFFFFFFFFFFFFFFFFFFFFFFFFFFFFFFFFFFF,FFFFFFFFF:F:FFFFFFFFF:FFFFFF,FF,FFFFFFFFFFFFFFFFFFF:FFFFFFFFFFFFFFFFFFFFFFFFFFFFF::FFFF:FFFF:FFF:FFFFFFF,FFFFFF\tSA:Z:NC_045512.2,27385,+,92S58M,60,0;NC_045512.2,27671,+,30M120S,60,0;\tMC:Z:3S148M\tMD:Z:74\tNM:i:0\tAS:i:74\tXS:i:0\n",
      "samtools view: writing to standard output failed: Broken pipe\n",
      "samtools view: error closing standard output: -1\n"
     ]
    }
   ],
   "source": [
    "samtools view aligned_sorted_reads.bam | head -5"
   ]
  },
  {
   "cell_type": "markdown",
   "metadata": {},
   "source": [
    "    b. Add read group to the BAM file"
   ]
  },
  {
   "cell_type": "code",
   "execution_count": 21,
   "metadata": {},
   "outputs": [
    {
     "name": "stdout",
     "output_type": "stream",
     "text": [
      "INFO\t2021-03-09 18:39:35\tAddOrReplaceReadGroups\t\n",
      "\n",
      "********** NOTE: Picard's command line syntax is changing.\n",
      "**********\n",
      "********** For more information, please see:\n",
      "********** https://github.com/broadinstitute/picard/wiki/Command-Line-Syntax-Transition-For-Users-(Pre-Transition)\n",
      "**********\n",
      "********** The command line looks like this in the new syntax:\n",
      "**********\n",
      "**********    AddOrReplaceReadGroups -I aligned_sorted_reads.bam -O aligned_sorted_reads_rg.bam -RGID Bangladesh_sample -RGLB sample_1 -RGPL ILLUMINA -RGPM HISEQ -RGPU sample_1 -RGSM Bangladesh_sample\n",
      "**********\n",
      "\n",
      "\n",
      "18:39:35.376 INFO  NativeLibraryLoader - Loading libgkl_compression.so from jar:file:/share/apps/picard/2.23.8/picard.jar!/com/intel/gkl/native/libgkl_compression.so\n",
      "[Tue Mar 09 18:39:35 EST 2021] AddOrReplaceReadGroups INPUT=aligned_sorted_reads.bam OUTPUT=aligned_sorted_reads_rg.bam RGID=Bangladesh_sample RGLB=sample_1 RGPL=ILLUMINA RGPU=sample_1 RGSM=Bangladesh_sample RGPM=HISEQ    VERBOSITY=INFO QUIET=false VALIDATION_STRINGENCY=STRICT COMPRESSION_LEVEL=5 MAX_RECORDS_IN_RAM=500000 CREATE_INDEX=false CREATE_MD5_FILE=false GA4GH_CLIENT_SECRETS=client_secrets.json USE_JDK_DEFLATER=false USE_JDK_INFLATER=false\n",
      "[Tue Mar 09 18:39:35 EST 2021] Executing as td2201@cs028.nyu.cluster on Linux 4.18.0-193.28.1.el8_2.x86_64 amd64; Java HotSpot(TM) 64-Bit Server VM 1.8.0_271-b09; Deflater: Intel; Inflater: Intel; Provider GCS is not available; Picard version: 2.23.8\n",
      "INFO\t2021-03-09 18:39:35\tAddOrReplaceReadGroups\tCreated read-group ID=Bangladesh_sample PL=ILLUMINA LB=sample_1 SM=Bangladesh_sample\n",
      "\n",
      "[Tue Mar 09 18:39:41 EST 2021] picard.sam.AddOrReplaceReadGroups done. Elapsed time: 0.10 minutes.\n",
      "Runtime.totalMemory()=794296320\n"
     ]
    }
   ],
   "source": [
    "java -jar $PICARD_JAR AddOrReplaceReadGroups \\\n",
    "I=aligned_sorted_reads.bam \\\n",
    "O=aligned_sorted_reads_rg.bam \\\n",
    "RGID=Bangladesh_sample RGLB=sample_1 \\\n",
    "RGPL=ILLUMINA RGPM=HISEQ \\\n",
    "RGPU=sample_1 RGSM=Bangladesh_sample"
   ]
  },
  {
   "cell_type": "code",
   "execution_count": 22,
   "metadata": {},
   "outputs": [
    {
     "name": "stdout",
     "output_type": "stream",
     "text": [
      "SRR11801823.111780\t81\tNC_045512.2\t1\t60\t44S75M32S\t=\t28669\t28595\tAAAGGGAGCAGAGGCGGCAGTCAAGCCTCTTCTCGTTCCTCATCATTAAAGGTTTATACCTTCCCAGGTAACAAACCAACCAACTTTCGATCTCTTGTAGATCTGTTCTCTAAACGAACAAACTAAAATGTCTTATAATGGACCCCAAAAT\t:FFFF:FFFFFFFFFF:FFFFFFFFFFFFFFFFFFFFFFFFFFFFF:FFFFFFFFFFFFFFFFFFFFFFFFFFFFFFFFFFFFFFFFFFFFFFFFFFFFFFFFFFFFFFFFFFFFFFFFFFFFFFFFFFFFFFFFFFFFFFFFFFFFFFFF\tSA:Z:NC_045512.2,28793,-,45M106S,60,1;NC_045512.2,28255,-,108S43M,60,1;\tMC:Z:151M\tMD:Z:75\tRG:Z:Bangladesh_sample\tNM:i:0\tAS:i:75\tXS:i:0\n",
      "SRR11801823.171294\t2211\tNC_045512.2\t2\t60\t91H35M\t=\t27530\t27623\tTTAAAGGTTTATACCTTCCCAGGTAACAAACCAAC\tFFFFFFFFFFF:FFF:FFFFFFFFFFFFFFFFFFF\tSA:Z:NC_045512.2,27531,+,94M32S,60,0;\tMC:Z:95M32H\tMD:Z:35\tRG:Z:Bangladesh_sample\tNM:i:0\tAS:i:35\tXS:i:0\n",
      "samtools view: writing to standard output failed: Broken pipe\n",
      "samtools view: error closing standard output: -1\n"
     ]
    }
   ],
   "source": [
    "samtools view aligned_sorted_reads_rg.bam | head -2"
   ]
  },
  {
   "cell_type": "markdown",
   "metadata": {},
   "source": [
    "    c. Mark duplicated reads"
   ]
  },
  {
   "cell_type": "code",
   "execution_count": 23,
   "metadata": {},
   "outputs": [
    {
     "name": "stdout",
     "output_type": "stream",
     "text": [
      "INFO\t2021-03-09 18:39:53\tMarkDuplicates\t\n",
      "\n",
      "********** NOTE: Picard's command line syntax is changing.\n",
      "**********\n",
      "********** For more information, please see:\n",
      "********** https://github.com/broadinstitute/picard/wiki/Command-Line-Syntax-Transition-For-Users-(Pre-Transition)\n",
      "**********\n",
      "********** The command line looks like this in the new syntax:\n",
      "**********\n",
      "**********    MarkDuplicates -INPUT aligned_sorted_reads_rg.bam -OUTPUT deduplicated_reads.bam -METRICS_FILE metrics.txt\n",
      "**********\n",
      "\n",
      "\n",
      "18:39:54.213 INFO  NativeLibraryLoader - Loading libgkl_compression.so from jar:file:/share/apps/picard/2.23.8/picard.jar!/com/intel/gkl/native/libgkl_compression.so\n",
      "[Tue Mar 09 18:39:54 EST 2021] MarkDuplicates INPUT=[aligned_sorted_reads_rg.bam] OUTPUT=deduplicated_reads.bam METRICS_FILE=metrics.txt    MAX_SEQUENCES_FOR_DISK_READ_ENDS_MAP=50000 MAX_FILE_HANDLES_FOR_READ_ENDS_MAP=8000 SORTING_COLLECTION_SIZE_RATIO=0.25 TAG_DUPLICATE_SET_MEMBERS=false REMOVE_SEQUENCING_DUPLICATES=false TAGGING_POLICY=DontTag CLEAR_DT=true DUPLEX_UMI=false ADD_PG_TAG_TO_READS=true REMOVE_DUPLICATES=false ASSUME_SORTED=false DUPLICATE_SCORING_STRATEGY=SUM_OF_BASE_QUALITIES PROGRAM_RECORD_ID=MarkDuplicates PROGRAM_GROUP_NAME=MarkDuplicates READ_NAME_REGEX=<optimized capture of last three ':' separated fields as numeric values> OPTICAL_DUPLICATE_PIXEL_DISTANCE=100 MAX_OPTICAL_DUPLICATE_SET_SIZE=300000 VERBOSITY=INFO QUIET=false VALIDATION_STRINGENCY=STRICT COMPRESSION_LEVEL=5 MAX_RECORDS_IN_RAM=500000 CREATE_INDEX=false CREATE_MD5_FILE=false GA4GH_CLIENT_SECRETS=client_secrets.json USE_JDK_DEFLATER=false USE_JDK_INFLATER=false\n",
      "[Tue Mar 09 18:39:54 EST 2021] Executing as td2201@cs028.nyu.cluster on Linux 4.18.0-193.28.1.el8_2.x86_64 amd64; Java HotSpot(TM) 64-Bit Server VM 1.8.0_271-b09; Deflater: Intel; Inflater: Intel; Provider GCS is not available; Picard version: 2.23.8\n",
      "INFO\t2021-03-09 18:39:54\tMarkDuplicates\tStart of doWork freeMemory: 149860648; totalMemory: 160956416; maxMemory: 2386558976\n",
      "INFO\t2021-03-09 18:39:54\tMarkDuplicates\tReading input file and constructing read end information.\n",
      "INFO\t2021-03-09 18:39:54\tMarkDuplicates\tWill retain up to 8646952 data points before spilling to disk.\n",
      "WARNING\t2021-03-09 18:39:54\tAbstractOpticalDuplicateFinderCommandLineProgram\tA field field parsed out of a read name was expected to contain an integer and did not. Read name: SRR11801823.111780. Cause: String 'SRR11801823.111780' did not start with a parsable number.\n",
      "INFO\t2021-03-09 18:39:58\tMarkDuplicates\tRead 835487 records. 0 pairs never matched.\n",
      "INFO\t2021-03-09 18:39:58\tMarkDuplicates\tAfter buildSortedReadEndLists freeMemory: 469345264; totalMemory: 635437056; maxMemory: 2386558976\n",
      "INFO\t2021-03-09 18:39:58\tMarkDuplicates\tWill retain up to 74579968 duplicate indices before spilling to disk.\n",
      "INFO\t2021-03-09 18:39:58\tMarkDuplicates\tTraversing read pair information and detecting duplicates.\n",
      "INFO\t2021-03-09 18:39:58\tMarkDuplicates\tTraversing fragment information and detecting duplicates.\n",
      "INFO\t2021-03-09 18:39:59\tMarkDuplicates\tSorting list of duplicate records.\n",
      "INFO\t2021-03-09 18:39:59\tMarkDuplicates\tAfter generateDuplicateIndexes freeMemory: 631874432; totalMemory: 1239941120; maxMemory: 2386558976\n",
      "INFO\t2021-03-09 18:39:59\tMarkDuplicates\tMarking 354827 records as duplicates.\n",
      "INFO\t2021-03-09 18:39:59\tMarkDuplicates\tFound 0 optical duplicate clusters.\n",
      "INFO\t2021-03-09 18:39:59\tMarkDuplicates\tReads are assumed to be ordered by: coordinate\n",
      "INFO\t2021-03-09 18:40:05\tMarkDuplicates\tWriting complete. Closing input iterator.\n",
      "INFO\t2021-03-09 18:40:05\tMarkDuplicates\tDuplicate Index cleanup.\n",
      "INFO\t2021-03-09 18:40:05\tMarkDuplicates\tGetting Memory Stats.\n",
      "INFO\t2021-03-09 18:40:05\tMarkDuplicates\tBefore output close freeMemory: 1302463744; totalMemory: 1315962880; maxMemory: 2386558976\n",
      "INFO\t2021-03-09 18:40:05\tMarkDuplicates\tClosed outputs. Getting more Memory Stats.\n",
      "INFO\t2021-03-09 18:40:05\tMarkDuplicates\tAfter output close freeMemory: 1232733440; totalMemory: 1246232576; maxMemory: 2386558976\n",
      "[Tue Mar 09 18:40:05 EST 2021] picard.sam.markduplicates.MarkDuplicates done. Elapsed time: 0.18 minutes.\n",
      "Runtime.totalMemory()=1246232576\n"
     ]
    }
   ],
   "source": [
    "java -jar $PICARD_JAR MarkDuplicates \\\n",
    "INPUT=aligned_sorted_reads_rg.bam \\\n",
    "OUTPUT=deduplicated_reads.bam \\\n",
    "METRICS_FILE=metrics.txt"
   ]
  },
  {
   "cell_type": "code",
   "execution_count": 24,
   "metadata": {},
   "outputs": [
    {
     "name": "stdout",
     "output_type": "stream",
     "text": [
      "\n",
      "Currently Loaded Modules:\n",
      "  1) python/intel/3.8.6   5) bwa/intel/0.7.17    9) intel/19.1.2\n",
      "  2) r/intel/4.0.3        6) jdk/1.8.0_271      10) htslib/intel/1.11.0\n",
      "  3) fastqc/0.11.9        7) picard/2.23.8      11) samtools/intel/1.11\n",
      "  4) trimmomatic/0.39     8) perl/intel/5.32.0\n",
      "\n",
      " \n",
      "\n"
     ]
    }
   ],
   "source": [
    "module list"
   ]
  },
  {
   "cell_type": "code",
   "execution_count": 25,
   "metadata": {},
   "outputs": [
    {
     "name": "stdout",
     "output_type": "stream",
     "text": [
      "NC_045512.2.dict  NC_045512.2.fa.amb  NC_045512.2.fa.bwt  NC_045512.2.fa.pac\n",
      "NC_045512.2.fa\t  NC_045512.2.fa.ann  NC_045512.2.fa.fai  NC_045512.2.fa.sa\n"
     ]
    }
   ],
   "source": [
    "cd ../data/genome\n",
    "ls"
   ]
  },
  {
   "cell_type": "markdown",
   "metadata": {},
   "source": [
    "    d. Create sequence dictionary from the reference genome"
   ]
  },
  {
   "cell_type": "code",
   "execution_count": 27,
   "metadata": {},
   "outputs": [
    {
     "name": "stdout",
     "output_type": "stream",
     "text": [
      "INFO\t2021-03-09 18:41:14\tCreateSequenceDictionary\t\n",
      "\n",
      "********** NOTE: Picard's command line syntax is changing.\n",
      "**********\n",
      "********** For more information, please see:\n",
      "********** https://github.com/broadinstitute/picard/wiki/Command-Line-Syntax-Transition-For-Users-(Pre-Transition)\n",
      "**********\n",
      "********** The command line looks like this in the new syntax:\n",
      "**********\n",
      "**********    CreateSequenceDictionary -R NC_045512.2.fa -O NC_045512.2.dict\n",
      "**********\n",
      "\n",
      "\n",
      "18:41:14.559 INFO  NativeLibraryLoader - Loading libgkl_compression.so from jar:file:/share/apps/picard/2.23.8/picard.jar!/com/intel/gkl/native/libgkl_compression.so\n",
      "[Tue Mar 09 18:41:14 EST 2021] CreateSequenceDictionary OUTPUT=NC_045512.2.dict REFERENCE=NC_045512.2.fa    TRUNCATE_NAMES_AT_WHITESPACE=true NUM_SEQUENCES=2147483647 VERBOSITY=INFO QUIET=false VALIDATION_STRINGENCY=STRICT COMPRESSION_LEVEL=5 MAX_RECORDS_IN_RAM=500000 CREATE_INDEX=false CREATE_MD5_FILE=false GA4GH_CLIENT_SECRETS=client_secrets.json USE_JDK_DEFLATER=false USE_JDK_INFLATER=false\n",
      "[Tue Mar 09 18:41:14 EST 2021] Executing as td2201@cs028.nyu.cluster on Linux 4.18.0-193.28.1.el8_2.x86_64 amd64; Java HotSpot(TM) 64-Bit Server VM 1.8.0_271-b09; Deflater: Intel; Inflater: Intel; Provider GCS is not available; Picard version: 2.23.8\n",
      "[Tue Mar 09 18:41:14 EST 2021] picard.sam.CreateSequenceDictionary done. Elapsed time: 0.00 minutes.\n",
      "Runtime.totalMemory()=160956416\n"
     ]
    }
   ],
   "source": [
    "java -jar $PICARD_JAR CreateSequenceDictionary \\\n",
    "R=NC_045512.2.fa \\\n",
    "O=NC_045512.2.dict"
   ]
  },
  {
   "cell_type": "markdown",
   "metadata": {},
   "source": [
    "    e. Index the reference genome"
   ]
  },
  {
   "cell_type": "code",
   "execution_count": 28,
   "metadata": {},
   "outputs": [],
   "source": [
    "samtools faidx NC_045512.2.fa"
   ]
  },
  {
   "cell_type": "markdown",
   "metadata": {},
   "source": [
    "    f. Index the deduplicated BAM"
   ]
  },
  {
   "cell_type": "code",
   "execution_count": 29,
   "metadata": {},
   "outputs": [],
   "source": [
    "samtools index ../../result/deduplicated_reads.bam"
   ]
  },
  {
   "cell_type": "markdown",
   "metadata": {},
   "source": [
    "    g. Use the HaplotypeCaller mode in GATK to call variants"
   ]
  },
  {
   "cell_type": "code",
   "execution_count": 30,
   "metadata": {},
   "outputs": [
    {
     "name": "stdout",
     "output_type": "stream",
     "text": [
      "\n",
      "Currently Loaded Modules:\n",
      "  1) fastqc/0.11.9      5) perl/intel/5.32.0     9) intel/19.1.2\n",
      "  2) trimmomatic/0.39   6) htslib/intel/1.11.0  10) r/intel/4.0.3\n",
      "  3) bwa/intel/0.7.17   7) samtools/intel/1.11  11) jdk/1.8.0_271\n",
      "  4) picard/2.23.8      8) python/intel/3.8.6   12) gatk/4.1.9.0\n",
      "\n",
      " \n",
      "\n"
     ]
    }
   ],
   "source": [
    "module load gatk/4.1.9.0\n",
    "module list"
   ]
  },
  {
   "cell_type": "code",
   "execution_count": 31,
   "metadata": {},
   "outputs": [
    {
     "name": "stdout",
     "output_type": "stream",
     "text": [
      "18:42:11.931 INFO  NativeLibraryLoader - Loading libgkl_compression.so from jar:file:/share/apps/gatk/4.1.9.0/gatk-package-4.1.9.0-local.jar!/com/intel/gkl/native/libgkl_compression.so\n",
      "Mar 09, 2021 6:42:12 PM shaded.cloud_nio.com.google.auth.oauth2.ComputeEngineCredentials runningOnComputeEngine\n",
      "INFO: Failed to detect whether we are running on Google Compute Engine.\n",
      "18:42:12.048 INFO  HaplotypeCaller - ------------------------------------------------------------\n",
      "18:42:12.048 INFO  HaplotypeCaller - The Genome Analysis Toolkit (GATK) v4.1.9.0\n",
      "18:42:12.048 INFO  HaplotypeCaller - For support and documentation go to https://software.broadinstitute.org/gatk/\n",
      "18:42:12.048 INFO  HaplotypeCaller - Executing as td2201@cs028.nyu.cluster on Linux v4.18.0-193.28.1.el8_2.x86_64 amd64\n",
      "18:42:12.048 INFO  HaplotypeCaller - Java runtime: Java HotSpot(TM) 64-Bit Server VM v1.8.0_271-b09\n",
      "18:42:12.048 INFO  HaplotypeCaller - Start Date/Time: March 9, 2021 6:42:11 PM EST\n",
      "18:42:12.048 INFO  HaplotypeCaller - ------------------------------------------------------------\n",
      "18:42:12.048 INFO  HaplotypeCaller - ------------------------------------------------------------\n",
      "18:42:12.049 INFO  HaplotypeCaller - HTSJDK Version: 2.23.0\n",
      "18:42:12.049 INFO  HaplotypeCaller - Picard Version: 2.23.3\n",
      "18:42:12.049 INFO  HaplotypeCaller - HTSJDK Defaults.COMPRESSION_LEVEL : 2\n",
      "18:42:12.049 INFO  HaplotypeCaller - HTSJDK Defaults.USE_ASYNC_IO_READ_FOR_SAMTOOLS : false\n",
      "18:42:12.049 INFO  HaplotypeCaller - HTSJDK Defaults.USE_ASYNC_IO_WRITE_FOR_SAMTOOLS : true\n",
      "18:42:12.049 INFO  HaplotypeCaller - HTSJDK Defaults.USE_ASYNC_IO_WRITE_FOR_TRIBBLE : false\n",
      "18:42:12.049 INFO  HaplotypeCaller - Deflater: IntelDeflater\n",
      "18:42:12.049 INFO  HaplotypeCaller - Inflater: IntelInflater\n",
      "18:42:12.049 INFO  HaplotypeCaller - GCS max retries/reopens: 20\n",
      "18:42:12.049 INFO  HaplotypeCaller - Requester pays: disabled\n",
      "18:42:12.049 INFO  HaplotypeCaller - Initializing engine\n",
      "18:42:12.303 INFO  HaplotypeCaller - Done initializing engine\n",
      "18:42:12.308 INFO  HaplotypeCallerEngine - Disabling physical phasing, which is supported only for reference-model confidence output\n",
      "18:42:12.317 INFO  NativeLibraryLoader - Loading libgkl_utils.so from jar:file:/share/apps/gatk/4.1.9.0/gatk-package-4.1.9.0-local.jar!/com/intel/gkl/native/libgkl_utils.so\n",
      "18:42:12.320 INFO  NativeLibraryLoader - Loading libgkl_pairhmm_omp.so from jar:file:/share/apps/gatk/4.1.9.0/gatk-package-4.1.9.0-local.jar!/com/intel/gkl/native/libgkl_pairhmm_omp.so\n",
      "18:42:12.348 INFO  IntelPairHmm - Using CPU-supported AVX-512 instructions\n",
      "18:42:12.348 INFO  IntelPairHmm - Flush-to-zero (FTZ) is enabled when running PairHMM\n",
      "18:42:12.349 INFO  IntelPairHmm - Available threads: 2\n",
      "18:42:12.349 INFO  IntelPairHmm - Requested threads: 4\n",
      "18:42:12.349 WARN  IntelPairHmm - Using 2 available threads, but 4 were requested\n",
      "18:42:12.349 INFO  PairHMM - Using the OpenMP multi-threaded AVX-accelerated native PairHMM implementation\n",
      "18:42:12.412 INFO  ProgressMeter - Starting traversal\n",
      "18:42:12.412 INFO  ProgressMeter -        Current Locus  Elapsed Minutes     Regions Processed   Regions/Minute\n",
      "18:42:37.103 WARN  InbreedingCoeff - InbreedingCoeff will not be calculated; at least 10 samples must have called genotypes\n",
      "18:42:51.069 INFO  ProgressMeter -     NC_045512.2:1201              0.6                    10             15.5\n",
      "18:43:09.418 INFO  ProgressMeter -     NC_045512.2:2913              1.0                    20             21.1\n",
      "18:43:20.361 INFO  ProgressMeter -     NC_045512.2:4687              1.1                    30             26.5\n",
      "18:43:37.812 INFO  ProgressMeter -     NC_045512.2:8269              1.4                    50             35.1\n",
      "18:43:50.851 INFO  ProgressMeter -    NC_045512.2:10401              1.6                    60             36.6\n",
      "18:44:04.885 INFO  ProgressMeter -    NC_045512.2:14506              1.9                    80             42.7\n",
      "18:44:22.543 INFO  ProgressMeter -    NC_045512.2:18688              2.2                   100             46.1\n",
      "18:44:33.808 INFO  ProgressMeter -    NC_045512.2:23366              2.4                   120             50.9\n",
      "18:45:01.284 INFO  ProgressMeter -    NC_045512.2:26983              2.8                   140             49.7\n",
      "18:45:31.114 INFO  ProgressMeter -    NC_045512.2:29228              3.3                   150             45.3\n",
      "18:46:04.040 INFO  HaplotypeCaller - 3 read(s) filtered by: MappingQualityReadFilter \n",
      "0 read(s) filtered by: MappingQualityAvailableReadFilter \n",
      "0 read(s) filtered by: MappedReadFilter \n",
      "0 read(s) filtered by: NotSecondaryAlignmentReadFilter \n",
      "354827 read(s) filtered by: NotDuplicateReadFilter \n",
      "0 read(s) filtered by: PassesVendorQualityCheckReadFilter \n",
      "0 read(s) filtered by: NonZeroReferenceLengthAlignmentReadFilter \n",
      "0 read(s) filtered by: GoodCigarReadFilter \n",
      "0 read(s) filtered by: WellformedReadFilter \n",
      "354830 total reads filtered\n",
      "18:46:04.041 INFO  ProgressMeter -    NC_045512.2:29228              3.9                   155             40.2\n",
      "18:46:04.041 INFO  ProgressMeter - Traversal complete. Processed 155 total regions in 3.9 minutes.\n",
      "18:46:04.046 INFO  VectorLoglessPairHMM - Time spent in setup for JNI call : 0.262935227\n",
      "18:46:04.046 INFO  PairHMM - Total compute time in PairHMM computeLogLikelihoods() : 172.323281946\n",
      "18:46:04.047 INFO  SmithWatermanAligner - Total compute time in java Smith-Waterman : 7.32 sec\n",
      "18:46:04.047 INFO  HaplotypeCaller - Shutting down engine\n",
      "[March 9, 2021 6:46:04 PM EST] org.broadinstitute.hellbender.tools.walkers.haplotypecaller.HaplotypeCaller done. Elapsed time: 3.87 minutes.\n",
      "Runtime.totalMemory()=989331456\n"
     ]
    }
   ],
   "source": [
    "java -jar $GATK_JAR HaplotypeCaller \\\n",
    "-R NC_045512.2.fa \\\n",
    "-I ../../result/deduplicated_reads.bam \\\n",
    "-O ../../result/raw_variants.vcf"
   ]
  },
  {
   "cell_type": "markdown",
   "metadata": {},
   "source": [
    "    h. Use the SelectVariants mode in GATK to separate indels and SNPs"
   ]
  },
  {
   "cell_type": "code",
   "execution_count": 32,
   "metadata": {},
   "outputs": [
    {
     "name": "stdout",
     "output_type": "stream",
     "text": [
      "Using GATK jar /share/apps/gatk/4.1.9.0/gatk-package-4.1.9.0-local.jar defined in environment variable GATK_LOCAL_JAR\n",
      "Running:\n",
      "    java -Dsamjdk.use_async_io_read_samtools=false -Dsamjdk.use_async_io_write_samtools=true -Dsamjdk.use_async_io_write_tribble=false -Dsamjdk.compression_level=2 -jar /share/apps/gatk/4.1.9.0/gatk-package-4.1.9.0-local.jar SelectVariants -R NC_045512.2.fa -V ../../result/raw_variants.vcf -select-type SNP -O ../../result/raw_snps.vcf\n",
      "18:46:37.672 INFO  NativeLibraryLoader - Loading libgkl_compression.so from jar:file:/share/apps/gatk/4.1.9.0/gatk-package-4.1.9.0-local.jar!/com/intel/gkl/native/libgkl_compression.so\n",
      "Mar 09, 2021 6:46:37 PM shaded.cloud_nio.com.google.auth.oauth2.ComputeEngineCredentials runningOnComputeEngine\n",
      "INFO: Failed to detect whether we are running on Google Compute Engine.\n",
      "18:46:37.793 INFO  SelectVariants - ------------------------------------------------------------\n",
      "18:46:37.793 INFO  SelectVariants - The Genome Analysis Toolkit (GATK) v4.1.9.0\n",
      "18:46:37.793 INFO  SelectVariants - For support and documentation go to https://software.broadinstitute.org/gatk/\n",
      "18:46:37.794 INFO  SelectVariants - Executing as td2201@cs028.nyu.cluster on Linux v4.18.0-193.28.1.el8_2.x86_64 amd64\n",
      "18:46:37.794 INFO  SelectVariants - Java runtime: Java HotSpot(TM) 64-Bit Server VM v1.8.0_271-b09\n",
      "18:46:37.794 INFO  SelectVariants - Start Date/Time: March 9, 2021 6:46:37 PM EST\n",
      "18:46:37.794 INFO  SelectVariants - ------------------------------------------------------------\n",
      "18:46:37.794 INFO  SelectVariants - ------------------------------------------------------------\n",
      "18:46:37.794 INFO  SelectVariants - HTSJDK Version: 2.23.0\n",
      "18:46:37.794 INFO  SelectVariants - Picard Version: 2.23.3\n",
      "18:46:37.794 INFO  SelectVariants - HTSJDK Defaults.COMPRESSION_LEVEL : 2\n",
      "18:46:37.794 INFO  SelectVariants - HTSJDK Defaults.USE_ASYNC_IO_READ_FOR_SAMTOOLS : false\n",
      "18:46:37.794 INFO  SelectVariants - HTSJDK Defaults.USE_ASYNC_IO_WRITE_FOR_SAMTOOLS : true\n",
      "18:46:37.794 INFO  SelectVariants - HTSJDK Defaults.USE_ASYNC_IO_WRITE_FOR_TRIBBLE : false\n",
      "18:46:37.794 INFO  SelectVariants - Deflater: IntelDeflater\n",
      "18:46:37.794 INFO  SelectVariants - Inflater: IntelInflater\n",
      "18:46:37.794 INFO  SelectVariants - GCS max retries/reopens: 20\n",
      "18:46:37.794 INFO  SelectVariants - Requester pays: disabled\n",
      "18:46:37.794 INFO  SelectVariants - Initializing engine\n",
      "18:46:38.039 INFO  FeatureManager - Using codec VCFCodec to read file file:///scratch/td2201/appl_genomics/week_5_hw3/data/genome/../../result/raw_variants.vcf\n",
      "18:46:38.055 INFO  SelectVariants - Done initializing engine\n",
      "18:46:38.124 INFO  ProgressMeter - Starting traversal\n",
      "18:46:38.124 INFO  ProgressMeter -        Current Locus  Elapsed Minutes    Variants Processed  Variants/Minute\n",
      "18:46:38.143 INFO  ProgressMeter -             unmapped              0.0                    14          44210.5\n",
      "18:46:38.143 INFO  ProgressMeter - Traversal complete. Processed 14 total variants in 0.0 minutes.\n",
      "18:46:38.165 INFO  SelectVariants - Shutting down engine\n",
      "[March 9, 2021 6:46:38 PM EST] org.broadinstitute.hellbender.tools.walkers.variantutils.SelectVariants done. Elapsed time: 0.01 minutes.\n",
      "Runtime.totalMemory()=318767104\n",
      "Using GATK jar /share/apps/gatk/4.1.9.0/gatk-package-4.1.9.0-local.jar defined in environment variable GATK_LOCAL_JAR\n",
      "Running:\n",
      "    java -Dsamjdk.use_async_io_read_samtools=false -Dsamjdk.use_async_io_write_samtools=true -Dsamjdk.use_async_io_write_tribble=false -Dsamjdk.compression_level=2 -jar /share/apps/gatk/4.1.9.0/gatk-package-4.1.9.0-local.jar SelectVariants -R NC_045512.2.fa -V ../../result/raw_variants.vcf -select-type INDEL -O ../../result/raw_indels.vcf\n",
      "18:46:40.169 INFO  NativeLibraryLoader - Loading libgkl_compression.so from jar:file:/share/apps/gatk/4.1.9.0/gatk-package-4.1.9.0-local.jar!/com/intel/gkl/native/libgkl_compression.so\n",
      "Mar 09, 2021 6:46:40 PM shaded.cloud_nio.com.google.auth.oauth2.ComputeEngineCredentials runningOnComputeEngine\n",
      "INFO: Failed to detect whether we are running on Google Compute Engine.\n",
      "18:46:40.281 INFO  SelectVariants - ------------------------------------------------------------\n",
      "18:46:40.281 INFO  SelectVariants - The Genome Analysis Toolkit (GATK) v4.1.9.0\n",
      "18:46:40.281 INFO  SelectVariants - For support and documentation go to https://software.broadinstitute.org/gatk/\n",
      "18:46:40.281 INFO  SelectVariants - Executing as td2201@cs028.nyu.cluster on Linux v4.18.0-193.28.1.el8_2.x86_64 amd64\n",
      "18:46:40.281 INFO  SelectVariants - Java runtime: Java HotSpot(TM) 64-Bit Server VM v1.8.0_271-b09\n",
      "18:46:40.281 INFO  SelectVariants - Start Date/Time: March 9, 2021 6:46:40 PM EST\n",
      "18:46:40.281 INFO  SelectVariants - ------------------------------------------------------------\n",
      "18:46:40.281 INFO  SelectVariants - ------------------------------------------------------------\n",
      "18:46:40.282 INFO  SelectVariants - HTSJDK Version: 2.23.0\n",
      "18:46:40.282 INFO  SelectVariants - Picard Version: 2.23.3\n",
      "18:46:40.282 INFO  SelectVariants - HTSJDK Defaults.COMPRESSION_LEVEL : 2\n",
      "18:46:40.282 INFO  SelectVariants - HTSJDK Defaults.USE_ASYNC_IO_READ_FOR_SAMTOOLS : false\n",
      "18:46:40.282 INFO  SelectVariants - HTSJDK Defaults.USE_ASYNC_IO_WRITE_FOR_SAMTOOLS : true\n",
      "18:46:40.282 INFO  SelectVariants - HTSJDK Defaults.USE_ASYNC_IO_WRITE_FOR_TRIBBLE : false\n",
      "18:46:40.282 INFO  SelectVariants - Deflater: IntelDeflater\n",
      "18:46:40.282 INFO  SelectVariants - Inflater: IntelInflater\n",
      "18:46:40.282 INFO  SelectVariants - GCS max retries/reopens: 20\n",
      "18:46:40.282 INFO  SelectVariants - Requester pays: disabled\n",
      "18:46:40.282 INFO  SelectVariants - Initializing engine\n",
      "18:46:40.520 INFO  FeatureManager - Using codec VCFCodec to read file file:///scratch/td2201/appl_genomics/week_5_hw3/data/genome/../../result/raw_variants.vcf\n",
      "18:46:40.534 INFO  SelectVariants - Done initializing engine\n",
      "18:46:40.560 INFO  ProgressMeter - Starting traversal\n",
      "18:46:40.560 INFO  ProgressMeter -        Current Locus  Elapsed Minutes    Variants Processed  Variants/Minute\n",
      "18:46:40.573 INFO  ProgressMeter -             unmapped              0.0                     6          30000.0\n",
      "18:46:40.573 INFO  ProgressMeter - Traversal complete. Processed 6 total variants in 0.0 minutes.\n",
      "18:46:40.592 INFO  SelectVariants - Shutting down engine\n",
      "[March 9, 2021 6:46:40 PM EST] org.broadinstitute.hellbender.tools.walkers.variantutils.SelectVariants done. Elapsed time: 0.01 minutes.\n",
      "Runtime.totalMemory()=315097088\n"
     ]
    }
   ],
   "source": [
    "gatk SelectVariants -R NC_045512.2.fa \\\n",
    "-V ../../result/raw_variants.vcf \\\n",
    "-select-type SNP -O ../../result/raw_snps.vcf\n",
    "\n",
    "gatk SelectVariants -R NC_045512.2.fa \\\n",
    "-V ../../result/raw_variants.vcf \\\n",
    "-select-type INDEL -O ../../result/raw_indels.vcf"
   ]
  },
  {
   "cell_type": "code",
   "execution_count": 33,
   "metadata": {},
   "outputs": [
    {
     "name": "stdout",
     "output_type": "stream",
     "text": [
      "/scratch/td2201/appl_genomics/week_5_hw3\n"
     ]
    }
   ],
   "source": [
    "cd ../../\n",
    "pwd"
   ]
  },
  {
   "cell_type": "markdown",
   "metadata": {},
   "source": [
    "    i. Filter the SNPs with the following criteria:\n",
    "\n",
    "        QD<2.0\n",
    "        \n",
    "        FS>60.0\n",
    "        \n",
    "        MQ<40.0\n",
    "        \n",
    "        SOR>10.0\n"
   ]
  },
  {
   "cell_type": "code",
   "execution_count": 34,
   "metadata": {},
   "outputs": [
    {
     "name": "stdout",
     "output_type": "stream",
     "text": [
      "18:46:57.112 INFO  NativeLibraryLoader - Loading libgkl_compression.so from jar:file:/share/apps/gatk/4.1.9.0/gatk-package-4.1.9.0-local.jar!/com/intel/gkl/native/libgkl_compression.so\n",
      "Mar 09, 2021 6:46:57 PM shaded.cloud_nio.com.google.auth.oauth2.ComputeEngineCredentials runningOnComputeEngine\n",
      "INFO: Failed to detect whether we are running on Google Compute Engine.\n",
      "18:46:57.237 INFO  VariantFiltration - ------------------------------------------------------------\n",
      "18:46:57.237 INFO  VariantFiltration - The Genome Analysis Toolkit (GATK) v4.1.9.0\n",
      "18:46:57.237 INFO  VariantFiltration - For support and documentation go to https://software.broadinstitute.org/gatk/\n",
      "18:46:57.237 INFO  VariantFiltration - Executing as td2201@cs028.nyu.cluster on Linux v4.18.0-193.28.1.el8_2.x86_64 amd64\n",
      "18:46:57.237 INFO  VariantFiltration - Java runtime: Java HotSpot(TM) 64-Bit Server VM v1.8.0_271-b09\n",
      "18:46:57.237 INFO  VariantFiltration - Start Date/Time: March 9, 2021 6:46:57 PM EST\n",
      "18:46:57.237 INFO  VariantFiltration - ------------------------------------------------------------\n",
      "18:46:57.237 INFO  VariantFiltration - ------------------------------------------------------------\n",
      "18:46:57.237 INFO  VariantFiltration - HTSJDK Version: 2.23.0\n",
      "18:46:57.237 INFO  VariantFiltration - Picard Version: 2.23.3\n",
      "18:46:57.238 INFO  VariantFiltration - HTSJDK Defaults.COMPRESSION_LEVEL : 2\n",
      "18:46:57.238 INFO  VariantFiltration - HTSJDK Defaults.USE_ASYNC_IO_READ_FOR_SAMTOOLS : false\n",
      "18:46:57.238 INFO  VariantFiltration - HTSJDK Defaults.USE_ASYNC_IO_WRITE_FOR_SAMTOOLS : true\n",
      "18:46:57.238 INFO  VariantFiltration - HTSJDK Defaults.USE_ASYNC_IO_WRITE_FOR_TRIBBLE : false\n",
      "18:46:57.238 INFO  VariantFiltration - Deflater: IntelDeflater\n",
      "18:46:57.238 INFO  VariantFiltration - Inflater: IntelInflater\n",
      "18:46:57.238 INFO  VariantFiltration - GCS max retries/reopens: 20\n",
      "18:46:57.238 INFO  VariantFiltration - Requester pays: disabled\n",
      "18:46:57.238 INFO  VariantFiltration - Initializing engine\n",
      "18:46:57.497 INFO  FeatureManager - Using codec VCFCodec to read file file:///scratch/td2201/appl_genomics/week_5_hw3/result/raw_variants.vcf\n",
      "18:46:57.510 INFO  VariantFiltration - Done initializing engine\n",
      "18:46:57.590 INFO  ProgressMeter - Starting traversal\n",
      "18:46:57.590 INFO  ProgressMeter -        Current Locus  Elapsed Minutes    Variants Processed  Variants/Minute\n",
      "18:46:57.614 INFO  ProgressMeter -             unmapped              0.0                    20          50000.0\n",
      "18:46:57.614 INFO  ProgressMeter - Traversal complete. Processed 20 total variants in 0.0 minutes.\n",
      "18:46:57.673 INFO  VariantFiltration - Shutting down engine\n",
      "[March 9, 2021 6:46:57 PM EST] org.broadinstitute.hellbender.tools.walkers.filters.VariantFiltration done. Elapsed time: 0.01 minutes.\n",
      "Runtime.totalMemory()=323485696\n"
     ]
    }
   ],
   "source": [
    "java -jar $GATK_JAR VariantFiltration \\\n",
    "-R data/genome/NC_045512.2.fa \\\n",
    "-V result/raw_variants.vcf \\\n",
    "--filter-name \"QD_filter\" \\\n",
    "-filter \"QD<2.0\" \\\n",
    "--filter-name \"FS_filter\" \\\n",
    "-filter \"FS>60.0\" \\\n",
    "--filter-name \"MQ_filter\" \\\n",
    "-filter \"MQ<40.0\" \\\n",
    "--filter-name \"SOR_filter\" \\\n",
    "-filter \"SOR>10.0\" \\\n",
    "-O result/filtered_snps.vcf"
   ]
  },
  {
   "cell_type": "code",
   "execution_count": 35,
   "metadata": {},
   "outputs": [
    {
     "name": "stdout",
     "output_type": "stream",
     "text": [
      "aligned_reads.sam\t     filtered_snps.ann.vcf  raw_indels.vcf.idx\n",
      "aligned_sorted_reads.bam     filtered_snps.vcf\t    raw_snps.vcf\n",
      "aligned_sorted_reads_rg.bam  filtered_snps.vcf.idx  raw_snps.vcf.idx\n",
      "deduplicated_reads.bam\t     metrics.txt\t    raw_variants.vcf\n",
      "deduplicated_reads.bam.bai   raw_indels.vcf\t    raw_variants.vcf.idx\n"
     ]
    }
   ],
   "source": [
    "cd result/\n",
    "ls"
   ]
  },
  {
   "cell_type": "code",
   "execution_count": 36,
   "metadata": {},
   "outputs": [
    {
     "name": "stdout",
     "output_type": "stream",
     "text": [
      "#CHROM\tPOS\tID\tREF\tALT\tQUAL\tFILTER\tINFO\tFORMAT\tBangladesh_sample\n",
      "NC_045512.2\t241\t.\tC\tT\t150241.06\tPASS\tAC=2;AF=1.00;AN=2;DP=4059;ExcessHet=3.0103;FS=0.000;MLEAC=2;MLEAF=1.00;MQ=60.00;QD=31.08;SOR=1.236\tGT:AD:DP:GQ:PL\t1/1:0,3988:3988:99:150255,11978,0\n",
      "NC_045512.2\t1163\t.\tA\tT\t70434.06\tPASS\tAC=2;AF=1.00;AN=2;DP=2042;ExcessHet=3.0103;FS=0.000;MLEAC=2;MLEAF=1.00;MQ=60.00;QD=34.83;SOR=1.608\tGT:AD:DP:GQ:PL\t1/1:0,2022:2022:99:70448,6065,0\n",
      "NC_045512.2\t28881\t.\tG\tA\t97656.05\tPASS\tAC=2;AF=1.00;AN=2;BaseQRankSum=-0.043;DP=3224;ExcessHet=3.0103;FS=0.000;MLEAC=2;MLEAF=1.00;MQ=59.92;MQRankSum=-0.290;QD=31.98;ReadPosRankSum=0.364;SOR=0.623\tGT:AD:DP:GQ:PL\t1/1:10,3044:3054:99:99666,8908,0\n",
      "NC_045512.2\t28882\t.\tG\tA\t104458.08\tPASS\tAC=2;AF=1.00;AN=2;BaseQRankSum=-0.044;DP=3306;ExcessHet=3.0103;FS=0.000;MLEAC=2;MLEAF=1.00;MQ=59.92;MQRankSum=-0.192;QD=33.82;ReadPosRankSum=2.997;SOR=0.813\tGT:AD:DP:GQ:PL\t1/1:5,3084:3089:99:132558,9177,0\n",
      "NC_045512.2\t28883\t.\tG\tC\t104398.05\tPASS\tAC=2;AF=1.00;AN=2;DP=3135;ExcessHet=3.0103;FS=0.000;MLEAC=2;MLEAF=1.00;MQ=59.92;MQRankSum=-0.135;QD=33.71;SOR=0.825\tGT:AD:DP:GQ:PL\t1/1:3,3094:3097:99:137752,9250,0\n"
     ]
    }
   ],
   "source": [
    "grep -v \"##\" filtered_snps.vcf | head -3\n",
    "grep -v \"##\" filtered_snps.vcf | tail -3"
   ]
  },
  {
   "cell_type": "markdown",
   "metadata": {},
   "source": [
    "    j. Annotate the filtered SNPs with snpEff \n",
    "        \n",
    "        View the VCF file with IGV\n",
    "    \n",
    "        Summarize the annotated VCF with vcf_summary.sh\n"
   ]
  },
  {
   "cell_type": "code",
   "execution_count": 37,
   "metadata": {},
   "outputs": [
    {
     "name": "stdout",
     "output_type": "stream",
     "text": [
      "\n",
      "Currently Loaded Modules:\n",
      "  1) fastqc/0.11.9       6) htslib/intel/1.11.0  11) gatk/4.1.9.0\n",
      "  2) trimmomatic/0.39    7) samtools/intel/1.11  12) jdk/1.8.0_271\n",
      "  3) bwa/intel/0.7.17    8) python/intel/3.8.6   13) snpeff/4.3t\n",
      "  4) picard/2.23.8       9) intel/19.1.2\n",
      "  5) perl/intel/5.32.0  10) r/intel/4.0.3\n",
      "\n",
      " \n",
      "\n"
     ]
    }
   ],
   "source": [
    "module load snpeff/4.3t\n",
    "module list"
   ]
  },
  {
   "cell_type": "code",
   "execution_count": 38,
   "metadata": {},
   "outputs": [
    {
     "name": "stdout",
     "output_type": "stream",
     "text": [
      "/scratch/td2201/appl_genomics/week_5_hw3\n"
     ]
    }
   ],
   "source": [
    "cd ../\n",
    "pwd"
   ]
  },
  {
   "cell_type": "code",
   "execution_count": 39,
   "metadata": {},
   "outputs": [
    {
     "name": "stdout",
     "output_type": "stream",
     "text": [
      "00:00:00\tSnpEff version SnpEff 4.3t (build 2017-11-24 10:18), by Pablo Cingolani\n",
      "00:00:00\tCommand: 'ann'\n",
      "00:00:00\tReading configuration file 'snpEff.config'. Genome: 'sarscov2'\n",
      "00:00:00\tReading config file: /scratch/td2201/appl_genomics/week_5_hw3/snpEff.config\n",
      "00:00:00\tdone\n",
      "00:00:00\tReading database for genome version 'sarscov2' from file '/scratch/td2201/appl_genomics/week_5_hw3/./data/sarscov2/snpEffectPredictor.bin' (this might take a while)\n",
      "00:00:00\tdone\n",
      "00:00:00\tLoading Motifs and PWMs\n",
      "00:00:00\tBuilding interval forest\n",
      "00:00:00\tdone.\n",
      "00:00:00\tGenome stats :\n",
      "#-----------------------------------------------\n",
      "# Genome name                : 'SARS_COV_2'\n",
      "# Genome version             : 'sarscov2'\n",
      "# Genome ID                  : 'sarscov2[0]'\n",
      "# Has protein coding info    : true\n",
      "# Has Tr. Support Level info : true\n",
      "# Genes                      : 11\n",
      "# Protein coding genes       : 11\n",
      "#-----------------------------------------------\n",
      "# Transcripts                : 11\n",
      "# Avg. transcripts per gene  : 1.00\n",
      "# TSL transcripts            : 0\n",
      "#-----------------------------------------------\n",
      "# Checked transcripts        : \n",
      "#               AA sequences :      0 ( 0.00% )\n",
      "#              DNA sequences :      0 ( 0.00% )\n",
      "#-----------------------------------------------\n",
      "# Protein coding transcripts : 11\n",
      "#              Length errors :      1 ( 9.09% )\n",
      "#  STOP codons in CDS errors :      1 ( 9.09% )\n",
      "#         START codon errors :      0 ( 0.00% )\n",
      "#        STOP codon warnings :      0 ( 0.00% )\n",
      "#              UTR sequences :      0 ( 0.00% )\n",
      "#               Total Errors :      1 ( 9.09% )\n",
      "# WARNING                    : No protein coding transcript has UTR\n",
      "#-----------------------------------------------\n",
      "# Cds                        : 11\n",
      "# Exons                      : 11\n",
      "# Exons with sequence        : 11\n",
      "# Exons without sequence     : 0\n",
      "# Avg. exons per transcript  : 1.00\n",
      "#-----------------------------------------------\n",
      "# Number of chromosomes      : 1\n",
      "# Chromosomes                : Format 'chromo_name size codon_table'\n",
      "#\t\t'NC_045512.2'\t29903\tStandard\n",
      "#-----------------------------------------------\n",
      "\n",
      "00:00:00\tPredicting variants\n",
      "00:00:00\tCreating sequences from exon information 'NC_045512.2'\n",
      "00:00:00\tBuilding sequence tree for chromosome 'NC_045512.2'\n",
      "00:00:00\tBuilding sequence tree for genome sequences\n",
      "00:00:00\tDone.\n",
      "00:00:00\tDone. Loaded 10 sequences.\n",
      "\n",
      "WARNINGS: Some warning were detected\n",
      "Warning type\tNumber of warnings\n",
      "WARNING_TRANSCRIPT_MULTIPLE_STOP_CODONS\t16\n",
      "WARNING_TRANSCRIPT_MULTIPLE_STOP_CODONS&INFO_REALIGN_3_PRIME\t1\n",
      "\n",
      "\n",
      "00:00:00\tCreating summary file: snpEff_summary.html\n",
      "00:00:00\tCreating genes file: snpEff_genes.txt\n",
      "00:00:00\tdone.\n",
      "00:00:00\tLogging\n",
      "00:00:01\tChecking for updates...\n",
      "00:00:01\tDone.\n"
     ]
    }
   ],
   "source": [
    "java -jar $SNPEFF_JAR \\\n",
    "-c snpEff.config \\\n",
    "-v sarscov2 \\\n",
    "result/filtered_snps.vcf > result/filtered_snps.ann.vcf"
   ]
  },
  {
   "cell_type": "markdown",
   "metadata": {},
   "source": [
    ">*A brief count of the .vcf files*"
   ]
  },
  {
   "cell_type": "code",
   "execution_count": 40,
   "metadata": {},
   "outputs": [
    {
     "name": "stdout",
     "output_type": "stream",
     "text": [
      "   57 result/filtered_snps.ann.vcf\n",
      "   52 result/filtered_snps.vcf\n",
      "   35 result/raw_indels.vcf\n",
      "   43 result/raw_snps.vcf\n",
      "   46 result/raw_variants.vcf\n",
      "  233 total\n"
     ]
    }
   ],
   "source": [
    "wc -l result/*.vcf"
   ]
  },
  {
   "cell_type": "markdown",
   "metadata": {},
   "source": [
    "> Summary of the filtered SNPS"
   ]
  },
  {
   "cell_type": "code",
   "execution_count": 41,
   "metadata": {},
   "outputs": [
    {
     "name": "stdout",
     "output_type": "stream",
     "text": [
      "T        upstream_gene_variant                       MODIFIER  ORF1ab            \n",
      "T        intergenic_region                           MODIFIER  CHR_START-ORF1ab  \n",
      "T        missense_variant                            MODERATE  ORF1ab            p.Ile300Phe\n",
      "T        synonymous_variant                          LOW       ORF1ab            p.Phe924Phe\n",
      "A        synonymous_variant                          LOW       ORF1ab            p.Thr3288Thr\n",
      "TAA      frameshift_variant                          HIGH      ORF1ab            p.Trp3294fs\n",
      "A        synonymous_variant                          LOW       ORF1ab            p.Leu3293Leu\n",
      "TG       frameshift_variant                          HIGH      ORF1ab            p.Ala3705fs\n",
      "CAGTTTG  disruptive_inframe_insertion                MODERATE  ORF1ab            p.Ala3705_Arg3706insValCys\n",
      "T        synonymous_variant                          LOW       ORF1ab            p.Leu4715Leu\n",
      "A        missense_variant                            MODERATE  ORF1ab            p.Met4766Ile\n",
      "GCCGTGA  stop_gained&conservative_inframe_insertion  HIGH      ORF1ab            p.Leu4768_Thr4769insProTer\n",
      "T        missense_variant                            MODERATE  ORF1ab            p.Ser5585Ile\n",
      "T        upstream_gene_variant                       MODIFIER  S                 \n",
      "G        missense_variant                            MODERATE  S                 p.Asp614Gly\n",
      "G        upstream_gene_variant                       MODIFIER  ORF3a             \n",
      "G        upstream_gene_variant                       MODIFIER  E                 \n",
      "G        upstream_gene_variant                       MODIFIER  M                 \n",
      "G        upstream_gene_variant                       MODIFIER  ORF6              \n",
      "G        upstream_gene_variant                       MODIFIER  ORF7a             \n",
      "G        upstream_gene_variant                       MODIFIER  ORF7b             \n",
      "G        upstream_gene_variant                       MODIFIER  ORF8              \n",
      "G        upstream_gene_variant                       MODIFIER  N                 \n",
      "G        downstream_gene_variant                     MODIFIER  ORF1ab            \n",
      "T        stop_gained                                 HIGH      ORF3a             p.Glu194*\n",
      "T        upstream_gene_variant                       MODIFIER  E                 \n",
      "T        upstream_gene_variant                       MODIFIER  M                 \n",
      "T        upstream_gene_variant                       MODIFIER  ORF6              \n",
      "T        upstream_gene_variant                       MODIFIER  ORF7a             \n",
      "T        upstream_gene_variant                       MODIFIER  ORF7b             \n",
      "T        upstream_gene_variant                       MODIFIER  ORF8              \n",
      "T        upstream_gene_variant                       MODIFIER  N                 \n",
      "T        upstream_gene_variant                       MODIFIER  ORF10             \n",
      "T        downstream_gene_variant                     MODIFIER  ORF1ab            \n",
      "T        downstream_gene_variant                     MODIFIER  S                 \n",
      "T        frameshift_variant                          HIGH      ORF3a             p.Lys198fs\n",
      "T        upstream_gene_variant                       MODIFIER  E                 \n",
      "T        upstream_gene_variant                       MODIFIER  M                 \n",
      "T        upstream_gene_variant                       MODIFIER  ORF6              \n",
      "T        upstream_gene_variant                       MODIFIER  ORF7a             \n",
      "T        upstream_gene_variant                       MODIFIER  ORF7b             \n",
      "T        upstream_gene_variant                       MODIFIER  ORF8              \n",
      "T        upstream_gene_variant                       MODIFIER  N                 \n",
      "T        upstream_gene_variant                       MODIFIER  ORF10             \n",
      "T        downstream_gene_variant                     MODIFIER  ORF1ab            \n",
      "T        downstream_gene_variant                     MODIFIER  S                 \n",
      "ATC      frameshift_variant                          HIGH      ORF3a             p.Asp199fs\n",
      "ATC      upstream_gene_variant                       MODIFIER  E                 \n",
      "ATC      upstream_gene_variant                       MODIFIER  M                 \n",
      "ATC      upstream_gene_variant                       MODIFIER  ORF6              \n",
      "ATC      upstream_gene_variant                       MODIFIER  ORF7a             \n",
      "ATC      upstream_gene_variant                       MODIFIER  ORF7b             \n",
      "ATC      upstream_gene_variant                       MODIFIER  ORF8              \n",
      "ATC      upstream_gene_variant                       MODIFIER  N                 \n",
      "ATC      upstream_gene_variant                       MODIFIER  ORF10             \n",
      "ATC      downstream_gene_variant                     MODIFIER  ORF1ab            \n",
      "ATC      downstream_gene_variant                     MODIFIER  S                 \n",
      "C        missense_variant                            MODERATE  ORF3a             p.Asp199Ala\n",
      "C        upstream_gene_variant                       MODIFIER  E                 \n",
      "C        upstream_gene_variant                       MODIFIER  M                 \n",
      "C        upstream_gene_variant                       MODIFIER  ORF6              \n",
      "C        upstream_gene_variant                       MODIFIER  ORF7a             \n",
      "C        upstream_gene_variant                       MODIFIER  ORF7b             \n",
      "C        upstream_gene_variant                       MODIFIER  ORF8              \n",
      "C        upstream_gene_variant                       MODIFIER  N                 \n",
      "C        upstream_gene_variant                       MODIFIER  ORF10             \n",
      "C        downstream_gene_variant                     MODIFIER  ORF1ab            \n",
      "C        downstream_gene_variant                     MODIFIER  S                 \n",
      "A        missense_variant                            MODERATE  N                 p.Arg203Lys\n",
      "A        upstream_gene_variant                       MODIFIER  ORF10             \n",
      "A        downstream_gene_variant                     MODIFIER  S                 \n",
      "A        downstream_gene_variant                     MODIFIER  ORF3a             \n",
      "A        downstream_gene_variant                     MODIFIER  E                 \n",
      "A        downstream_gene_variant                     MODIFIER  M                 \n",
      "A        downstream_gene_variant                     MODIFIER  ORF6              \n",
      "A        downstream_gene_variant                     MODIFIER  ORF7a             \n",
      "A        downstream_gene_variant                     MODIFIER  ORF7b             \n",
      "A        downstream_gene_variant                     MODIFIER  ORF8              \n",
      "A        synonymous_variant                          LOW       N                 p.Arg203Arg\n",
      "A        upstream_gene_variant                       MODIFIER  ORF10             \n",
      "A        downstream_gene_variant                     MODIFIER  S                 \n",
      "A        downstream_gene_variant                     MODIFIER  ORF3a             \n",
      "A        downstream_gene_variant                     MODIFIER  E                 \n",
      "A        downstream_gene_variant                     MODIFIER  M                 \n",
      "A        downstream_gene_variant                     MODIFIER  ORF6              \n",
      "A        downstream_gene_variant                     MODIFIER  ORF7a             \n",
      "A        downstream_gene_variant                     MODIFIER  ORF7b             \n",
      "A        downstream_gene_variant                     MODIFIER  ORF8              \n",
      "C        missense_variant                            MODERATE  N                 p.Gly204Arg\n",
      "C        upstream_gene_variant                       MODIFIER  ORF10             \n",
      "C        downstream_gene_variant                     MODIFIER  S                 \n",
      "C        downstream_gene_variant                     MODIFIER  ORF3a             \n",
      "C        downstream_gene_variant                     MODIFIER  E                 \n",
      "C        downstream_gene_variant                     MODIFIER  M                 \n",
      "C        downstream_gene_variant                     MODIFIER  ORF6              \n",
      "C        downstream_gene_variant                     MODIFIER  ORF7a             \n",
      "C        downstream_gene_variant                     MODIFIER  ORF7b             \n",
      "C        downstream_gene_variant                     MODIFIER  ORF8              \n"
     ]
    }
   ],
   "source": [
    "./vcf_summary.sh result/filtered_snps.ann.vcf"
   ]
  },
  {
   "cell_type": "markdown",
   "metadata": {},
   "source": [
    "***"
   ]
  },
  {
   "cell_type": "markdown",
   "metadata": {},
   "source": []
  },
  {
   "cell_type": "markdown",
   "metadata": {},
   "source": []
  }
 ],
 "metadata": {
  "kernelspec": {
   "display_name": "Bash",
   "language": "bash",
   "name": "bash"
  },
  "language_info": {
   "codemirror_mode": "shell",
   "file_extension": ".sh",
   "mimetype": "text/x-sh",
   "name": "bash"
  }
 },
 "nbformat": 4,
 "nbformat_minor": 4
}
