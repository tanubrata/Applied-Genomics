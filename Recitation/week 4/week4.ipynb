{
 "cells": [
  {
   "cell_type": "code",
   "execution_count": 1,
   "metadata": {},
   "outputs": [
    {
     "name": "stdout",
     "output_type": "stream",
     "text": [
      "/scratch/td2201/ap_gl_recitation/week4\n"
     ]
    }
   ],
   "source": [
    "pwd"
   ]
  },
  {
   "cell_type": "code",
   "execution_count": 2,
   "metadata": {},
   "outputs": [],
   "source": [
    "mkdir data result"
   ]
  },
  {
   "cell_type": "code",
   "execution_count": 3,
   "metadata": {},
   "outputs": [
    {
     "name": "stdout",
     "output_type": "stream",
     "text": [
      "Untitled.ipynb\tdata  result\n"
     ]
    }
   ],
   "source": [
    "ls"
   ]
  },
  {
   "cell_type": "code",
   "execution_count": 4,
   "metadata": {},
   "outputs": [],
   "source": [
    "cp /scratch/work/courses/AppliedGenomics2021Sec3/week04_recitation/* data"
   ]
  },
  {
   "cell_type": "code",
   "execution_count": 5,
   "metadata": {},
   "outputs": [
    {
     "name": "stdout",
     "output_type": "stream",
     "text": [
      "data\n",
      "├── [  62M]  GCF_000001405.33_GRCh38.p7_chr20_genomic.fna\n",
      "├── [  26M]  chr20.gtf\n",
      "├── [  22K]  different_aligners.ipynb\n",
      "├── [  22M]  read_1.fastq\n",
      "└── [  22M]  read_2.fastq\n",
      "\n",
      "0 directories, 5 files\n"
     ]
    }
   ],
   "source": [
    "tree data -h"
   ]
  },
  {
   "cell_type": "code",
   "execution_count": 6,
   "metadata": {},
   "outputs": [
    {
     "name": "stdout",
     "output_type": "stream",
     "text": [
      "\n",
      "Currently Loaded Modules:\n",
      "  1) python/intel/3.8.6   2) intel/19.1.2   3) r/intel/4.0.3\n",
      "\n",
      " \n",
      "\n"
     ]
    }
   ],
   "source": [
    "module list"
   ]
  },
  {
   "cell_type": "code",
   "execution_count": 7,
   "metadata": {},
   "outputs": [],
   "source": [
    "module purge\n",
    "module load trimmomatic/0.39\n",
    "module load star/intel/2.7.6a\n",
    "module load bowtie2/2.4.2\n",
    "module load samtools/intel/1.11"
   ]
  },
  {
   "cell_type": "code",
   "execution_count": 9,
   "metadata": {},
   "outputs": [
    {
     "name": "stdout",
     "output_type": "stream",
     "text": [
      "bash: cd: data: No such file or directory\n",
      "/scratch/td2201/ap_gl_recitation/week4/data\n",
      "GCF_000001405.33_GRCh38.p7_chr20_genomic.fna  read_1.fastq\n",
      "chr20.gtf\t\t\t\t      read_2.fastq\n",
      "different_aligners.ipynb\n"
     ]
    }
   ],
   "source": [
    "cd data\n",
    "pwd\n",
    "ls"
   ]
  },
  {
   "cell_type": "code",
   "execution_count": 10,
   "metadata": {},
   "outputs": [
    {
     "name": "stdout",
     "output_type": "stream",
     "text": [
      "TrimmomaticPE: Started with arguments:\n",
      " -phred33 read_1.fastq read_2.fastq read_1_trimmed.fq read_1_unpair_trimmed.fq read_2_trimmed.fq read_2_unpair_trimmed.fq HEADCROP:15 TRAILING:3 SLIDINGWINDOW:4:15 MINLEN:36\n",
      "Multiple cores found: Using 2 threads\n",
      "Input Read Pairs: 97206 Both Surviving: 88187 (90.72%) Forward Only Surviving: 5936 (6.11%) Reverse Only Surviving: 1671 (1.72%) Dropped: 1412 (1.45%)\n",
      "TrimmomaticPE: Completed successfully\n"
     ]
    }
   ],
   "source": [
    "java -jar /share/apps/trimmomatic/0.39/trimmomatic-0.39.jar PE -phred33 \\\n",
    "read_1.fastq read_2.fastq \\\n",
    "read_1_trimmed.fq read_1_unpair_trimmed.fq \\\n",
    "read_2_trimmed.fq read_2_unpair_trimmed.fq \\\n",
    "HEADCROP:15 TRAILING:3 SLIDINGWINDOW:4:15 MINLEN:36"
   ]
  },
  {
   "cell_type": "code",
   "execution_count": 11,
   "metadata": {},
   "outputs": [
    {
     "name": "stdout",
     "output_type": "stream",
     "text": [
      "/scratch/td2201/ap_gl_recitation/week4\n"
     ]
    }
   ],
   "source": [
    "cd ../\n",
    "pwd"
   ]
  },
  {
   "cell_type": "code",
   "execution_count": 12,
   "metadata": {},
   "outputs": [],
   "source": [
    "mkdir data/hg38_chr20_basic"
   ]
  },
  {
   "cell_type": "code",
   "execution_count": 13,
   "metadata": {},
   "outputs": [
    {
     "name": "stdout",
     "output_type": "stream",
     "text": [
      "Untitled.ipynb\tdata  result\n"
     ]
    }
   ],
   "source": [
    "ls"
   ]
  },
  {
   "cell_type": "code",
   "execution_count": 14,
   "metadata": {},
   "outputs": [
    {
     "name": "stdout",
     "output_type": "stream",
     "text": [
      "data\n",
      "├── GCF_000001405.33_GRCh38.p7_chr20_genomic.fna\n",
      "├── chr20.gtf\n",
      "├── different_aligners.ipynb\n",
      "├── hg38_chr20_basic\n",
      "├── read_1.fastq\n",
      "├── read_1_trimmed.fq\n",
      "├── read_1_unpair_trimmed.fq\n",
      "├── read_2.fastq\n",
      "├── read_2_trimmed.fq\n",
      "└── read_2_unpair_trimmed.fq\n",
      "\n",
      "1 directory, 9 files\n"
     ]
    }
   ],
   "source": [
    "tree data"
   ]
  },
  {
   "cell_type": "code",
   "execution_count": 17,
   "metadata": {},
   "outputs": [
    {
     "name": "stdout",
     "output_type": "stream",
     "text": [
      "Feb 22 10:05:38 ..... started STAR run\n",
      "Feb 22 10:05:38 ... starting to generate Genome files\n",
      "Feb 22 10:05:39 ... starting to sort Suffix Array. This may take a long time...\n",
      "Feb 22 10:05:39 ... sorting Suffix Array chunks and saving them to disk...\n",
      "Feb 22 10:06:46 ... loading chunks from disk, packing SA...\n",
      "Feb 22 10:06:48 ... finished generating suffix array\n",
      "Feb 22 10:06:48 ... generating Suffix Array index\n",
      "Feb 22 10:06:51 ... completed Suffix Array index\n",
      "Feb 22 10:06:51 ... writing Genome to disk ...\n",
      "Feb 22 10:06:51 ... writing Suffix Array to disk ...\n",
      "Feb 22 10:06:51 ... writing SAindex to disk\n",
      "Feb 22 10:06:51 ..... finished successfully\n"
     ]
    }
   ],
   "source": [
    "STAR --runThreadN 1 --runMode genomeGenerate --genomeSAindexNbases 11 --genomeDir data/hg38_chr20_basic --genomeFastaFiles data/GCF_000001405.33_GRCh38.p7_chr20_genomic.fna "
   ]
  },
  {
   "cell_type": "code",
   "execution_count": 18,
   "metadata": {},
   "outputs": [
    {
     "name": "stdout",
     "output_type": "stream",
     "text": [
      "Usage: mkdir [OPTION]... DIRECTORY...\n",
      "Create the DIRECTORY(ies), if they do not already exist.\n",
      "\n",
      "Mandatory arguments to long options are mandatory for short options too.\n",
      "  -m, --mode=MODE   set file mode (as in chmod), not a=rwx - umask\n",
      "  -p, --parents     no error if existing, make parent directories as needed\n",
      "  -v, --verbose     print a message for each created directory\n",
      "  -Z                   set SELinux security context of each created directory\n",
      "                         to the default type\n",
      "      --context[=CTX]  like -Z, or if CTX is specified then set the SELinux\n",
      "                         or SMACK security context to CTX\n",
      "      --help     display this help and exit\n",
      "      --version  output version information and exit\n",
      "\n",
      "GNU coreutils online help: <https://www.gnu.org/software/coreutils/>\n",
      "Report mkdir translation bugs to <https://translationproject.org/team/>\n",
      "Full documentation at: <https://www.gnu.org/software/coreutils/mkdir>\n",
      "or available locally via: info '(coreutils) mkdir invocation'\n"
     ]
    }
   ],
   "source": [
    "mkdir --help"
   ]
  },
  {
   "cell_type": "code",
   "execution_count": 19,
   "metadata": {},
   "outputs": [],
   "source": [
    "mkdir result/STAR_basic"
   ]
  },
  {
   "cell_type": "code",
   "execution_count": 20,
   "metadata": {},
   "outputs": [
    {
     "name": "stdout",
     "output_type": "stream",
     "text": [
      "result\n",
      "└── STAR_basic\n",
      "\n",
      "1 directory, 0 files\n"
     ]
    }
   ],
   "source": [
    "tree result"
   ]
  },
  {
   "cell_type": "code",
   "execution_count": 21,
   "metadata": {},
   "outputs": [
    {
     "name": "stdout",
     "output_type": "stream",
     "text": [
      "Feb 22 10:20:22 ..... started STAR run\n",
      "Feb 22 10:20:29 ..... loading genome\n",
      "Feb 22 10:20:29 ..... started mapping\n",
      "Feb 22 10:20:36 ..... finished mapping\n",
      "Feb 22 10:20:36 ..... started sorting BAM\n",
      "Feb 22 10:20:37 ..... finished successfully\n",
      "\n",
      "real\t0m14.912s\n",
      "user\t0m6.880s\n",
      "sys\t0m0.784s\n"
     ]
    }
   ],
   "source": [
    "time STAR --genomeDir ./data/hg38_chr20_basic \\\n",
    "--runThreadN 2 \\\n",
    "--readFilesIn ./data/read_1_trimmed.fq data/read_2_trimmed.fq \\\n",
    "--outFileNamePrefix ./result/STAR_basic/ \\\n",
    "--outSAMtype BAM SortedByCoordinate \\\n",
    "--outSAMunmapped Within \\\n",
    "--outSAMattributes Standard"
   ]
  },
  {
   "cell_type": "code",
   "execution_count": 22,
   "metadata": {},
   "outputs": [
    {
     "name": "stdout",
     "output_type": "stream",
     "text": [
      "total 170M\n",
      "-rw-r-xr-- 1 td2201 td2201  63M Feb 22 09:45 GCF_000001405.33_GRCh38.p7_chr20_genomic.fna\n",
      "-rw-r--r-- 1 td2201 td2201  26M Feb 22 09:45 chr20.gtf\n",
      "-rw-r--r-- 1 td2201 td2201  22K Feb 22 09:45 different_aligners.ipynb\n",
      "drwxrwsr-x 2 td2201 td2201 4.0K Feb 22 10:06 hg38_chr20_basic\n",
      "-rw-r-xr-- 1 td2201 td2201  23M Feb 22 09:45 read_1.fastq\n",
      "-rw-rw-r-- 1 td2201 td2201  18M Feb 22 09:53 read_1_trimmed.fq\n",
      "-rw-rw-r-- 1 td2201 td2201 1.1M Feb 22 09:53 read_1_unpair_trimmed.fq\n",
      "-rw-r-xr-- 1 td2201 td2201  23M Feb 22 09:45 read_2.fastq\n",
      "-rw-rw-r-- 1 td2201 td2201  18M Feb 22 09:53 read_2_trimmed.fq\n",
      "-rw-rw-r-- 1 td2201 td2201 298K Feb 22 09:53 read_2_unpair_trimmed.fq\n"
     ]
    }
   ],
   "source": [
    "ls -lh data"
   ]
  },
  {
   "cell_type": "code",
   "execution_count": 24,
   "metadata": {},
   "outputs": [],
   "source": [
    "cd ./result/STAR_basic/"
   ]
  },
  {
   "cell_type": "code",
   "execution_count": 25,
   "metadata": {},
   "outputs": [
    {
     "name": "stdout",
     "output_type": "stream",
     "text": [
      "/scratch/td2201/ap_gl_recitation/week4/result/STAR_basic\n"
     ]
    }
   ],
   "source": [
    "pwd"
   ]
  },
  {
   "cell_type": "code",
   "execution_count": 26,
   "metadata": {},
   "outputs": [
    {
     "name": "stdout",
     "output_type": "stream",
     "text": [
      "total 15M\n",
      "-rw-rw-r-- 1 td2201 td2201  15M Feb 22 10:20 Aligned.sortedByCoord.out.bam\n",
      "-rw-rw-r-- 1 td2201 td2201 2.0K Feb 22 10:20 Log.final.out\n",
      "-rw-rw-r-- 1 td2201 td2201 5.2K Feb 22 10:20 Log.out\n",
      "-rw-rw-r-- 1 td2201 td2201  246 Feb 22 10:20 Log.progress.out\n",
      "-rw-rw-r-- 1 td2201 td2201 1002 Feb 22 10:20 SJ.out.tab\n"
     ]
    }
   ],
   "source": [
    "ls -lh "
   ]
  },
  {
   "cell_type": "code",
   "execution_count": 27,
   "metadata": {},
   "outputs": [
    {
     "name": "stdout",
     "output_type": "stream",
     "text": [
      "                                 Started job on |\tFeb 22 10:20:22\n",
      "                             Started mapping on |\tFeb 22 10:20:29\n",
      "                                    Finished on |\tFeb 22 10:20:37\n",
      "       Mapping speed, Million of reads per hour |\t39.68\n",
      "\n",
      "                          Number of input reads |\t88187\n",
      "                      Average input read length |\t164\n",
      "                                    UNIQUE READS:\n",
      "                   Uniquely mapped reads number |\t87319\n",
      "                        Uniquely mapped reads % |\t99.02%\n",
      "                          Average mapped length |\t164.16\n",
      "                       Number of splices: Total |\t88\n",
      "            Number of splices: Annotated (sjdb) |\t0\n",
      "                       Number of splices: GT/AG |\t71\n",
      "                       Number of splices: GC/AG |\t2\n",
      "                       Number of splices: AT/AC |\t0\n",
      "               Number of splices: Non-canonical |\t15\n",
      "                      Mismatch rate per base, % |\t0.27%\n",
      "                         Deletion rate per base |\t0.01%\n",
      "                        Deletion average length |\t1.60\n",
      "                        Insertion rate per base |\t0.01%\n",
      "                       Insertion average length |\t1.68\n",
      "                             MULTI-MAPPING READS:\n",
      "        Number of reads mapped to multiple loci |\t523\n",
      "             % of reads mapped to multiple loci |\t0.59%\n",
      "        Number of reads mapped to too many loci |\t3\n",
      "             % of reads mapped to too many loci |\t0.00%\n",
      "                                  UNMAPPED READS:\n",
      "  Number of reads unmapped: too many mismatches |\t0\n",
      "       % of reads unmapped: too many mismatches |\t0.00%\n",
      "            Number of reads unmapped: too short |\t336\n",
      "                 % of reads unmapped: too short |\t0.38%\n",
      "                Number of reads unmapped: other |\t6\n",
      "                     % of reads unmapped: other |\t0.01%\n",
      "                                  CHIMERIC READS:\n",
      "                       Number of chimeric reads |\t0\n",
      "                            % of chimeric reads |\t0.00%\n"
     ]
    }
   ],
   "source": [
    "cat Log.final.out"
   ]
  },
  {
   "cell_type": "code",
   "execution_count": 28,
   "metadata": {},
   "outputs": [
    {
     "name": "stdout",
     "output_type": "stream",
     "text": [
      "177802 + 0 in total (QC-passed reads + QC-failed reads)\n",
      "1428 + 0 secondary\n",
      "0 + 0 supplementary\n",
      "0 + 0 duplicates\n",
      "177100 + 0 mapped (99.61% : N/A)\n",
      "176374 + 0 paired in sequencing\n",
      "88187 + 0 read1\n",
      "88187 + 0 read2\n",
      "175660 + 0 properly paired (99.60% : N/A)\n",
      "175660 + 0 with itself and mate mapped\n",
      "12 + 0 singletons (0.01% : N/A)\n",
      "0 + 0 with mate mapped to a different chr\n",
      "0 + 0 with mate mapped to a different chr (mapQ>=5)\n"
     ]
    }
   ],
   "source": [
    "samtools flagstat ./Aligned.sortedByCoord.out.bam"
   ]
  },
  {
   "cell_type": "code",
   "execution_count": 29,
   "metadata": {},
   "outputs": [
    {
     "name": "stdout",
     "output_type": "stream",
     "text": [
      "/scratch/td2201/ap_gl_recitation/week4/result/STAR_basic\n"
     ]
    }
   ],
   "source": [
    "pwd"
   ]
  },
  {
   "cell_type": "code",
   "execution_count": 30,
   "metadata": {},
   "outputs": [],
   "source": [
    "cd ../../"
   ]
  },
  {
   "cell_type": "code",
   "execution_count": 31,
   "metadata": {},
   "outputs": [
    {
     "name": "stdout",
     "output_type": "stream",
     "text": [
      "/scratch/td2201/ap_gl_recitation/week4\n"
     ]
    }
   ],
   "source": [
    "pwd"
   ]
  },
  {
   "cell_type": "code",
   "execution_count": 32,
   "metadata": {},
   "outputs": [],
   "source": [
    "mkdir data/hg38_chr20_sjdb"
   ]
  },
  {
   "cell_type": "code",
   "execution_count": 33,
   "metadata": {},
   "outputs": [
    {
     "name": "stdout",
     "output_type": "stream",
     "text": [
      "Feb 22 10:59:35 ..... started STAR run\n",
      "Feb 22 10:59:35 ... starting to generate Genome files\n",
      "Feb 22 10:59:36 ..... processing annotations GTF\n",
      "Feb 22 10:59:37 ... starting to sort Suffix Array. This may take a long time...\n",
      "Feb 22 10:59:37 ... sorting Suffix Array chunks and saving them to disk...\n",
      "Feb 22 11:00:47 ... loading chunks from disk, packing SA...\n",
      "Feb 22 11:00:48 ... finished generating suffix array\n",
      "Feb 22 11:00:48 ... generating Suffix Array index\n",
      "Feb 22 11:00:51 ... completed Suffix Array index\n",
      "Feb 22 11:00:51 ..... inserting junctions into the genome indices\n",
      "Feb 22 11:00:56 ... writing Genome to disk ...\n",
      "Feb 22 11:00:56 ... writing Suffix Array to disk ...\n",
      "Feb 22 11:00:56 ... writing SAindex to disk\n",
      "Feb 22 11:00:57 ..... finished successfully\n"
     ]
    }
   ],
   "source": [
    "STAR --runThreadN 2 \\\n",
    "--runMode genomeGenerate \\\n",
    "--genomeSAindexNbases 11 \\\n",
    "--genomeDir data/hg38_chr20_sjdb \\\n",
    "--genomeFastaFiles data/GCF_000001405.33_GRCh38.p7_chr20_genomic.fna \\\n",
    "--sjdbGTFfile data/chr20.gtf \\\n",
    "--sjdbOverhang 99"
   ]
  },
  {
   "cell_type": "code",
   "execution_count": 34,
   "metadata": {},
   "outputs": [
    {
     "name": "stdout",
     "output_type": "stream",
     "text": [
      "Feb 22 11:02:18 ..... started STAR run\n",
      "Feb 22 11:02:18 ..... loading genome\n",
      "Feb 22 11:02:18 ..... started mapping\n",
      "Feb 22 11:02:44 ..... finished mapping\n",
      "Feb 22 11:02:44 ..... started sorting BAM\n",
      "Feb 22 11:02:46 ..... finished successfully\n"
     ]
    }
   ],
   "source": [
    "mkdir result/STARsjdb\n",
    "STAR --genomeDir ./data/hg38_chr20_basic \\\n",
    "--runThreadN 2 \\\n",
    "--readFilesIn ./data/read_1.fastq data/read_2.fastq \\\n",
    "--outFileNamePrefix ./result/STARsjdb/ \\\n",
    "--outSAMtype BAM SortedByCoordinate \\\n",
    "--outSAMunmapped Within \\\n",
    "--outSAMattributes Standard"
   ]
  },
  {
   "cell_type": "code",
   "execution_count": 35,
   "metadata": {},
   "outputs": [
    {
     "name": "stdout",
     "output_type": "stream",
     "text": [
      "196110 + 0 in total (QC-passed reads + QC-failed reads)\n",
      "1698 + 0 secondary\n",
      "0 + 0 supplementary\n",
      "0 + 0 duplicates\n",
      "193206 + 0 mapped (98.52% : N/A)\n",
      "194412 + 0 paired in sequencing\n",
      "97206 + 0 read1\n",
      "97206 + 0 read2\n",
      "191508 + 0 properly paired (98.51% : N/A)\n",
      "191508 + 0 with itself and mate mapped\n",
      "0 + 0 singletons (0.00% : N/A)\n",
      "0 + 0 with mate mapped to a different chr\n",
      "0 + 0 with mate mapped to a different chr (mapQ>=5)\n"
     ]
    }
   ],
   "source": [
    "samtools flagstat result/STARsjdb/Aligned.sortedByCoord.out.bam"
   ]
  },
  {
   "cell_type": "code",
   "execution_count": 36,
   "metadata": {},
   "outputs": [
    {
     "name": "stdout",
     "output_type": "stream",
     "text": [
      "177802 + 0 in total (QC-passed reads + QC-failed reads)\n",
      "1428 + 0 secondary\n",
      "0 + 0 supplementary\n",
      "0 + 0 duplicates\n",
      "177100 + 0 mapped (99.61% : N/A)\n",
      "176374 + 0 paired in sequencing\n",
      "88187 + 0 read1\n",
      "88187 + 0 read2\n",
      "175660 + 0 properly paired (99.60% : N/A)\n",
      "175660 + 0 with itself and mate mapped\n",
      "12 + 0 singletons (0.01% : N/A)\n",
      "0 + 0 with mate mapped to a different chr\n",
      "0 + 0 with mate mapped to a different chr (mapQ>=5)\n"
     ]
    }
   ],
   "source": [
    "samtools flagstat result/STAR_basic/Aligned.sortedByCoord.out.bam"
   ]
  },
  {
   "cell_type": "code",
   "execution_count": 37,
   "metadata": {},
   "outputs": [
    {
     "name": "stdout",
     "output_type": "stream",
     "text": [
      "/scratch/td2201/ap_gl_recitation/week4\n"
     ]
    }
   ],
   "source": [
    "pwd"
   ]
  },
  {
   "cell_type": "code",
   "execution_count": 38,
   "metadata": {},
   "outputs": [
    {
     "name": "stdout",
     "output_type": "stream",
     "text": [
      "mkdir: cannot create directory ‘/data/hg38_chr20_bowtie2’: No such file or directory\n"
     ]
    },
    {
     "ename": "",
     "evalue": "1",
     "output_type": "error",
     "traceback": []
    }
   ],
   "source": [
    "mkdir /data/hg38_chr20_bowtie2"
   ]
  },
  {
   "cell_type": "code",
   "execution_count": 39,
   "metadata": {},
   "outputs": [],
   "source": [
    "cd data"
   ]
  },
  {
   "cell_type": "code",
   "execution_count": 40,
   "metadata": {},
   "outputs": [
    {
     "name": "stdout",
     "output_type": "stream",
     "text": [
      "/scratch/td2201/ap_gl_recitation/week4/data\n"
     ]
    }
   ],
   "source": [
    "pwd"
   ]
  },
  {
   "cell_type": "code",
   "execution_count": 41,
   "metadata": {},
   "outputs": [],
   "source": [
    "mkdir hg38_chr20_bowtie2"
   ]
  },
  {
   "cell_type": "code",
   "execution_count": 42,
   "metadata": {},
   "outputs": [
    {
     "name": "stdout",
     "output_type": "stream",
     "text": [
      "GCF_000001405.33_GRCh38.p7_chr20_genomic.fna  read_1.fastq\n",
      "chr20.gtf\t\t\t\t      read_1_trimmed.fq\n",
      "different_aligners.ipynb\t\t      read_1_unpair_trimmed.fq\n",
      "hg38_chr20_basic\t\t\t      read_2.fastq\n",
      "hg38_chr20_bowtie2\t\t\t      read_2_trimmed.fq\n",
      "hg38_chr20_sjdb\t\t\t\t      read_2_unpair_trimmed.fq\n"
     ]
    }
   ],
   "source": [
    "ls"
   ]
  },
  {
   "cell_type": "code",
   "execution_count": 43,
   "metadata": {},
   "outputs": [],
   "source": [
    "cd hg38_chr20_bowtie2"
   ]
  },
  {
   "cell_type": "code",
   "execution_count": 44,
   "metadata": {},
   "outputs": [
    {
     "name": "stdout",
     "output_type": "stream",
     "text": [
      "/scratch/td2201/ap_gl_recitation/week4/data/hg38_chr20_bowtie2\n"
     ]
    }
   ],
   "source": [
    "pwd"
   ]
  },
  {
   "cell_type": "code",
   "execution_count": 45,
   "metadata": {},
   "outputs": [
    {
     "name": "stdout",
     "output_type": "stream",
     "text": [
      "Settings:\n",
      "  Output files: \"hg38_chr20_bowtie2.*.bt2\"\n",
      "  Line rate: 6 (line is 64 bytes)\n",
      "  Lines per side: 1 (side is 64 bytes)\n",
      "  Offset rate: 4 (one in 16)\n",
      "  FTable chars: 10\n",
      "  Strings: unpacked\n",
      "  Max bucket size: default\n",
      "  Max bucket size, sqrt multiplier: default\n",
      "  Max bucket size, len divisor: 4\n",
      "  Difference-cover sample period: 1024\n",
      "  Endianness: little\n",
      "  Actual local endianness: little\n",
      "  Sanity checking: disabled\n",
      "  Assertions: disabled\n",
      "  Random seed: 0\n",
      "  Sizeofs: void*:8, int:4, long:8, size_t:8\n",
      "Input files DNA, FASTA:\n",
      "  ../GCF_000001405.33_GRCh38.p7_chr20_genomic.fna\n",
      "Building a SMALL index\n",
      "Reading reference sizes\n",
      "  Time reading reference sizes: 00:00:01\n",
      "Calculating joined length\n",
      "Writing header\n",
      "Reserving space for joined string\n",
      "Joining reference sequences\n",
      "  Time to join reference sequences: 00:00:00\n",
      "bmax according to bmaxDivN setting: 15986064\n",
      "Using parameters --bmax 11989548 --dcv 1024\n",
      "  Doing ahead-of-time memory usage test\n",
      "  Passed!  Constructing with these parameters: --bmax 11989548 --dcv 1024\n",
      "Constructing suffix-array element generator\n",
      "Building DifferenceCoverSample\n",
      "  Building sPrime\n",
      "  Building sPrimeOrder\n",
      "  V-Sorting samples\n",
      "  V-Sorting samples time: 00:00:01\n",
      "  Allocating rank array\n",
      "  Ranking v-sort output\n",
      "  Ranking v-sort output time: 00:00:01\n",
      "  Invoking Larsson-Sadakane on ranks\n",
      "  Invoking Larsson-Sadakane on ranks time: 00:00:00\n",
      "  Sanity-checking and returning\n",
      "Building samples\n",
      "Reserving space for 12 sample suffixes\n",
      "Generating random suffixes\n",
      "QSorting 12 sample offsets, eliminating duplicates\n",
      "QSorting sample offsets, eliminating duplicates time: 00:00:00\n",
      "Multikey QSorting 12 samples\n",
      "  (Using difference cover)\n",
      "  Multikey QSorting samples time: 00:00:00\n",
      "Calculating bucket sizes\n",
      "Splitting and merging\n",
      "  Splitting and merging time: 00:00:00\n",
      "Avg bucket size: 6.39443e+07 (target: 11989547)\n",
      "Converting suffix-array elements to index image\n",
      "Allocating ftab, absorbFtab\n",
      "Entering Ebwt loop\n",
      "Getting block 1 of 1\n",
      "  No samples; assembling all-inclusive block\n",
      "  Sorting block of length 63944257 for bucket 1\n",
      "  (Using difference cover)\n",
      "  Sorting block time: 00:00:22\n",
      "Returning block of 63944258 for bucket 1\n",
      "Exited Ebwt loop\n",
      "fchr[A]: 0\n",
      "fchr[C]: 17867246\n",
      "fchr[G]: 31783379\n",
      "fchr[T]: 45877851\n",
      "fchr[$]: 63944257\n",
      "Exiting Ebwt::buildToDisk()\n",
      "Returning from initFromVector\n",
      "Wrote 25510344 bytes to primary EBWT file: hg38_chr20_bowtie2.1.bt2\n",
      "Wrote 15986072 bytes to secondary EBWT file: hg38_chr20_bowtie2.2.bt2\n",
      "Re-opening _in1 and _in2 as input streams\n",
      "Returning from Ebwt constructor\n",
      "Headers:\n",
      "    len: 63944257\n",
      "    bwtLen: 63944258\n",
      "    sz: 15986065\n",
      "    bwtSz: 15986065\n",
      "    lineRate: 6\n",
      "    offRate: 4\n",
      "    offMask: 0xfffffff0\n",
      "    ftabChars: 10\n",
      "    eftabLen: 20\n",
      "    eftabSz: 80\n",
      "    ftabLen: 1048577\n",
      "    ftabSz: 4194308\n",
      "    offsLen: 3996517\n",
      "    offsSz: 15986068\n",
      "    lineSz: 64\n",
      "    sideSz: 64\n",
      "    sideBwtSz: 48\n",
      "    sideBwtLen: 192\n",
      "    numSides: 333044\n",
      "    numLines: 333044\n",
      "    ebwtTotLen: 21314816\n",
      "    ebwtTotSz: 21314816\n",
      "    color: 0\n",
      "    reverse: 0\n",
      "Total time for call to driver() for forward index: 00:00:32\n",
      "Reading reference sizes\n",
      "  Time reading reference sizes: 00:00:01\n",
      "Calculating joined length\n",
      "Writing header\n",
      "Reserving space for joined string\n",
      "Joining reference sequences\n",
      "  Time to join reference sequences: 00:00:00\n",
      "  Time to reverse reference sequence: 00:00:00\n",
      "bmax according to bmaxDivN setting: 15986064\n",
      "Using parameters --bmax 11989548 --dcv 1024\n",
      "  Doing ahead-of-time memory usage test\n",
      "  Passed!  Constructing with these parameters: --bmax 11989548 --dcv 1024\n",
      "Constructing suffix-array element generator\n",
      "Building DifferenceCoverSample\n",
      "  Building sPrime\n",
      "  Building sPrimeOrder\n",
      "  V-Sorting samples\n",
      "  V-Sorting samples time: 00:00:01\n",
      "  Allocating rank array\n",
      "  Ranking v-sort output\n",
      "  Ranking v-sort output time: 00:00:00\n",
      "  Invoking Larsson-Sadakane on ranks\n",
      "  Invoking Larsson-Sadakane on ranks time: 00:00:01\n",
      "  Sanity-checking and returning\n",
      "Building samples\n",
      "Reserving space for 12 sample suffixes\n",
      "Generating random suffixes\n",
      "QSorting 12 sample offsets, eliminating duplicates\n",
      "QSorting sample offsets, eliminating duplicates time: 00:00:00\n",
      "Multikey QSorting 12 samples\n",
      "  (Using difference cover)\n",
      "  Multikey QSorting samples time: 00:00:00\n",
      "Calculating bucket sizes\n",
      "Splitting and merging\n",
      "  Splitting and merging time: 00:00:00\n",
      "Avg bucket size: 6.39443e+07 (target: 11989547)\n",
      "Converting suffix-array elements to index image\n",
      "Allocating ftab, absorbFtab\n",
      "Entering Ebwt loop\n",
      "Getting block 1 of 1\n",
      "  No samples; assembling all-inclusive block\n",
      "  Sorting block of length 63944257 for bucket 1\n",
      "  (Using difference cover)\n",
      "  Sorting block time: 00:00:22\n",
      "Returning block of 63944258 for bucket 1\n",
      "Exited Ebwt loop\n",
      "fchr[A]: 0\n",
      "fchr[C]: 17867246\n",
      "fchr[G]: 31783379\n",
      "fchr[T]: 45877851\n",
      "fchr[$]: 63944257\n",
      "Exiting Ebwt::buildToDisk()\n",
      "Returning from initFromVector\n",
      "Wrote 25510344 bytes to primary EBWT file: hg38_chr20_bowtie2.rev.1.bt2\n",
      "Wrote 15986072 bytes to secondary EBWT file: hg38_chr20_bowtie2.rev.2.bt2\n",
      "Re-opening _in1 and _in2 as input streams\n",
      "Returning from Ebwt constructor\n",
      "Headers:\n",
      "    len: 63944257\n",
      "    bwtLen: 63944258\n",
      "    sz: 15986065\n",
      "    bwtSz: 15986065\n",
      "    lineRate: 6\n",
      "    offRate: 4\n",
      "    offMask: 0xfffffff0\n",
      "    ftabChars: 10\n",
      "    eftabLen: 20\n",
      "    eftabSz: 80\n",
      "    ftabLen: 1048577\n",
      "    ftabSz: 4194308\n",
      "    offsLen: 3996517\n",
      "    offsSz: 15986068\n",
      "    lineSz: 64\n",
      "    sideSz: 64\n",
      "    sideBwtSz: 48\n",
      "    sideBwtLen: 192\n",
      "    numSides: 333044\n",
      "    numLines: 333044\n",
      "    ebwtTotLen: 21314816\n",
      "    ebwtTotSz: 21314816\n",
      "    color: 0\n",
      "    reverse: 1\n",
      "Total time for backward call to driver() for mirror index: 00:00:33\n"
     ]
    }
   ],
   "source": [
    "bowtie2-build ../GCF_000001405.33_GRCh38.p7_chr20_genomic.fna hg38_chr20_bowtie2"
   ]
  },
  {
   "cell_type": "code",
   "execution_count": 46,
   "metadata": {},
   "outputs": [
    {
     "name": "stdout",
     "output_type": "stream",
     "text": [
      "bash: cd: too many arguments\n"
     ]
    },
    {
     "ename": "",
     "evalue": "1",
     "output_type": "error",
     "traceback": []
    }
   ],
   "source": [
    "cd ../ ../"
   ]
  },
  {
   "cell_type": "code",
   "execution_count": 47,
   "metadata": {},
   "outputs": [
    {
     "name": "stdout",
     "output_type": "stream",
     "text": [
      "/scratch/td2201/ap_gl_recitation/week4/data/hg38_chr20_bowtie2\n"
     ]
    }
   ],
   "source": [
    "pwd"
   ]
  },
  {
   "cell_type": "code",
   "execution_count": 48,
   "metadata": {},
   "outputs": [],
   "source": [
    "cd ../"
   ]
  },
  {
   "cell_type": "code",
   "execution_count": 49,
   "metadata": {},
   "outputs": [
    {
     "name": "stdout",
     "output_type": "stream",
     "text": [
      "bash: cd../: No such file or directory\n"
     ]
    },
    {
     "ename": "",
     "evalue": "127",
     "output_type": "error",
     "traceback": []
    }
   ],
   "source": [
    "cd../"
   ]
  },
  {
   "cell_type": "code",
   "execution_count": 50,
   "metadata": {},
   "outputs": [
    {
     "name": "stdout",
     "output_type": "stream",
     "text": [
      "/scratch/td2201/ap_gl_recitation/week4/data\n"
     ]
    }
   ],
   "source": [
    "pwd"
   ]
  },
  {
   "cell_type": "code",
   "execution_count": 51,
   "metadata": {},
   "outputs": [
    {
     "name": "stdout",
     "output_type": "stream",
     "text": [
      "bash: cd: week4/: No such file or directory\n"
     ]
    },
    {
     "ename": "",
     "evalue": "1",
     "output_type": "error",
     "traceback": []
    }
   ],
   "source": [
    "cd week4/"
   ]
  },
  {
   "cell_type": "code",
   "execution_count": 52,
   "metadata": {},
   "outputs": [],
   "source": [
    "cd /scratch/td2201/ap_gl_recitation/week4/"
   ]
  },
  {
   "cell_type": "code",
   "execution_count": 53,
   "metadata": {},
   "outputs": [
    {
     "name": "stdout",
     "output_type": "stream",
     "text": [
      "/scratch/td2201/ap_gl_recitation/week4\n"
     ]
    }
   ],
   "source": [
    "pwd"
   ]
  },
  {
   "cell_type": "code",
   "execution_count": 54,
   "metadata": {},
   "outputs": [],
   "source": [
    "mkdir result/bowtie2"
   ]
  },
  {
   "cell_type": "code",
   "execution_count": 55,
   "metadata": {},
   "outputs": [
    {
     "name": "stdout",
     "output_type": "stream",
     "text": [
      "97206 reads; of these:\n",
      "  97206 (100.00%) were paired; of these:\n",
      "    1478 (1.52%) aligned concordantly 0 times\n",
      "    66192 (68.09%) aligned concordantly exactly 1 time\n",
      "    29536 (30.38%) aligned concordantly >1 times\n",
      "    ----\n",
      "    1478 pairs aligned concordantly 0 times; of these:\n",
      "      35 (2.37%) aligned discordantly 1 time\n",
      "    ----\n",
      "    1443 pairs aligned 0 times concordantly or discordantly; of these:\n",
      "      2886 mates make up the pairs; of these:\n",
      "        1510 (52.32%) aligned 0 times\n",
      "        904 (31.32%) aligned exactly 1 time\n",
      "        472 (16.35%) aligned >1 times\n",
      "99.22% overall alignment rate\n"
     ]
    }
   ],
   "source": [
    "bowtie2 -p 2 \\\n",
    "        -x data/hg38_chr20_bowtie2/hg38_chr20_bowtie2 \\\n",
    "        -1 data/read_1.fastq -2 data/read_2.fastq -S result/bowtie2/bowtie2.sam"
   ]
  },
  {
   "cell_type": "code",
   "execution_count": 56,
   "metadata": {},
   "outputs": [],
   "source": [
    "samtools view -S -b result/bowtie2/bowtie2.sam > result/bowtie2/bowtie2.bam"
   ]
  },
  {
   "cell_type": "code",
   "execution_count": 57,
   "metadata": {},
   "outputs": [],
   "source": [
    "samtools sort result/bowtie2/bowtie2.bam -o result/bowtie2/bowtie2_sorted.bam"
   ]
  },
  {
   "cell_type": "code",
   "execution_count": 58,
   "metadata": {},
   "outputs": [
    {
     "name": "stdout",
     "output_type": "stream",
     "text": [
      "194412 + 0 in total (QC-passed reads + QC-failed reads)\n",
      "0 + 0 secondary\n",
      "0 + 0 supplementary\n",
      "0 + 0 duplicates\n",
      "192902 + 0 mapped (99.22% : N/A)\n",
      "194412 + 0 paired in sequencing\n",
      "97206 + 0 read1\n",
      "97206 + 0 read2\n",
      "191456 + 0 properly paired (98.48% : N/A)\n",
      "191710 + 0 with itself and mate mapped\n",
      "1192 + 0 singletons (0.61% : N/A)\n",
      "0 + 0 with mate mapped to a different chr\n",
      "0 + 0 with mate mapped to a different chr (mapQ>=5)\n"
     ]
    }
   ],
   "source": [
    "samtools flagstats result/bowtie2/bowtie2_sorted.bam"
   ]
  },
  {
   "cell_type": "code",
   "execution_count": null,
   "metadata": {},
   "outputs": [],
   "source": []
  }
 ],
 "metadata": {
  "kernelspec": {
   "display_name": "Bash",
   "language": "bash",
   "name": "bash"
  },
  "language_info": {
   "codemirror_mode": "shell",
   "file_extension": ".sh",
   "mimetype": "text/x-sh",
   "name": "bash"
  }
 },
 "nbformat": 4,
 "nbformat_minor": 4
}
